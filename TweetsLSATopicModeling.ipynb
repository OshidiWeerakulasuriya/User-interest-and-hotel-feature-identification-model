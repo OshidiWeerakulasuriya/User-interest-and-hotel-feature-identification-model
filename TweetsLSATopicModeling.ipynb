{
  "nbformat": 4,
  "nbformat_minor": 0,
  "metadata": {
    "colab": {
      "name": "TweetsLSATopicModeling.ipynb",
      "provenance": [],
      "toc_visible": true,
      "mount_file_id": "137HmJk7PVOonL37jEx2aKG3dWm5MRHBB",
      "authorship_tag": "ABX9TyMw3BAtC/JMUjop69GHd+YF",
      "include_colab_link": true
    },
    "kernelspec": {
      "name": "python3",
      "display_name": "Python 3"
    }
  },
  "cells": [
    {
      "cell_type": "markdown",
      "metadata": {
        "id": "view-in-github",
        "colab_type": "text"
      },
      "source": [
        "<a href=\"https://colab.research.google.com/github/OshidiWeerakulasuriya/User-interest-and-hotel-feature-identification-model/blob/main/TweetsLSATopicModeling.ipynb\" target=\"_parent\"><img src=\"https://colab.research.google.com/assets/colab-badge.svg\" alt=\"Open In Colab\"/></a>"
      ]
    },
    {
      "cell_type": "markdown",
      "metadata": {
        "id": "xyWE_K4ENofx"
      },
      "source": [
        "Github ref for this code - https://github.com/jayfeng1/hostel_reviews_nltk/blob/master/hostel_review.py"
      ]
    },
    {
      "cell_type": "code",
      "metadata": {
        "id": "6GKYHjmQDEzD"
      },
      "source": [
        "# MONKEYLEARN SETTINGS\n",
        "# Put here your MonkeyLearn API token\n",
        "MONKEYLEARN_TOKEN = '17eda6bd29bc6a7d72736ace1ed2e89623104143'"
      ],
      "execution_count": null,
      "outputs": []
    },
    {
      "cell_type": "markdown",
      "metadata": {
        "id": "1plFSymuDYP7"
      },
      "source": [
        ""
      ]
    },
    {
      "cell_type": "code",
      "metadata": {
        "id": "WtutqtH6DYpe"
      },
      "source": [
        "amenities = {\n",
        "'wifi':      ['wifi','internet','wi-fi', 'wi fi', 'wireless'],\n",
        "'breakfast': ['breakfast', 'breakfest', 'break fast', 'brunch'],\n",
        "'bathroom':  ['bathroom', 'bath room', 'bath', 'restroom', 'toilet', \n",
        "              'urinal', 'lavatory', 'washroom'],\n",
        "'shower':    ['shower', 'bathe', 'showers'],\n",
        "'noise':     ['noise', 'noisy', 'quiet', 'loud', 'silent']\n",
        "}"
      ],
      "execution_count": null,
      "outputs": []
    },
    {
      "cell_type": "code",
      "metadata": {
        "id": "aWYsru7ZIqYV"
      },
      "source": [
        "import re\n",
        "\n",
        "def count_amenities(hostel, key):\n",
        "    \"\"\" If key/amenity found in review, apply phrase in key column \"\"\"\n",
        "    hostel[key] = hostel.apply(lambda x: \n",
        "        get_key_sentence(x['review'], amenities[key]), axis=1)\n",
        "    return hostel\n",
        "    \n",
        "def get_key_sentence(x, key_list):\n",
        "    \"\"\"Passes in a review and a bag of words associated with the key\n",
        "       Returns a sentence in the review containing one or more of the bag of words\n",
        "    \"\"\"\n",
        "    delimiters = ',', '.', ';', '!', '?'\n",
        "    sentences = split(delimiters, x, maxsplit=0)\n",
        "    for sent in sentences: \n",
        "        for word in sent.split(): #loop through words in phrase\n",
        "            if word.lower() in key_list:\n",
        "                return sent.lower().strip() #return phrase\n",
        "\n",
        "def split(delimiters, string, maxsplit=0):\n",
        "    \"\"\" Takes in comma separated delimiters and splits paragraph string\n",
        "        into a list of phrases \"\"\"\n",
        "    regexPattern = '|'.join(map(re.escape, delimiters))\n",
        "    return re.split(regexPattern, string, maxsplit)"
      ],
      "execution_count": null,
      "outputs": []
    },
    {
      "cell_type": "code",
      "metadata": {
        "colab": {
          "base_uri": "https://localhost:8080/",
          "height": 212
        },
        "id": "6DWmJ4DXIuPM",
        "outputId": "22041a7e-cadf-4b9f-e38c-cc68cdc50718"
      },
      "source": [
        "import numpy as np  \n",
        "from textblob import TextBlob\n",
        "import nltk\n",
        "from nltk.util import ngrams\n",
        "from nltk.collocations import *\n",
        "from collections import Counter\n",
        "\n",
        "#subset = hostel.dropna() #drop reviews not mentioning key\n",
        "#subset.reset_index(inplace=True) \n",
        "\n",
        "#Apply sentiment values to each phrase \n",
        "subset['sentiment'] = subset[key].apply(lambda x: \n",
        "    TextBlob(x).sentiment.polarity)"
      ],
      "execution_count": null,
      "outputs": [
        {
          "output_type": "error",
          "ename": "NameError",
          "evalue": "ignored",
          "traceback": [
            "\u001b[0;31m---------------------------------------------------------------------------\u001b[0m",
            "\u001b[0;31mNameError\u001b[0m                                 Traceback (most recent call last)",
            "\u001b[0;32m<ipython-input-4-517deae2673e>\u001b[0m in \u001b[0;36m<module>\u001b[0;34m()\u001b[0m\n\u001b[1;32m     10\u001b[0m \u001b[0;34m\u001b[0m\u001b[0m\n\u001b[1;32m     11\u001b[0m \u001b[0;31m#Apply sentiment values to each phrase\u001b[0m\u001b[0;34m\u001b[0m\u001b[0;34m\u001b[0m\u001b[0;34m\u001b[0m\u001b[0m\n\u001b[0;32m---> 12\u001b[0;31m subset['sentiment'] = subset[key].apply(lambda x: \n\u001b[0m\u001b[1;32m     13\u001b[0m     TextBlob(x).sentiment.polarity)\n",
            "\u001b[0;31mNameError\u001b[0m: name 'subset' is not defined"
          ]
        }
      ]
    },
    {
      "cell_type": "code",
      "metadata": {
        "id": "wE_hDGrdI0lY"
      },
      "source": [
        "import pandas as pd\r\n",
        "import numpy as np\r\n",
        "import matplotlib.pyplot as plt\r\n",
        "import pickle\r\n",
        "\r\n",
        "from collections import Counter\r\n",
        "\r\n",
        "from os import path\r\n",
        "from PIL import Image\r\n",
        "from wordcloud import WordCloud, STOPWORDS, ImageColorGenerator\r\n",
        "import random\r\n",
        "\r\n",
        "from sklearn.feature_extraction.text import CountVectorizer \r\n",
        "from sklearn.feature_extraction.text import TfidfVectorizer\r\n",
        "from sklearn.decomposition import TruncatedSVD\r\n",
        "from sklearn.decomposition import NMF\r\n",
        "from sklearn.metrics.pairwise import cosine_similarity\r\n",
        "from sklearn.feature_extraction import text\r\n",
        "\r\n",
        "import gensim\r\n",
        "import nltk\r\n",
        "from nltk.stem.wordnet import WordNetLemmatizer\r\n",
        "from nltk.corpus import stopwords\r\n",
        "from nltk.corpus import wordnet as wn"
      ],
      "execution_count": 2,
      "outputs": []
    },
    {
      "cell_type": "code",
      "metadata": {
        "colab": {
          "base_uri": "https://localhost:8080/"
        },
        "id": "8rCRM1rwrm_p",
        "outputId": "ce0c6b2f-c51e-4167-b06f-6e7adafeabbc"
      },
      "source": [
        "nltk.download('wordnet')\r\n"
      ],
      "execution_count": 3,
      "outputs": [
        {
          "output_type": "stream",
          "text": [
            "[nltk_data] Downloading package wordnet to /root/nltk_data...\n",
            "[nltk_data]   Unzipping corpora/wordnet.zip.\n"
          ],
          "name": "stdout"
        },
        {
          "output_type": "execute_result",
          "data": {
            "text/plain": [
              "True"
            ]
          },
          "metadata": {
            "tags": []
          },
          "execution_count": 3
        }
      ]
    },
    {
      "cell_type": "code",
      "metadata": {
        "id": "XSFY3tXcrsE-"
      },
      "source": [
        "convosdf = pd.read_csv(\"/content/drive/MyDrive/Colab Notebooks/TwitterData/Kalanasw_tweets.csv\")"
      ],
      "execution_count": 8,
      "outputs": []
    },
    {
      "cell_type": "code",
      "metadata": {
        "id": "O16o0XuOsHrX"
      },
      "source": [
        "\r\n",
        "regex =\"\\B@\\w+\"\r\n",
        "convosdf.text = convosdf.text.str.replace(regex, '')"
      ],
      "execution_count": 9,
      "outputs": []
    },
    {
      "cell_type": "code",
      "metadata": {
        "id": "Kwzj3Ke-sLiM"
      },
      "source": [
        "regex =\"http\\S+\"\r\n",
        "convosdf.text = convosdf.text.str.replace(regex, '')"
      ],
      "execution_count": 10,
      "outputs": []
    },
    {
      "cell_type": "code",
      "metadata": {
        "colab": {
          "base_uri": "https://localhost:8080/",
          "height": 195
        },
        "id": "JcePZAcrsPMY",
        "outputId": "a5bdf12c-7361-469d-c459-b6c0d25953ae"
      },
      "source": [
        "convosdf.head()\r\n"
      ],
      "execution_count": 11,
      "outputs": [
        {
          "output_type": "execute_result",
          "data": {
            "text/html": [
              "<div>\n",
              "<style scoped>\n",
              "    .dataframe tbody tr th:only-of-type {\n",
              "        vertical-align: middle;\n",
              "    }\n",
              "\n",
              "    .dataframe tbody tr th {\n",
              "        vertical-align: top;\n",
              "    }\n",
              "\n",
              "    .dataframe thead th {\n",
              "        text-align: right;\n",
              "    }\n",
              "</style>\n",
              "<table border=\"1\" class=\"dataframe\">\n",
              "  <thead>\n",
              "    <tr style=\"text-align: right;\">\n",
              "      <th></th>\n",
              "      <th>id</th>\n",
              "      <th>created_at</th>\n",
              "      <th>text</th>\n",
              "    </tr>\n",
              "  </thead>\n",
              "  <tbody>\n",
              "    <tr>\n",
              "      <th>0</th>\n",
              "      <td>1324992654183174144</td>\n",
              "      <td>2020-11-07 08:30:40</td>\n",
              "      <td>South Coast of Sri Lanka\\n#dikwella\\n\\n#srilan...</td>\n",
              "    </tr>\n",
              "    <tr>\n",
              "      <th>1</th>\n",
              "      <td>1318205401712726016</td>\n",
              "      <td>2020-10-19 15:00:33</td>\n",
              "      <td>#sunset #aesthetics #beach\\nSong: Jeremy Zucke...</td>\n",
              "    </tr>\n",
              "    <tr>\n",
              "      <th>2</th>\n",
              "      <td>1317801656566927360</td>\n",
              "      <td>2020-10-18 12:16:13</td>\n",
              "      <td>Just posted a video @ Sri Lanka</td>\n",
              "    </tr>\n",
              "    <tr>\n",
              "      <th>3</th>\n",
              "      <td>1310094970859278337</td>\n",
              "      <td>2020-09-27 05:52:36</td>\n",
              "      <td>#FromWhereIDrone #behindthescenes #djimavicair...</td>\n",
              "    </tr>\n",
              "    <tr>\n",
              "      <th>4</th>\n",
              "      <td>1309867393447936000</td>\n",
              "      <td>2020-09-26 14:48:17</td>\n",
              "      <td>Just posted a photo @ දික්වැල්ල</td>\n",
              "    </tr>\n",
              "  </tbody>\n",
              "</table>\n",
              "</div>"
            ],
            "text/plain": [
              "                    id  ...                                               text\n",
              "0  1324992654183174144  ...  South Coast of Sri Lanka\\n#dikwella\\n\\n#srilan...\n",
              "1  1318205401712726016  ...  #sunset #aesthetics #beach\\nSong: Jeremy Zucke...\n",
              "2  1317801656566927360  ...                   Just posted a video @ Sri Lanka \n",
              "3  1310094970859278337  ...  #FromWhereIDrone #behindthescenes #djimavicair...\n",
              "4  1309867393447936000  ...                   Just posted a photo @ දික්වැල්ල \n",
              "\n",
              "[5 rows x 3 columns]"
            ]
          },
          "metadata": {
            "tags": []
          },
          "execution_count": 11
        }
      ]
    },
    {
      "cell_type": "code",
      "metadata": {
        "id": "xyKo8SKRsbeJ"
      },
      "source": [
        "# removing everything except alphabets`\r\n",
        "convosdf['clean_text'] = convosdf['text'].str.replace(\"[^a-zA-Z#]\", \" \")\r\n",
        "\r\n",
        "# removing short words\r\n",
        "convosdf['clean_text'] = convosdf['clean_text'].apply(lambda x: ' '.join([w for w in x.split() if len(w)>3]))\r\n",
        "\r\n",
        "# make all text lowercase\r\n",
        "convosdf['clean_text'] = convosdf['clean_text'].apply(lambda x: x.lower())"
      ],
      "execution_count": 12,
      "outputs": []
    },
    {
      "cell_type": "code",
      "metadata": {
        "id": "a7-TTs2FsfgK"
      },
      "source": [
        "convos = convosdf.clean_text.tolist()\r\n"
      ],
      "execution_count": 13,
      "outputs": []
    },
    {
      "cell_type": "code",
      "metadata": {
        "id": "ge9hHlmXskdK"
      },
      "source": [
        "def sent_to_words(sentences):\r\n",
        "    for sentence in sentences:\r\n",
        "        yield(gensim.utils.simple_preprocess(str(sentence), deacc=True))\r\n",
        "        \r\n",
        "split_convos = list(sent_to_words(convos))"
      ],
      "execution_count": 14,
      "outputs": []
    },
    {
      "cell_type": "code",
      "metadata": {
        "id": "Mw3ZLHdFsoMh"
      },
      "source": [
        "all_words = [word for convo in split_convos for word in convo]\r\n",
        "\r\n",
        "for word in all_words:\r\n",
        "    word = word.lower()"
      ],
      "execution_count": 15,
      "outputs": []
    },
    {
      "cell_type": "code",
      "metadata": {
        "id": "mJP82tHvsr1X"
      },
      "source": [
        "def get_lemma(word):\r\n",
        "    lemma = wn.morphy(word)\r\n",
        "    if lemma is None:\r\n",
        "        return word\r\n",
        "    else:\r\n",
        "        return lemma"
      ],
      "execution_count": 16,
      "outputs": []
    },
    {
      "cell_type": "code",
      "metadata": {
        "colab": {
          "base_uri": "https://localhost:8080/"
        },
        "id": "vEgfr_OIsvkB",
        "outputId": "65ea1eee-e1b5-4d36-d596-41c97b969213"
      },
      "source": [
        "nltk.download('stopwords')\r\n",
        "\r\n",
        "domain_stopwords = ['thank', 'dm', 'issue', 'app', 'order', 'phone', 'number', 'account', 'service', 'time',\r\n",
        "                    'link', 'apology', 'direct_message', 'thanks', 'help', 'email', 'sorry', 'team', 'issues',\r\n",
        "                    'just', 'like', 'hello', 'assist', 'want', 'know', 'idea', 'details', 'check', 'look', \r\n",
        "                    'make', 'need', 'soon', 'check', 'send', 'private', 'message', 'kindly', 'rgds', 'still', \r\n",
        "                    'customer', 'regard', 'please', 'would']\r\n",
        "\r\n",
        "english_stopwords = stopwords.words('english')\r\n",
        "\r\n",
        "clean_convos = []\r\n",
        "\r\n",
        "for convo in split_convos:\r\n",
        "    no_stop = [word for word in convo if word not in english_stopwords]\r\n",
        "    \r\n",
        "    no_domain = [word for word in no_stop if word not in domain_stopwords]\r\n",
        "\r\n",
        "    clean_words = [get_lemma(word) for word in no_domain]\r\n",
        "    \r\n",
        "    clean_convos.append(clean_words)"
      ],
      "execution_count": 18,
      "outputs": [
        {
          "output_type": "stream",
          "text": [
            "[nltk_data] Downloading package stopwords to /root/nltk_data...\n",
            "[nltk_data]   Unzipping corpora/stopwords.zip.\n"
          ],
          "name": "stdout"
        }
      ]
    },
    {
      "cell_type": "code",
      "metadata": {
        "colab": {
          "base_uri": "https://localhost:8080/"
        },
        "id": "RPeWowjFs4az",
        "outputId": "aa78f8c8-200a-4c1e-f3cf-0b6bc8990b89"
      },
      "source": [
        "vectorizer = CountVectorizer(min_df=0.005, max_df=0.995, tokenizer=lambda doc: doc, lowercase=False)\r\n",
        "\r\n",
        "doc_word = vectorizer.fit_transform(clean_convos)\r\n",
        "doc_word.toarray().shape\r\n"
      ],
      "execution_count": 19,
      "outputs": [
        {
          "output_type": "execute_result",
          "data": {
            "text/plain": [
              "(3240, 53)"
            ]
          },
          "metadata": {
            "tags": []
          },
          "execution_count": 19
        }
      ]
    },
    {
      "cell_type": "code",
      "metadata": {
        "colab": {
          "base_uri": "https://localhost:8080/"
        },
        "id": "LtppH_7jszU_",
        "outputId": "16e10d0d-8a5e-4b93-e4d6-27973956262f"
      },
      "source": [
        "len(vectorizer.get_feature_names())\r\n"
      ],
      "execution_count": 20,
      "outputs": [
        {
          "output_type": "execute_result",
          "data": {
            "text/plain": [
              "53"
            ]
          },
          "metadata": {
            "tags": []
          },
          "execution_count": 20
        }
      ]
    },
    {
      "cell_type": "code",
      "metadata": {
        "colab": {
          "base_uri": "https://localhost:8080/"
        },
        "id": "62EbPdCMs_mZ",
        "outputId": "5b9e3c64-88ef-4950-f258-015882e4aa03"
      },
      "source": [
        "lsa = TruncatedSVD(5)\r\n",
        "doc_topic = lsa.fit_transform(doc_word)\r\n",
        "lsa.explained_variance_ratio_"
      ],
      "execution_count": 21,
      "outputs": [
        {
          "output_type": "execute_result",
          "data": {
            "text/plain": [
              "array([0.46947107, 0.05639886, 0.05235616, 0.03132707, 0.02451829])"
            ]
          },
          "metadata": {
            "tags": []
          },
          "execution_count": 21
        }
      ]
    },
    {
      "cell_type": "code",
      "metadata": {
        "colab": {
          "base_uri": "https://localhost:8080/",
          "height": 215
        },
        "id": "2h5XBK3-tEFq",
        "outputId": "a5d8b5f8-eab1-4a7d-945f-ad64a689eb47"
      },
      "source": [
        "topic_word = pd.DataFrame(lsa.components_.round(3),\r\n",
        "             index = [\"component_1\",\"component_2\", \"component_3\", \"component_4\", \"component_5\"], columns = vectorizer.get_feature_names())\r\n",
        "topic_word"
      ],
      "execution_count": 22,
      "outputs": [
        {
          "output_type": "execute_result",
          "data": {
            "text/html": [
              "<div>\n",
              "<style scoped>\n",
              "    .dataframe tbody tr th:only-of-type {\n",
              "        vertical-align: middle;\n",
              "    }\n",
              "\n",
              "    .dataframe tbody tr th {\n",
              "        vertical-align: top;\n",
              "    }\n",
              "\n",
              "    .dataframe thead th {\n",
              "        text-align: right;\n",
              "    }\n",
              "</style>\n",
              "<table border=\"1\" class=\"dataframe\">\n",
              "  <thead>\n",
              "    <tr style=\"text-align: right;\">\n",
              "      <th></th>\n",
              "      <th>avenger</th>\n",
              "      <th>battle</th>\n",
              "      <th>beach</th>\n",
              "      <th>behind</th>\n",
              "      <th>best</th>\n",
              "      <th>dickwella</th>\n",
              "      <th>djispark</th>\n",
              "      <th>drone</th>\n",
              "      <th>dronevideo</th>\n",
              "      <th>eminem</th>\n",
              "      <th>epic</th>\n",
              "      <th>explain</th>\n",
              "      <th>facebook</th>\n",
              "      <th>first</th>\n",
              "      <th>full</th>\n",
              "      <th>game</th>\n",
              "      <th>gopro</th>\n",
              "      <th>infinity</th>\n",
              "      <th>iphone</th>\n",
              "      <th>koombiyo</th>\n",
              "      <th>lanka</th>\n",
              "      <th>like</th>\n",
              "      <th>live</th>\n",
              "      <th>lyric</th>\n",
              "      <th>marvel</th>\n",
              "      <th>movie</th>\n",
              "      <th>music</th>\n",
              "      <th>nature</th>\n",
              "      <th>netflix</th>\n",
              "      <th>official</th>\n",
              "      <th>part</th>\n",
              "      <th>photo</th>\n",
              "      <th>photography</th>\n",
              "      <th>photooftheday</th>\n",
              "      <th>photoshop</th>\n",
              "      <th>post</th>\n",
              "      <th>scene</th>\n",
              "      <th>sea</th>\n",
              "      <th>season</th>\n",
              "      <th>sky</th>\n",
              "      <th>song</th>\n",
              "      <th>spider</th>\n",
              "      <th>srilanka</th>\n",
              "      <th>sunset</th>\n",
              "      <th>teaser</th>\n",
              "      <th>throne</th>\n",
              "      <th>trailer</th>\n",
              "      <th>travel</th>\n",
              "      <th>travelgram</th>\n",
              "      <th>version</th>\n",
              "      <th>video</th>\n",
              "      <th>vlog</th>\n",
              "      <th>watching</th>\n",
              "    </tr>\n",
              "  </thead>\n",
              "  <tbody>\n",
              "    <tr>\n",
              "      <th>component_1</th>\n",
              "      <td>0.010</td>\n",
              "      <td>0.009</td>\n",
              "      <td>0.003</td>\n",
              "      <td>0.015</td>\n",
              "      <td>0.012</td>\n",
              "      <td>0.002</td>\n",
              "      <td>0.001</td>\n",
              "      <td>0.009</td>\n",
              "      <td>0.002</td>\n",
              "      <td>0.028</td>\n",
              "      <td>0.009</td>\n",
              "      <td>0.010</td>\n",
              "      <td>0.008</td>\n",
              "      <td>0.008</td>\n",
              "      <td>0.011</td>\n",
              "      <td>0.017</td>\n",
              "      <td>0.008</td>\n",
              "      <td>0.011</td>\n",
              "      <td>0.013</td>\n",
              "      <td>0.007</td>\n",
              "      <td>0.015</td>\n",
              "      <td>0.654</td>\n",
              "      <td>0.015</td>\n",
              "      <td>0.013</td>\n",
              "      <td>0.009</td>\n",
              "      <td>0.015</td>\n",
              "      <td>0.033</td>\n",
              "      <td>0.000</td>\n",
              "      <td>0.009</td>\n",
              "      <td>0.093</td>\n",
              "      <td>0.008</td>\n",
              "      <td>0.001</td>\n",
              "      <td>0.001</td>\n",
              "      <td>0.000</td>\n",
              "      <td>0.001</td>\n",
              "      <td>0.019</td>\n",
              "      <td>0.013</td>\n",
              "      <td>0.000</td>\n",
              "      <td>0.010</td>\n",
              "      <td>0.000</td>\n",
              "      <td>0.022</td>\n",
              "      <td>0.013</td>\n",
              "      <td>0.002</td>\n",
              "      <td>0.001</td>\n",
              "      <td>0.014</td>\n",
              "      <td>0.013</td>\n",
              "      <td>0.064</td>\n",
              "      <td>0.006</td>\n",
              "      <td>0.000</td>\n",
              "      <td>0.008</td>\n",
              "      <td>0.744</td>\n",
              "      <td>0.004</td>\n",
              "      <td>0.002</td>\n",
              "    </tr>\n",
              "    <tr>\n",
              "      <th>component_2</th>\n",
              "      <td>-0.009</td>\n",
              "      <td>-0.000</td>\n",
              "      <td>0.428</td>\n",
              "      <td>0.002</td>\n",
              "      <td>0.010</td>\n",
              "      <td>0.176</td>\n",
              "      <td>0.103</td>\n",
              "      <td>0.084</td>\n",
              "      <td>0.097</td>\n",
              "      <td>0.000</td>\n",
              "      <td>0.000</td>\n",
              "      <td>0.001</td>\n",
              "      <td>0.005</td>\n",
              "      <td>0.004</td>\n",
              "      <td>0.023</td>\n",
              "      <td>-0.006</td>\n",
              "      <td>0.204</td>\n",
              "      <td>-0.009</td>\n",
              "      <td>0.001</td>\n",
              "      <td>-0.000</td>\n",
              "      <td>0.226</td>\n",
              "      <td>-0.015</td>\n",
              "      <td>0.011</td>\n",
              "      <td>-0.002</td>\n",
              "      <td>-0.010</td>\n",
              "      <td>-0.007</td>\n",
              "      <td>-0.002</td>\n",
              "      <td>0.251</td>\n",
              "      <td>-0.009</td>\n",
              "      <td>-0.087</td>\n",
              "      <td>0.004</td>\n",
              "      <td>0.056</td>\n",
              "      <td>0.241</td>\n",
              "      <td>0.213</td>\n",
              "      <td>0.011</td>\n",
              "      <td>0.012</td>\n",
              "      <td>0.001</td>\n",
              "      <td>0.216</td>\n",
              "      <td>-0.006</td>\n",
              "      <td>0.189</td>\n",
              "      <td>0.009</td>\n",
              "      <td>-0.008</td>\n",
              "      <td>0.397</td>\n",
              "      <td>0.390</td>\n",
              "      <td>-0.012</td>\n",
              "      <td>-0.003</td>\n",
              "      <td>-0.091</td>\n",
              "      <td>0.254</td>\n",
              "      <td>0.137</td>\n",
              "      <td>-0.001</td>\n",
              "      <td>0.016</td>\n",
              "      <td>0.055</td>\n",
              "      <td>-0.000</td>\n",
              "    </tr>\n",
              "    <tr>\n",
              "      <th>component_3</th>\n",
              "      <td>0.058</td>\n",
              "      <td>-0.014</td>\n",
              "      <td>0.056</td>\n",
              "      <td>-0.017</td>\n",
              "      <td>-0.021</td>\n",
              "      <td>0.021</td>\n",
              "      <td>0.013</td>\n",
              "      <td>-0.006</td>\n",
              "      <td>0.012</td>\n",
              "      <td>-0.049</td>\n",
              "      <td>-0.016</td>\n",
              "      <td>-0.019</td>\n",
              "      <td>-0.006</td>\n",
              "      <td>0.004</td>\n",
              "      <td>-0.011</td>\n",
              "      <td>0.037</td>\n",
              "      <td>0.015</td>\n",
              "      <td>0.054</td>\n",
              "      <td>-0.026</td>\n",
              "      <td>0.011</td>\n",
              "      <td>0.006</td>\n",
              "      <td>-0.157</td>\n",
              "      <td>-0.035</td>\n",
              "      <td>0.015</td>\n",
              "      <td>0.068</td>\n",
              "      <td>0.038</td>\n",
              "      <td>0.109</td>\n",
              "      <td>0.036</td>\n",
              "      <td>0.061</td>\n",
              "      <td>0.690</td>\n",
              "      <td>-0.012</td>\n",
              "      <td>0.005</td>\n",
              "      <td>0.033</td>\n",
              "      <td>0.031</td>\n",
              "      <td>-0.000</td>\n",
              "      <td>-0.025</td>\n",
              "      <td>-0.026</td>\n",
              "      <td>0.031</td>\n",
              "      <td>0.034</td>\n",
              "      <td>0.027</td>\n",
              "      <td>-0.007</td>\n",
              "      <td>0.051</td>\n",
              "      <td>0.055</td>\n",
              "      <td>0.057</td>\n",
              "      <td>0.084</td>\n",
              "      <td>0.021</td>\n",
              "      <td>0.658</td>\n",
              "      <td>0.028</td>\n",
              "      <td>0.020</td>\n",
              "      <td>-0.000</td>\n",
              "      <td>-0.013</td>\n",
              "      <td>0.001</td>\n",
              "      <td>0.002</td>\n",
              "    </tr>\n",
              "    <tr>\n",
              "      <th>component_4</th>\n",
              "      <td>-0.085</td>\n",
              "      <td>-0.020</td>\n",
              "      <td>-0.023</td>\n",
              "      <td>-0.016</td>\n",
              "      <td>-0.012</td>\n",
              "      <td>0.006</td>\n",
              "      <td>0.022</td>\n",
              "      <td>0.029</td>\n",
              "      <td>0.041</td>\n",
              "      <td>-0.003</td>\n",
              "      <td>-0.013</td>\n",
              "      <td>-0.003</td>\n",
              "      <td>0.209</td>\n",
              "      <td>-0.007</td>\n",
              "      <td>0.061</td>\n",
              "      <td>-0.074</td>\n",
              "      <td>-0.021</td>\n",
              "      <td>-0.099</td>\n",
              "      <td>-0.025</td>\n",
              "      <td>-0.039</td>\n",
              "      <td>0.063</td>\n",
              "      <td>-0.491</td>\n",
              "      <td>-0.029</td>\n",
              "      <td>0.084</td>\n",
              "      <td>-0.078</td>\n",
              "      <td>-0.073</td>\n",
              "      <td>0.299</td>\n",
              "      <td>-0.033</td>\n",
              "      <td>-0.034</td>\n",
              "      <td>0.339</td>\n",
              "      <td>-0.008</td>\n",
              "      <td>0.008</td>\n",
              "      <td>-0.023</td>\n",
              "      <td>-0.025</td>\n",
              "      <td>-0.004</td>\n",
              "      <td>0.253</td>\n",
              "      <td>-0.012</td>\n",
              "      <td>-0.024</td>\n",
              "      <td>-0.048</td>\n",
              "      <td>-0.027</td>\n",
              "      <td>0.026</td>\n",
              "      <td>-0.039</td>\n",
              "      <td>0.033</td>\n",
              "      <td>-0.049</td>\n",
              "      <td>-0.045</td>\n",
              "      <td>-0.050</td>\n",
              "      <td>-0.447</td>\n",
              "      <td>-0.031</td>\n",
              "      <td>-0.010</td>\n",
              "      <td>-0.009</td>\n",
              "      <td>0.415</td>\n",
              "      <td>-0.001</td>\n",
              "      <td>-0.011</td>\n",
              "    </tr>\n",
              "    <tr>\n",
              "      <th>component_5</th>\n",
              "      <td>0.015</td>\n",
              "      <td>-0.006</td>\n",
              "      <td>0.130</td>\n",
              "      <td>0.007</td>\n",
              "      <td>0.015</td>\n",
              "      <td>0.218</td>\n",
              "      <td>0.093</td>\n",
              "      <td>-0.017</td>\n",
              "      <td>0.168</td>\n",
              "      <td>-0.022</td>\n",
              "      <td>-0.005</td>\n",
              "      <td>-0.003</td>\n",
              "      <td>-0.016</td>\n",
              "      <td>0.009</td>\n",
              "      <td>0.045</td>\n",
              "      <td>-0.033</td>\n",
              "      <td>-0.077</td>\n",
              "      <td>0.019</td>\n",
              "      <td>-0.005</td>\n",
              "      <td>0.013</td>\n",
              "      <td>0.750</td>\n",
              "      <td>0.022</td>\n",
              "      <td>0.002</td>\n",
              "      <td>-0.017</td>\n",
              "      <td>0.017</td>\n",
              "      <td>0.012</td>\n",
              "      <td>-0.030</td>\n",
              "      <td>-0.235</td>\n",
              "      <td>0.002</td>\n",
              "      <td>-0.062</td>\n",
              "      <td>0.032</td>\n",
              "      <td>-0.064</td>\n",
              "      <td>-0.216</td>\n",
              "      <td>-0.122</td>\n",
              "      <td>-0.008</td>\n",
              "      <td>0.001</td>\n",
              "      <td>-0.002</td>\n",
              "      <td>-0.066</td>\n",
              "      <td>-0.011</td>\n",
              "      <td>-0.130</td>\n",
              "      <td>0.022</td>\n",
              "      <td>0.013</td>\n",
              "      <td>0.192</td>\n",
              "      <td>-0.234</td>\n",
              "      <td>0.007</td>\n",
              "      <td>-0.029</td>\n",
              "      <td>0.098</td>\n",
              "      <td>-0.263</td>\n",
              "      <td>-0.036</td>\n",
              "      <td>0.000</td>\n",
              "      <td>-0.032</td>\n",
              "      <td>-0.042</td>\n",
              "      <td>-0.005</td>\n",
              "    </tr>\n",
              "  </tbody>\n",
              "</table>\n",
              "</div>"
            ],
            "text/plain": [
              "             avenger  battle  beach  behind  ...  version  video   vlog  watching\n",
              "component_1    0.010   0.009  0.003   0.015  ...    0.008  0.744  0.004     0.002\n",
              "component_2   -0.009  -0.000  0.428   0.002  ...   -0.001  0.016  0.055    -0.000\n",
              "component_3    0.058  -0.014  0.056  -0.017  ...   -0.000 -0.013  0.001     0.002\n",
              "component_4   -0.085  -0.020 -0.023  -0.016  ...   -0.009  0.415 -0.001    -0.011\n",
              "component_5    0.015  -0.006  0.130   0.007  ...    0.000 -0.032 -0.042    -0.005\n",
              "\n",
              "[5 rows x 53 columns]"
            ]
          },
          "metadata": {
            "tags": []
          },
          "execution_count": 22
        }
      ]
    },
    {
      "cell_type": "code",
      "metadata": {
        "id": "eAEZuikPtIFL"
      },
      "source": [
        "cols = topic_word.columns.tolist()\r\n"
      ],
      "execution_count": 23,
      "outputs": []
    },
    {
      "cell_type": "code",
      "metadata": {
        "id": "frHr6_sdtL17"
      },
      "source": [
        "def display_topics(model, feature_names, no_top_words, topic_names=None):\r\n",
        "    for ix, topic in enumerate(model.components_):\r\n",
        "        if not topic_names or not topic_names[ix]:\r\n",
        "            print(\"\\nTopic \", ix)\r\n",
        "        else:\r\n",
        "            print(\"\\nTopic: '\",topic_names[ix],\"'\")\r\n",
        "        print(\", \".join([feature_names[i]\r\n",
        "                        for i in topic.argsort()[:-no_top_words - 1:-1]]))"
      ],
      "execution_count": 25,
      "outputs": []
    },
    {
      "cell_type": "code",
      "metadata": {
        "colab": {
          "base_uri": "https://localhost:8080/"
        },
        "id": "gy7uoxX5tRBL",
        "outputId": "a0067145-d5c9-4998-b642-8bc14ed75949"
      },
      "source": [
        "display_topics(lsa, vectorizer.get_feature_names(), 10)\r\n"
      ],
      "execution_count": 26,
      "outputs": [
        {
          "output_type": "stream",
          "text": [
            "\n",
            "Topic  0\n",
            "video, like, official, trailer, music, eminem, song, post, game, live\n",
            "\n",
            "Topic  1\n",
            "beach, srilanka, sunset, travel, nature, photography, lanka, sea, photooftheday, gopro\n",
            "\n",
            "Topic  2\n",
            "official, trailer, music, teaser, marvel, netflix, avenger, sunset, beach, srilanka\n",
            "\n",
            "Topic  3\n",
            "video, official, music, post, facebook, lyric, lanka, full, dronevideo, srilanka\n",
            "\n",
            "Topic  4\n",
            "lanka, dickwella, srilanka, dronevideo, beach, trailer, djispark, full, part, song\n"
          ],
          "name": "stdout"
        }
      ]
    },
    {
      "cell_type": "code",
      "metadata": {
        "id": "2fHoO0_ntVO2"
      },
      "source": [
        "Vt = pd.DataFrame(doc_topic.round(3),\r\n",
        "             index = convos,\r\n",
        "             columns = [\"component_1\",\"component_2\", \"component_3\", \"component_4\", \"component_5\"])"
      ],
      "execution_count": 27,
      "outputs": []
    },
    {
      "cell_type": "code",
      "metadata": {
        "id": "4_jir1kItavj"
      },
      "source": [
        "num_components = np.arange(1,20).tolist()\r\n",
        "var = []\r\n",
        "\r\n",
        "for num in num_components:\r\n",
        "    \r\n",
        "    lsa = TruncatedSVD(num)\r\n",
        "    doc_topic = lsa.fit_transform(doc_word)\r\n",
        "    var.append(lsa.explained_variance_ratio_)"
      ],
      "execution_count": 28,
      "outputs": []
    },
    {
      "cell_type": "code",
      "metadata": {
        "id": "Sq-LpDYlteFP"
      },
      "source": [
        "\r\n",
        "var = [v.tolist() for v in var]\r\n",
        "\r\n",
        "var_steps = []\r\n",
        "\r\n",
        "idx = 0\r\n",
        "for v in var:\r\n",
        "    var_steps.append(v[idx])\r\n",
        "    idx += 1"
      ],
      "execution_count": 29,
      "outputs": []
    },
    {
      "cell_type": "code",
      "metadata": {
        "colab": {
          "base_uri": "https://localhost:8080/",
          "height": 513
        },
        "id": "pNIRulQMthM2",
        "outputId": "f14a648a-c2d9-4405-ee17-83283862266d"
      },
      "source": [
        "plt.figure(figsize=(10,8))\r\n",
        "plt.plot(num_components[:15], var_steps[:15])\r\n",
        "plt.xlabel('# components')\r\n",
        "plt.ylabel('explained variance');\r\n",
        "plt.title('Scree plot for digits dataset');"
      ],
      "execution_count": 30,
      "outputs": [
        {
          "output_type": "display_data",
          "data": {
            "image/png": "[encoded data removed]",
            "text/plain": [
              "<Figure size 720x576 with 1 Axes>"
            ]
          },
          "metadata": {
            "tags": [],
            "needs_background": "light"
          }
        }
      ]
    },
    {
      "cell_type": "code",
      "metadata": {
        "id": "cpVEGjOetk6O"
      },
      "source": [
        "\r\n",
        "nmf_model = NMF(5)\r\n",
        "doc_topic = nmf_model.fit_transform(doc_word)"
      ],
      "execution_count": 31,
      "outputs": []
    },
    {
      "cell_type": "code",
      "metadata": {
        "colab": {
          "base_uri": "https://localhost:8080/",
          "height": 215
        },
        "id": "uFl_lf5wtpF3",
        "outputId": "f99ddc30-9dc8-490b-e530-0994cf576527"
      },
      "source": [
        "topic_word = pd.DataFrame(nmf_model.components_.round(3), index = [\"component_1\",\"component_2\", \"component_3\",\r\n",
        "                                                                   \"component_4\",\"component_5\"], \r\n",
        "                          columns = vectorizer.get_feature_names())\r\n",
        "topic_word"
      ],
      "execution_count": 32,
      "outputs": [
        {
          "output_type": "execute_result",
          "data": {
            "text/html": [
              "<div>\n",
              "<style scoped>\n",
              "    .dataframe tbody tr th:only-of-type {\n",
              "        vertical-align: middle;\n",
              "    }\n",
              "\n",
              "    .dataframe tbody tr th {\n",
              "        vertical-align: top;\n",
              "    }\n",
              "\n",
              "    .dataframe thead th {\n",
              "        text-align: right;\n",
              "    }\n",
              "</style>\n",
              "<table border=\"1\" class=\"dataframe\">\n",
              "  <thead>\n",
              "    <tr style=\"text-align: right;\">\n",
              "      <th></th>\n",
              "      <th>avenger</th>\n",
              "      <th>battle</th>\n",
              "      <th>beach</th>\n",
              "      <th>behind</th>\n",
              "      <th>best</th>\n",
              "      <th>dickwella</th>\n",
              "      <th>djispark</th>\n",
              "      <th>drone</th>\n",
              "      <th>dronevideo</th>\n",
              "      <th>eminem</th>\n",
              "      <th>epic</th>\n",
              "      <th>explain</th>\n",
              "      <th>facebook</th>\n",
              "      <th>first</th>\n",
              "      <th>full</th>\n",
              "      <th>game</th>\n",
              "      <th>gopro</th>\n",
              "      <th>infinity</th>\n",
              "      <th>iphone</th>\n",
              "      <th>koombiyo</th>\n",
              "      <th>lanka</th>\n",
              "      <th>like</th>\n",
              "      <th>live</th>\n",
              "      <th>lyric</th>\n",
              "      <th>marvel</th>\n",
              "      <th>movie</th>\n",
              "      <th>music</th>\n",
              "      <th>nature</th>\n",
              "      <th>netflix</th>\n",
              "      <th>official</th>\n",
              "      <th>part</th>\n",
              "      <th>photo</th>\n",
              "      <th>photography</th>\n",
              "      <th>photooftheday</th>\n",
              "      <th>photoshop</th>\n",
              "      <th>post</th>\n",
              "      <th>scene</th>\n",
              "      <th>sea</th>\n",
              "      <th>season</th>\n",
              "      <th>sky</th>\n",
              "      <th>song</th>\n",
              "      <th>spider</th>\n",
              "      <th>srilanka</th>\n",
              "      <th>sunset</th>\n",
              "      <th>teaser</th>\n",
              "      <th>throne</th>\n",
              "      <th>trailer</th>\n",
              "      <th>travel</th>\n",
              "      <th>travelgram</th>\n",
              "      <th>version</th>\n",
              "      <th>video</th>\n",
              "      <th>vlog</th>\n",
              "      <th>watching</th>\n",
              "    </tr>\n",
              "  </thead>\n",
              "  <tbody>\n",
              "    <tr>\n",
              "      <th>component_1</th>\n",
              "      <td>0.026</td>\n",
              "      <td>0.068</td>\n",
              "      <td>0.000</td>\n",
              "      <td>0.109</td>\n",
              "      <td>0.092</td>\n",
              "      <td>0.000</td>\n",
              "      <td>0.000</td>\n",
              "      <td>0.045</td>\n",
              "      <td>0.000</td>\n",
              "      <td>0.214</td>\n",
              "      <td>0.068</td>\n",
              "      <td>0.078</td>\n",
              "      <td>0.000</td>\n",
              "      <td>0.057</td>\n",
              "      <td>0.038</td>\n",
              "      <td>0.088</td>\n",
              "      <td>0.050</td>\n",
              "      <td>0.032</td>\n",
              "      <td>0.102</td>\n",
              "      <td>0.040</td>\n",
              "      <td>0.020</td>\n",
              "      <td>4.807</td>\n",
              "      <td>0.122</td>\n",
              "      <td>0.024</td>\n",
              "      <td>0.014</td>\n",
              "      <td>0.075</td>\n",
              "      <td>0.000</td>\n",
              "      <td>0.000</td>\n",
              "      <td>0.019</td>\n",
              "      <td>0.000</td>\n",
              "      <td>0.057</td>\n",
              "      <td>0.004</td>\n",
              "      <td>0.000</td>\n",
              "      <td>0.000</td>\n",
              "      <td>0.009</td>\n",
              "      <td>0.000</td>\n",
              "      <td>0.102</td>\n",
              "      <td>0.000</td>\n",
              "      <td>0.042</td>\n",
              "      <td>0.000</td>\n",
              "      <td>0.135</td>\n",
              "      <td>0.050</td>\n",
              "      <td>0.000</td>\n",
              "      <td>0.000</td>\n",
              "      <td>0.032</td>\n",
              "      <td>0.075</td>\n",
              "      <td>0.000</td>\n",
              "      <td>0.028</td>\n",
              "      <td>0.000</td>\n",
              "      <td>0.054</td>\n",
              "      <td>4.812</td>\n",
              "      <td>0.026</td>\n",
              "      <td>0.008</td>\n",
              "    </tr>\n",
              "    <tr>\n",
              "      <th>component_2</th>\n",
              "      <td>0.000</td>\n",
              "      <td>0.000</td>\n",
              "      <td>1.335</td>\n",
              "      <td>0.000</td>\n",
              "      <td>0.013</td>\n",
              "      <td>0.270</td>\n",
              "      <td>0.201</td>\n",
              "      <td>0.306</td>\n",
              "      <td>0.042</td>\n",
              "      <td>0.000</td>\n",
              "      <td>0.000</td>\n",
              "      <td>0.000</td>\n",
              "      <td>0.000</td>\n",
              "      <td>0.009</td>\n",
              "      <td>0.000</td>\n",
              "      <td>0.005</td>\n",
              "      <td>0.898</td>\n",
              "      <td>0.000</td>\n",
              "      <td>0.000</td>\n",
              "      <td>0.003</td>\n",
              "      <td>0.000</td>\n",
              "      <td>0.000</td>\n",
              "      <td>0.029</td>\n",
              "      <td>0.000</td>\n",
              "      <td>0.000</td>\n",
              "      <td>0.000</td>\n",
              "      <td>0.000</td>\n",
              "      <td>1.209</td>\n",
              "      <td>0.000</td>\n",
              "      <td>0.000</td>\n",
              "      <td>0.000</td>\n",
              "      <td>0.276</td>\n",
              "      <td>1.142</td>\n",
              "      <td>0.953</td>\n",
              "      <td>0.048</td>\n",
              "      <td>0.000</td>\n",
              "      <td>0.000</td>\n",
              "      <td>0.906</td>\n",
              "      <td>0.000</td>\n",
              "      <td>0.871</td>\n",
              "      <td>0.007</td>\n",
              "      <td>0.000</td>\n",
              "      <td>1.129</td>\n",
              "      <td>1.768</td>\n",
              "      <td>0.000</td>\n",
              "      <td>0.005</td>\n",
              "      <td>0.000</td>\n",
              "      <td>1.223</td>\n",
              "      <td>0.573</td>\n",
              "      <td>0.000</td>\n",
              "      <td>0.003</td>\n",
              "      <td>0.249</td>\n",
              "      <td>0.000</td>\n",
              "    </tr>\n",
              "    <tr>\n",
              "      <th>component_3</th>\n",
              "      <td>0.337</td>\n",
              "      <td>0.000</td>\n",
              "      <td>0.000</td>\n",
              "      <td>0.000</td>\n",
              "      <td>0.000</td>\n",
              "      <td>0.000</td>\n",
              "      <td>0.000</td>\n",
              "      <td>0.000</td>\n",
              "      <td>0.000</td>\n",
              "      <td>0.000</td>\n",
              "      <td>0.000</td>\n",
              "      <td>0.000</td>\n",
              "      <td>0.000</td>\n",
              "      <td>0.032</td>\n",
              "      <td>0.000</td>\n",
              "      <td>0.227</td>\n",
              "      <td>0.000</td>\n",
              "      <td>0.339</td>\n",
              "      <td>0.000</td>\n",
              "      <td>0.101</td>\n",
              "      <td>0.000</td>\n",
              "      <td>0.476</td>\n",
              "      <td>0.000</td>\n",
              "      <td>0.000</td>\n",
              "      <td>0.373</td>\n",
              "      <td>0.245</td>\n",
              "      <td>0.000</td>\n",
              "      <td>0.000</td>\n",
              "      <td>0.288</td>\n",
              "      <td>1.811</td>\n",
              "      <td>0.000</td>\n",
              "      <td>0.000</td>\n",
              "      <td>0.000</td>\n",
              "      <td>0.000</td>\n",
              "      <td>0.000</td>\n",
              "      <td>0.000</td>\n",
              "      <td>0.000</td>\n",
              "      <td>0.000</td>\n",
              "      <td>0.189</td>\n",
              "      <td>0.000</td>\n",
              "      <td>0.000</td>\n",
              "      <td>0.282</td>\n",
              "      <td>0.000</td>\n",
              "      <td>0.000</td>\n",
              "      <td>0.395</td>\n",
              "      <td>0.129</td>\n",
              "      <td>3.186</td>\n",
              "      <td>0.000</td>\n",
              "      <td>0.000</td>\n",
              "      <td>0.014</td>\n",
              "      <td>0.000</td>\n",
              "      <td>0.000</td>\n",
              "      <td>0.019</td>\n",
              "    </tr>\n",
              "    <tr>\n",
              "      <th>component_4</th>\n",
              "      <td>0.000</td>\n",
              "      <td>0.000</td>\n",
              "      <td>0.000</td>\n",
              "      <td>0.000</td>\n",
              "      <td>0.000</td>\n",
              "      <td>0.000</td>\n",
              "      <td>0.017</td>\n",
              "      <td>0.062</td>\n",
              "      <td>0.037</td>\n",
              "      <td>0.000</td>\n",
              "      <td>0.000</td>\n",
              "      <td>0.000</td>\n",
              "      <td>0.401</td>\n",
              "      <td>0.000</td>\n",
              "      <td>0.132</td>\n",
              "      <td>0.000</td>\n",
              "      <td>0.000</td>\n",
              "      <td>0.000</td>\n",
              "      <td>0.000</td>\n",
              "      <td>0.000</td>\n",
              "      <td>0.000</td>\n",
              "      <td>0.000</td>\n",
              "      <td>0.000</td>\n",
              "      <td>0.229</td>\n",
              "      <td>0.000</td>\n",
              "      <td>0.000</td>\n",
              "      <td>0.876</td>\n",
              "      <td>0.000</td>\n",
              "      <td>0.000</td>\n",
              "      <td>1.414</td>\n",
              "      <td>0.000</td>\n",
              "      <td>0.013</td>\n",
              "      <td>0.007</td>\n",
              "      <td>0.000</td>\n",
              "      <td>0.000</td>\n",
              "      <td>0.496</td>\n",
              "      <td>0.000</td>\n",
              "      <td>0.000</td>\n",
              "      <td>0.000</td>\n",
              "      <td>0.000</td>\n",
              "      <td>0.087</td>\n",
              "      <td>0.000</td>\n",
              "      <td>0.021</td>\n",
              "      <td>0.000</td>\n",
              "      <td>0.003</td>\n",
              "      <td>0.000</td>\n",
              "      <td>0.000</td>\n",
              "      <td>0.000</td>\n",
              "      <td>0.000</td>\n",
              "      <td>0.005</td>\n",
              "      <td>2.379</td>\n",
              "      <td>0.004</td>\n",
              "      <td>0.003</td>\n",
              "    </tr>\n",
              "    <tr>\n",
              "      <th>component_5</th>\n",
              "      <td>0.000</td>\n",
              "      <td>0.000</td>\n",
              "      <td>0.860</td>\n",
              "      <td>0.011</td>\n",
              "      <td>0.038</td>\n",
              "      <td>0.797</td>\n",
              "      <td>0.374</td>\n",
              "      <td>0.064</td>\n",
              "      <td>0.603</td>\n",
              "      <td>0.000</td>\n",
              "      <td>0.000</td>\n",
              "      <td>0.000</td>\n",
              "      <td>0.000</td>\n",
              "      <td>0.022</td>\n",
              "      <td>0.157</td>\n",
              "      <td>0.000</td>\n",
              "      <td>0.000</td>\n",
              "      <td>0.000</td>\n",
              "      <td>0.000</td>\n",
              "      <td>0.004</td>\n",
              "      <td>2.363</td>\n",
              "      <td>0.000</td>\n",
              "      <td>0.008</td>\n",
              "      <td>0.000</td>\n",
              "      <td>0.000</td>\n",
              "      <td>0.000</td>\n",
              "      <td>0.015</td>\n",
              "      <td>0.000</td>\n",
              "      <td>0.000</td>\n",
              "      <td>0.000</td>\n",
              "      <td>0.082</td>\n",
              "      <td>0.000</td>\n",
              "      <td>0.000</td>\n",
              "      <td>0.000</td>\n",
              "      <td>0.000</td>\n",
              "      <td>0.026</td>\n",
              "      <td>0.000</td>\n",
              "      <td>0.056</td>\n",
              "      <td>0.000</td>\n",
              "      <td>0.000</td>\n",
              "      <td>0.036</td>\n",
              "      <td>0.000</td>\n",
              "      <td>0.903</td>\n",
              "      <td>0.000</td>\n",
              "      <td>0.000</td>\n",
              "      <td>0.000</td>\n",
              "      <td>0.000</td>\n",
              "      <td>0.000</td>\n",
              "      <td>0.034</td>\n",
              "      <td>0.000</td>\n",
              "      <td>0.038</td>\n",
              "      <td>0.008</td>\n",
              "      <td>0.000</td>\n",
              "    </tr>\n",
              "  </tbody>\n",
              "</table>\n",
              "</div>"
            ],
            "text/plain": [
              "             avenger  battle  beach  behind  ...  version  video   vlog  watching\n",
              "component_1    0.026   0.068  0.000   0.109  ...    0.054  4.812  0.026     0.008\n",
              "component_2    0.000   0.000  1.335   0.000  ...    0.000  0.003  0.249     0.000\n",
              "component_3    0.337   0.000  0.000   0.000  ...    0.014  0.000  0.000     0.019\n",
              "component_4    0.000   0.000  0.000   0.000  ...    0.005  2.379  0.004     0.003\n",
              "component_5    0.000   0.000  0.860   0.011  ...    0.000  0.038  0.008     0.000\n",
              "\n",
              "[5 rows x 53 columns]"
            ]
          },
          "metadata": {
            "tags": []
          },
          "execution_count": 32
        }
      ]
    },
    {
      "cell_type": "code",
      "metadata": {
        "colab": {
          "base_uri": "https://localhost:8080/"
        },
        "id": "pz4Tfm9ttsWS",
        "outputId": "0c866620-e485-4c9f-f139-9f0751f508a3"
      },
      "source": [
        "display_topics(nmf_model, vectorizer.get_feature_names(), 10)\r\n"
      ],
      "execution_count": 33,
      "outputs": [
        {
          "output_type": "stream",
          "text": [
            "\n",
            "Topic  0\n",
            "video, like, eminem, song, live, behind, scene, iphone, best, game\n",
            "\n",
            "Topic  1\n",
            "sunset, beach, travel, nature, photography, srilanka, photooftheday, sea, gopro, sky\n",
            "\n",
            "Topic  2\n",
            "trailer, official, like, teaser, marvel, infinity, avenger, netflix, spider, movie\n",
            "\n",
            "Topic  3\n",
            "video, official, music, post, facebook, lyric, full, song, drone, dronevideo\n",
            "\n",
            "Topic  4\n",
            "lanka, srilanka, beach, dickwella, dronevideo, djispark, full, part, drone, sea\n"
          ],
          "name": "stdout"
        }
      ]
    },
    {
      "cell_type": "code",
      "metadata": {
        "id": "m5Bi7_motw_T"
      },
      "source": [
        "topic_vectors_df = pd.DataFrame(doc_topic.round(5), index = convos,\r\n",
        "             columns = [\"component_1\",\"component_2\", \"component_3\", \"component_4\", \"component_5\"])"
      ],
      "execution_count": 34,
      "outputs": []
    },
    {
      "cell_type": "code",
      "metadata": {
        "id": "Tg7mYpGSt1E2"
      },
      "source": [
        "ids = convosdf.id.tolist()\r\n",
        "topic_vectors_df['id'] = ids"
      ],
      "execution_count": 37,
      "outputs": []
    },
    {
      "cell_type": "code",
      "metadata": {
        "colab": {
          "base_uri": "https://localhost:8080/",
          "height": 203
        },
        "id": "esyLXk8jt4Jl",
        "outputId": "27936c84-7863-4553-e011-ad6d78061198"
      },
      "source": [
        "topic_vectors_df.head(3)\r\n"
      ],
      "execution_count": 38,
      "outputs": [
        {
          "output_type": "execute_result",
          "data": {
            "text/html": [
              "<div>\n",
              "<style scoped>\n",
              "    .dataframe tbody tr th:only-of-type {\n",
              "        vertical-align: middle;\n",
              "    }\n",
              "\n",
              "    .dataframe tbody tr th {\n",
              "        vertical-align: top;\n",
              "    }\n",
              "\n",
              "    .dataframe thead th {\n",
              "        text-align: right;\n",
              "    }\n",
              "</style>\n",
              "<table border=\"1\" class=\"dataframe\">\n",
              "  <thead>\n",
              "    <tr style=\"text-align: right;\">\n",
              "      <th></th>\n",
              "      <th>component_1</th>\n",
              "      <th>component_2</th>\n",
              "      <th>component_3</th>\n",
              "      <th>component_4</th>\n",
              "      <th>component_5</th>\n",
              "      <th>id</th>\n",
              "    </tr>\n",
              "  </thead>\n",
              "  <tbody>\n",
              "    <tr>\n",
              "      <th>south coast lanka #dikwella #srilankatravel #srilanka #srilankadaily #srianka #music #bns #travel #inspiration #beachsunrise #beach #southsrilanka #dronevideo #dikwella #dikwellabeach lanka</th>\n",
              "      <td>0.00000</td>\n",
              "      <td>0.11211</td>\n",
              "      <td>0.0</td>\n",
              "      <td>0.08636</td>\n",
              "      <td>0.81728</td>\n",
              "      <td>1324992654183174144</td>\n",
              "    </tr>\n",
              "    <tr>\n",
              "      <th>#sunset #aesthetics #beach song jeremy zucker kids depressed slowed down #dronevideo #cinematic #mavicair #djiglobal #srilanka #kalanasw #aerialphotography #lyricedits #droneshots</th>\n",
              "      <td>0.00000</td>\n",
              "      <td>0.25966</td>\n",
              "      <td>0.0</td>\n",
              "      <td>0.00981</td>\n",
              "      <td>0.20804</td>\n",
              "      <td>1318205401712726016</td>\n",
              "    </tr>\n",
              "    <tr>\n",
              "      <th>just posted video lanka</th>\n",
              "      <td>0.03569</td>\n",
              "      <td>0.00000</td>\n",
              "      <td>0.0</td>\n",
              "      <td>0.27035</td>\n",
              "      <td>0.28422</td>\n",
              "      <td>1317801656566927360</td>\n",
              "    </tr>\n",
              "  </tbody>\n",
              "</table>\n",
              "</div>"
            ],
            "text/plain": [
              "                                                    component_1  ...                   id\n",
              "south coast lanka #dikwella #srilankatravel #sr...      0.00000  ...  1324992654183174144\n",
              "#sunset #aesthetics #beach song jeremy zucker k...      0.00000  ...  1318205401712726016\n",
              "just posted video lanka                                 0.03569  ...  1317801656566927360\n",
              "\n",
              "[3 rows x 6 columns]"
            ]
          },
          "metadata": {
            "tags": []
          },
          "execution_count": 38
        }
      ]
    },
    {
      "cell_type": "code",
      "metadata": {
        "id": "8fKjpqWnuKwP"
      },
      "source": [
        "topic_vectors_df.to_pickle(\"./topic_vectors.pkl\")\r\n"
      ],
      "execution_count": 39,
      "outputs": []
    },
    {
      "cell_type": "code",
      "metadata": {
        "colab": {
          "base_uri": "https://localhost:8080/"
        },
        "id": "Dr3Ov8-kuPEX",
        "outputId": "0bc5e896-4a24-44d7-8afb-27bd3605769c"
      },
      "source": [
        "tfidf = TfidfVectorizer(min_df=0.005, max_df=0.995, tokenizer=lambda doc: doc, lowercase=False)\r\n",
        "doc_word_tf = tfidf.fit_transform(clean_convos)\r\n",
        "doc_word_tf.shape"
      ],
      "execution_count": 40,
      "outputs": [
        {
          "output_type": "execute_result",
          "data": {
            "text/plain": [
              "(3240, 53)"
            ]
          },
          "metadata": {
            "tags": []
          },
          "execution_count": 40
        }
      ]
    },
    {
      "cell_type": "code",
      "metadata": {
        "id": "y0i34JqNuUrG"
      },
      "source": [
        "nmf_model_tf = NMF(5)\r\n",
        "doc_topic_tf = nmf_model_tf.fit_transform(doc_word_tf)"
      ],
      "execution_count": 41,
      "outputs": []
    },
    {
      "cell_type": "code",
      "metadata": {
        "colab": {
          "base_uri": "https://localhost:8080/",
          "height": 215
        },
        "id": "yFG9uedYubWf",
        "outputId": "1498b454-86bf-415d-bc79-fbac733bb9c0"
      },
      "source": [
        "topic_word = pd.DataFrame(nmf_model_tf.components_.round(3), index = [\"component_1\",\"component_2\", \"component_3\",\r\n",
        "                                                                   \"component_4\",\"component_5\"], \r\n",
        "                          columns = tfidf.get_feature_names())\r\n",
        "topic_word"
      ],
      "execution_count": 42,
      "outputs": [
        {
          "output_type": "execute_result",
          "data": {
            "text/html": [
              "<div>\n",
              "<style scoped>\n",
              "    .dataframe tbody tr th:only-of-type {\n",
              "        vertical-align: middle;\n",
              "    }\n",
              "\n",
              "    .dataframe tbody tr th {\n",
              "        vertical-align: top;\n",
              "    }\n",
              "\n",
              "    .dataframe thead th {\n",
              "        text-align: right;\n",
              "    }\n",
              "</style>\n",
              "<table border=\"1\" class=\"dataframe\">\n",
              "  <thead>\n",
              "    <tr style=\"text-align: right;\">\n",
              "      <th></th>\n",
              "      <th>avenger</th>\n",
              "      <th>battle</th>\n",
              "      <th>beach</th>\n",
              "      <th>behind</th>\n",
              "      <th>best</th>\n",
              "      <th>dickwella</th>\n",
              "      <th>djispark</th>\n",
              "      <th>drone</th>\n",
              "      <th>dronevideo</th>\n",
              "      <th>eminem</th>\n",
              "      <th>epic</th>\n",
              "      <th>explain</th>\n",
              "      <th>facebook</th>\n",
              "      <th>first</th>\n",
              "      <th>full</th>\n",
              "      <th>game</th>\n",
              "      <th>gopro</th>\n",
              "      <th>infinity</th>\n",
              "      <th>iphone</th>\n",
              "      <th>koombiyo</th>\n",
              "      <th>lanka</th>\n",
              "      <th>like</th>\n",
              "      <th>live</th>\n",
              "      <th>lyric</th>\n",
              "      <th>marvel</th>\n",
              "      <th>movie</th>\n",
              "      <th>music</th>\n",
              "      <th>nature</th>\n",
              "      <th>netflix</th>\n",
              "      <th>official</th>\n",
              "      <th>part</th>\n",
              "      <th>photo</th>\n",
              "      <th>photography</th>\n",
              "      <th>photooftheday</th>\n",
              "      <th>photoshop</th>\n",
              "      <th>post</th>\n",
              "      <th>scene</th>\n",
              "      <th>sea</th>\n",
              "      <th>season</th>\n",
              "      <th>sky</th>\n",
              "      <th>song</th>\n",
              "      <th>spider</th>\n",
              "      <th>srilanka</th>\n",
              "      <th>sunset</th>\n",
              "      <th>teaser</th>\n",
              "      <th>throne</th>\n",
              "      <th>trailer</th>\n",
              "      <th>travel</th>\n",
              "      <th>travelgram</th>\n",
              "      <th>version</th>\n",
              "      <th>video</th>\n",
              "      <th>vlog</th>\n",
              "      <th>watching</th>\n",
              "    </tr>\n",
              "  </thead>\n",
              "  <tbody>\n",
              "    <tr>\n",
              "      <th>component_1</th>\n",
              "      <td>0.009</td>\n",
              "      <td>0.019</td>\n",
              "      <td>0.000</td>\n",
              "      <td>0.035</td>\n",
              "      <td>0.051</td>\n",
              "      <td>0.00</td>\n",
              "      <td>0.000</td>\n",
              "      <td>0.023</td>\n",
              "      <td>0.000</td>\n",
              "      <td>0.015</td>\n",
              "      <td>0.024</td>\n",
              "      <td>0.039</td>\n",
              "      <td>0.000</td>\n",
              "      <td>0.027</td>\n",
              "      <td>0.026</td>\n",
              "      <td>0.027</td>\n",
              "      <td>0.026</td>\n",
              "      <td>0.015</td>\n",
              "      <td>0.043</td>\n",
              "      <td>0.020</td>\n",
              "      <td>0.004</td>\n",
              "      <td>3.602</td>\n",
              "      <td>0.000</td>\n",
              "      <td>0.030</td>\n",
              "      <td>0.007</td>\n",
              "      <td>0.040</td>\n",
              "      <td>0.048</td>\n",
              "      <td>0.000</td>\n",
              "      <td>0.007</td>\n",
              "      <td>0.019</td>\n",
              "      <td>0.020</td>\n",
              "      <td>0.000</td>\n",
              "      <td>0.000</td>\n",
              "      <td>0.000</td>\n",
              "      <td>0.005</td>\n",
              "      <td>0.000</td>\n",
              "      <td>0.023</td>\n",
              "      <td>0.00</td>\n",
              "      <td>0.012</td>\n",
              "      <td>0.000</td>\n",
              "      <td>0.061</td>\n",
              "      <td>0.013</td>\n",
              "      <td>0.000</td>\n",
              "      <td>0.000</td>\n",
              "      <td>0.013</td>\n",
              "      <td>0.021</td>\n",
              "      <td>0.000</td>\n",
              "      <td>0.016</td>\n",
              "      <td>0.000</td>\n",
              "      <td>0.019</td>\n",
              "      <td>3.614</td>\n",
              "      <td>0.012</td>\n",
              "      <td>0.003</td>\n",
              "    </tr>\n",
              "    <tr>\n",
              "      <th>component_2</th>\n",
              "      <td>0.123</td>\n",
              "      <td>0.000</td>\n",
              "      <td>0.000</td>\n",
              "      <td>0.012</td>\n",
              "      <td>0.000</td>\n",
              "      <td>0.00</td>\n",
              "      <td>0.000</td>\n",
              "      <td>0.000</td>\n",
              "      <td>0.000</td>\n",
              "      <td>0.000</td>\n",
              "      <td>0.000</td>\n",
              "      <td>0.000</td>\n",
              "      <td>0.000</td>\n",
              "      <td>0.036</td>\n",
              "      <td>0.000</td>\n",
              "      <td>0.090</td>\n",
              "      <td>0.000</td>\n",
              "      <td>0.111</td>\n",
              "      <td>0.000</td>\n",
              "      <td>0.039</td>\n",
              "      <td>0.000</td>\n",
              "      <td>0.000</td>\n",
              "      <td>0.000</td>\n",
              "      <td>0.081</td>\n",
              "      <td>0.139</td>\n",
              "      <td>0.148</td>\n",
              "      <td>0.377</td>\n",
              "      <td>0.000</td>\n",
              "      <td>0.189</td>\n",
              "      <td>2.130</td>\n",
              "      <td>0.000</td>\n",
              "      <td>0.000</td>\n",
              "      <td>0.000</td>\n",
              "      <td>0.000</td>\n",
              "      <td>0.000</td>\n",
              "      <td>0.000</td>\n",
              "      <td>0.000</td>\n",
              "      <td>0.00</td>\n",
              "      <td>0.103</td>\n",
              "      <td>0.000</td>\n",
              "      <td>0.047</td>\n",
              "      <td>0.095</td>\n",
              "      <td>0.000</td>\n",
              "      <td>0.000</td>\n",
              "      <td>0.243</td>\n",
              "      <td>0.056</td>\n",
              "      <td>2.115</td>\n",
              "      <td>0.000</td>\n",
              "      <td>0.000</td>\n",
              "      <td>0.032</td>\n",
              "      <td>0.203</td>\n",
              "      <td>0.000</td>\n",
              "      <td>0.012</td>\n",
              "    </tr>\n",
              "    <tr>\n",
              "      <th>component_3</th>\n",
              "      <td>0.000</td>\n",
              "      <td>0.000</td>\n",
              "      <td>0.797</td>\n",
              "      <td>0.030</td>\n",
              "      <td>0.054</td>\n",
              "      <td>0.39</td>\n",
              "      <td>0.211</td>\n",
              "      <td>0.180</td>\n",
              "      <td>0.283</td>\n",
              "      <td>0.000</td>\n",
              "      <td>0.000</td>\n",
              "      <td>0.000</td>\n",
              "      <td>0.000</td>\n",
              "      <td>0.040</td>\n",
              "      <td>0.091</td>\n",
              "      <td>0.000</td>\n",
              "      <td>0.324</td>\n",
              "      <td>0.000</td>\n",
              "      <td>0.000</td>\n",
              "      <td>0.018</td>\n",
              "      <td>1.972</td>\n",
              "      <td>0.000</td>\n",
              "      <td>0.018</td>\n",
              "      <td>0.000</td>\n",
              "      <td>0.000</td>\n",
              "      <td>0.000</td>\n",
              "      <td>0.020</td>\n",
              "      <td>0.267</td>\n",
              "      <td>0.000</td>\n",
              "      <td>0.001</td>\n",
              "      <td>0.056</td>\n",
              "      <td>0.064</td>\n",
              "      <td>0.254</td>\n",
              "      <td>0.265</td>\n",
              "      <td>0.030</td>\n",
              "      <td>0.011</td>\n",
              "      <td>0.000</td>\n",
              "      <td>0.25</td>\n",
              "      <td>0.000</td>\n",
              "      <td>0.164</td>\n",
              "      <td>0.056</td>\n",
              "      <td>0.000</td>\n",
              "      <td>0.830</td>\n",
              "      <td>0.373</td>\n",
              "      <td>0.000</td>\n",
              "      <td>0.001</td>\n",
              "      <td>0.000</td>\n",
              "      <td>0.298</td>\n",
              "      <td>0.226</td>\n",
              "      <td>0.000</td>\n",
              "      <td>0.038</td>\n",
              "      <td>0.124</td>\n",
              "      <td>0.000</td>\n",
              "    </tr>\n",
              "    <tr>\n",
              "      <th>component_4</th>\n",
              "      <td>0.000</td>\n",
              "      <td>0.011</td>\n",
              "      <td>0.000</td>\n",
              "      <td>0.019</td>\n",
              "      <td>0.000</td>\n",
              "      <td>0.00</td>\n",
              "      <td>0.000</td>\n",
              "      <td>0.000</td>\n",
              "      <td>0.000</td>\n",
              "      <td>0.000</td>\n",
              "      <td>0.057</td>\n",
              "      <td>0.054</td>\n",
              "      <td>1.537</td>\n",
              "      <td>0.000</td>\n",
              "      <td>0.008</td>\n",
              "      <td>0.001</td>\n",
              "      <td>0.000</td>\n",
              "      <td>0.000</td>\n",
              "      <td>0.000</td>\n",
              "      <td>0.000</td>\n",
              "      <td>0.008</td>\n",
              "      <td>0.000</td>\n",
              "      <td>0.007</td>\n",
              "      <td>0.022</td>\n",
              "      <td>0.000</td>\n",
              "      <td>0.000</td>\n",
              "      <td>0.049</td>\n",
              "      <td>0.000</td>\n",
              "      <td>0.000</td>\n",
              "      <td>0.025</td>\n",
              "      <td>0.000</td>\n",
              "      <td>0.227</td>\n",
              "      <td>0.000</td>\n",
              "      <td>0.000</td>\n",
              "      <td>0.011</td>\n",
              "      <td>2.074</td>\n",
              "      <td>0.082</td>\n",
              "      <td>0.00</td>\n",
              "      <td>0.000</td>\n",
              "      <td>0.000</td>\n",
              "      <td>0.000</td>\n",
              "      <td>0.090</td>\n",
              "      <td>0.006</td>\n",
              "      <td>0.000</td>\n",
              "      <td>0.000</td>\n",
              "      <td>0.000</td>\n",
              "      <td>0.000</td>\n",
              "      <td>0.000</td>\n",
              "      <td>0.000</td>\n",
              "      <td>0.000</td>\n",
              "      <td>0.547</td>\n",
              "      <td>0.000</td>\n",
              "      <td>0.002</td>\n",
              "    </tr>\n",
              "    <tr>\n",
              "      <th>component_5</th>\n",
              "      <td>0.000</td>\n",
              "      <td>0.030</td>\n",
              "      <td>0.000</td>\n",
              "      <td>0.096</td>\n",
              "      <td>0.000</td>\n",
              "      <td>0.00</td>\n",
              "      <td>0.003</td>\n",
              "      <td>0.001</td>\n",
              "      <td>0.000</td>\n",
              "      <td>1.946</td>\n",
              "      <td>0.000</td>\n",
              "      <td>0.017</td>\n",
              "      <td>0.000</td>\n",
              "      <td>0.000</td>\n",
              "      <td>0.000</td>\n",
              "      <td>0.032</td>\n",
              "      <td>0.000</td>\n",
              "      <td>0.000</td>\n",
              "      <td>0.040</td>\n",
              "      <td>0.089</td>\n",
              "      <td>0.000</td>\n",
              "      <td>0.000</td>\n",
              "      <td>1.554</td>\n",
              "      <td>0.115</td>\n",
              "      <td>0.000</td>\n",
              "      <td>0.000</td>\n",
              "      <td>0.003</td>\n",
              "      <td>0.002</td>\n",
              "      <td>0.000</td>\n",
              "      <td>0.006</td>\n",
              "      <td>0.073</td>\n",
              "      <td>0.000</td>\n",
              "      <td>0.002</td>\n",
              "      <td>0.000</td>\n",
              "      <td>0.000</td>\n",
              "      <td>0.000</td>\n",
              "      <td>0.125</td>\n",
              "      <td>0.00</td>\n",
              "      <td>0.002</td>\n",
              "      <td>0.000</td>\n",
              "      <td>0.004</td>\n",
              "      <td>0.000</td>\n",
              "      <td>0.000</td>\n",
              "      <td>0.000</td>\n",
              "      <td>0.000</td>\n",
              "      <td>0.028</td>\n",
              "      <td>0.000</td>\n",
              "      <td>0.000</td>\n",
              "      <td>0.000</td>\n",
              "      <td>0.103</td>\n",
              "      <td>0.016</td>\n",
              "      <td>0.000</td>\n",
              "      <td>0.007</td>\n",
              "    </tr>\n",
              "  </tbody>\n",
              "</table>\n",
              "</div>"
            ],
            "text/plain": [
              "             avenger  battle  beach  behind  ...  version  video   vlog  watching\n",
              "component_1    0.009   0.019  0.000   0.035  ...    0.019  3.614  0.012     0.003\n",
              "component_2    0.123   0.000  0.000   0.012  ...    0.032  0.203  0.000     0.012\n",
              "component_3    0.000   0.000  0.797   0.030  ...    0.000  0.038  0.124     0.000\n",
              "component_4    0.000   0.011  0.000   0.019  ...    0.000  0.547  0.000     0.002\n",
              "component_5    0.000   0.030  0.000   0.096  ...    0.103  0.016  0.000     0.007\n",
              "\n",
              "[5 rows x 53 columns]"
            ]
          },
          "metadata": {
            "tags": []
          },
          "execution_count": 42
        }
      ]
    },
    {
      "cell_type": "code",
      "metadata": {
        "colab": {
          "base_uri": "https://localhost:8080/"
        },
        "id": "E_Z-vgliucby",
        "outputId": "397c0c1c-7ef8-4c49-eae6-5073f3574320"
      },
      "source": [
        "display_topics(nmf_model_tf, tfidf.get_feature_names(), 10)\r\n"
      ],
      "execution_count": 43,
      "outputs": [
        {
          "output_type": "stream",
          "text": [
            "\n",
            "Topic  0\n",
            "video, like, song, best, music, iphone, movie, explain, behind, lyric\n",
            "\n",
            "Topic  1\n",
            "official, trailer, music, teaser, video, netflix, movie, marvel, avenger, infinity\n",
            "\n",
            "Topic  2\n",
            "lanka, srilanka, beach, dickwella, sunset, gopro, travel, dronevideo, nature, photooftheday\n",
            "\n",
            "Topic  3\n",
            "post, facebook, video, photo, spider, scene, epic, explain, music, official\n",
            "\n",
            "Topic  4\n",
            "eminem, live, scene, lyric, version, behind, koombiyo, part, iphone, game\n"
          ],
          "name": "stdout"
        }
      ]
    }
  ]
}