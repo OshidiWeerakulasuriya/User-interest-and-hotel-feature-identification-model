{
  "nbformat": 4,
  "nbformat_minor": 0,
  "metadata": {
    "colab": {
      "name": "TweetsClustering.ipynb",
      "provenance": [],
      "authorship_tag": "ABX9TyPE84OTRgs1uLpHEa2ssvDv",
      "include_colab_link": true
    },
    "kernelspec": {
      "name": "python3",
      "display_name": "Python 3"
    }
  },
  "cells": [
    {
      "cell_type": "markdown",
      "metadata": {
        "id": "view-in-github",
        "colab_type": "text"
      },
      "source": [
        "<a href=\"https://colab.research.google.com/github/OshidiWeerakulasuriya/User-interest-and-hotel-feature-identification-model/blob/main/TweetsClustering.ipynb\" target=\"_parent\"><img src=\"https://colab.research.google.com/assets/colab-badge.svg\" alt=\"Open In Colab\"/></a>"
      ]
    },
    {
      "cell_type": "markdown",
      "metadata": {
        "id": "BF8KCVl8LtGG"
      },
      "source": [
        "Code reference - https://github.com/Opshou/twitterCluster/blob/master/Twitter%20clustering.ipynb"
      ]
    },
    {
      "cell_type": "code",
      "metadata": {
        "id": "dEHf1yX3RIgT"
      },
      "source": [
        "import numpy as np\n",
        "import matplotlib.pyplot as plt\n",
        "import pandas as pd"
      ],
      "execution_count": null,
      "outputs": []
    },
    {
      "cell_type": "code",
      "metadata": {
        "colab": {
          "base_uri": "https://localhost:8080/"
        },
        "id": "8wsIlnDmWsps",
        "outputId": "d9e66d6d-a184-437c-b2e7-0da64edfa60e"
      },
      "source": [
        "import re                                                       # regular expressions\n",
        "import nltk                                                     # nlp library\n",
        "nltk.download('stopwords')\n",
        "from nltk.corpus import stopwords\n",
        "from nltk.stem.porter import PorterStemmer\n",
        "from nltk.tokenize import word_tokenize\n",
        "nltk.download('punkt')\n",
        "from sklearn.feature_extraction.text import CountVectorizer\n",
        "from sklearn.cluster import KMeans\n",
        "from sklearn.metrics import pairwise_distances_argmin_min\n",
        "from scipy.spatial.distance import cdist\n",
        "import itertools                                                # corpus creation\n",
        "import collections                                              # word counter\n",
        "import networkx  "
      ],
      "execution_count": null,
      "outputs": [
        {
          "output_type": "stream",
          "text": [
            "[nltk_data] Downloading package stopwords to /root/nltk_data...\n",
            "[nltk_data]   Package stopwords is already up-to-date!\n",
            "[nltk_data] Downloading package punkt to /root/nltk_data...\n",
            "[nltk_data]   Package punkt is already up-to-date!\n"
          ],
          "name": "stdout"
        }
      ]
    },
    {
      "cell_type": "code",
      "metadata": {
        "id": "gWhAvoj4bzTD"
      },
      "source": [
        "from string import punctuation # a string of various punctuation marks"
      ],
      "execution_count": null,
      "outputs": []
    },
    {
      "cell_type": "markdown",
      "metadata": {
        "id": "zYaSQKHkIvqD"
      },
      "source": [
        "**check by removing these**"
      ]
    },
    {
      "cell_type": "code",
      "metadata": {
        "colab": {
          "base_uri": "https://localhost:8080/"
        },
        "id": "UCMsHi7P9Lw_",
        "outputId": "bf32a425-f8f1-4573-b716-2c6560ff2fe4"
      },
      "source": [
        "# the data science triple threat\r\n",
        "import numpy as np\r\n",
        "import pandas as pd\r\n",
        "import matplotlib.pyplot as plt\r\n",
        "\r\n",
        "# to construct the custom tokenizer\r\n",
        "from string import punctuation # a string of various punctuation marks\r\n",
        "import nltk # for stopwords and the WordNet lemmatizer\r\n",
        "nltk.download('stopwords') # need internet connection\r\n",
        "\r\n",
        "# count vectorizer\r\n",
        "from sklearn.feature_extraction.text import CountVectorizer\r\n",
        "\r\n",
        "# to pickle the final list of stopwords\r\n",
        "import pickle\r\n",
        "\r\n",
        "# for creating word clouds\r\n",
        "from PIL import Image\r\n",
        "from wordcloud import WordCloud, ImageColorGenerator\r\n",
        "\r\n",
        "# for scaling data\r\n",
        "from sklearn.preprocessing import MaxAbsScaler\r\n",
        "\r\n",
        "# latent variable learning methods - PCA & LDA topic modelling\r\n",
        "from sklearn.decomposition import PCA, LatentDirichletAllocation\r\n",
        "\r\n",
        "# t-distributed stochastic neighbour embedding (t-SNE)\r\n",
        "from sklearn.decomposition import TruncatedSVD # for dimensionality reduction\r\n",
        "from sklearn.manifold import TSNE\r\n",
        "\r\n",
        "# LDA topic modelling visualization\r\n",
        "!pip install pyLDAvis\r\n",
        "import pyLDAvis\r\n",
        "import pyLDAvis.sklearn\r\n",
        "pyLDAvis.enable_notebook()\r\n",
        "\r\n",
        "%matplotlib inline"
      ],
      "execution_count": null,
      "outputs": [
        {
          "output_type": "stream",
          "text": [
            "[nltk_data] Downloading package stopwords to /root/nltk_data...\n",
            "[nltk_data]   Package stopwords is already up-to-date!\n",
            "Collecting pyLDAvis\n",
            "\u001b[?25l  Downloading https://files.pythonhosted.org/packages/a5/3a/af82e070a8a96e13217c8f362f9a73e82d61ac8fff3a2561946a97f96266/pyLDAvis-2.1.2.tar.gz (1.6MB)\n",
            "\u001b[K     |████████████████████████████████| 1.6MB 6.0MB/s \n",
            "\u001b[?25hRequirement already satisfied: wheel>=0.23.0 in /usr/local/lib/python3.6/dist-packages (from pyLDAvis) (0.35.1)\n",
            "Requirement already satisfied: numpy>=1.9.2 in /usr/local/lib/python3.6/dist-packages (from pyLDAvis) (1.18.5)\n",
            "Requirement already satisfied: scipy>=0.18.0 in /usr/local/lib/python3.6/dist-packages (from pyLDAvis) (1.4.1)\n",
            "Requirement already satisfied: pandas>=0.17.0 in /usr/local/lib/python3.6/dist-packages (from pyLDAvis) (1.1.4)\n",
            "Requirement already satisfied: joblib>=0.8.4 in /usr/local/lib/python3.6/dist-packages (from pyLDAvis) (0.17.0)\n",
            "Requirement already satisfied: jinja2>=2.7.2 in /usr/local/lib/python3.6/dist-packages (from pyLDAvis) (2.11.2)\n",
            "Requirement already satisfied: numexpr in /usr/local/lib/python3.6/dist-packages (from pyLDAvis) (2.7.1)\n",
            "Requirement already satisfied: pytest in /usr/local/lib/python3.6/dist-packages (from pyLDAvis) (3.6.4)\n",
            "Requirement already satisfied: future in /usr/local/lib/python3.6/dist-packages (from pyLDAvis) (0.16.0)\n",
            "Collecting funcy\n",
            "  Downloading https://files.pythonhosted.org/packages/66/89/479de0afbbfb98d1c4b887936808764627300208bb771fcd823403645a36/funcy-1.15-py2.py3-none-any.whl\n",
            "Requirement already satisfied: pytz>=2017.2 in /usr/local/lib/python3.6/dist-packages (from pandas>=0.17.0->pyLDAvis) (2018.9)\n",
            "Requirement already satisfied: python-dateutil>=2.7.3 in /usr/local/lib/python3.6/dist-packages (from pandas>=0.17.0->pyLDAvis) (2.8.1)\n",
            "Requirement already satisfied: MarkupSafe>=0.23 in /usr/local/lib/python3.6/dist-packages (from jinja2>=2.7.2->pyLDAvis) (1.1.1)\n",
            "Requirement already satisfied: attrs>=17.4.0 in /usr/local/lib/python3.6/dist-packages (from pytest->pyLDAvis) (20.3.0)\n",
            "Requirement already satisfied: more-itertools>=4.0.0 in /usr/local/lib/python3.6/dist-packages (from pytest->pyLDAvis) (8.6.0)\n",
            "Requirement already satisfied: pluggy<0.8,>=0.5 in /usr/local/lib/python3.6/dist-packages (from pytest->pyLDAvis) (0.7.1)\n",
            "Requirement already satisfied: setuptools in /usr/local/lib/python3.6/dist-packages (from pytest->pyLDAvis) (50.3.2)\n",
            "Requirement already satisfied: atomicwrites>=1.0 in /usr/local/lib/python3.6/dist-packages (from pytest->pyLDAvis) (1.4.0)\n",
            "Requirement already satisfied: six>=1.10.0 in /usr/local/lib/python3.6/dist-packages (from pytest->pyLDAvis) (1.15.0)\n",
            "Requirement already satisfied: py>=1.5.0 in /usr/local/lib/python3.6/dist-packages (from pytest->pyLDAvis) (1.9.0)\n",
            "Building wheels for collected packages: pyLDAvis\n",
            "  Building wheel for pyLDAvis (setup.py) ... \u001b[?25l\u001b[?25hdone\n",
            "  Created wheel for pyLDAvis: filename=pyLDAvis-2.1.2-py2.py3-none-any.whl size=97712 sha256=e7090ffcf273bf85e59ababdf19018e85dc875524dfe02c9bb19eeeb3bd0e0c4\n",
            "  Stored in directory: /root/.cache/pip/wheels/98/71/24/513a99e58bb6b8465bae4d2d5e9dba8f0bef8179e3051ac414\n",
            "Successfully built pyLDAvis\n",
            "Installing collected packages: funcy, pyLDAvis\n",
            "Successfully installed funcy-1.15 pyLDAvis-2.1.2\n"
          ],
          "name": "stdout"
        }
      ]
    },
    {
      "cell_type": "code",
      "metadata": {
        "id": "XmK-ieFWO2bG"
      },
      "source": [
        "tweets = pd.read_csv('/content/drive/MyDrive/Colab Notebooks/GunasekeraHiran_tweets.csv', usecols = ['text'])"
      ],
      "execution_count": null,
      "outputs": []
    },
    {
      "cell_type": "code",
      "metadata": {
        "colab": {
          "base_uri": "https://localhost:8080/",
          "height": 402
        },
        "id": "-g9bRGXFPdFR",
        "outputId": "6d609de7-8cad-45c1-a562-119eb2639f6a"
      },
      "source": [
        "tweets"
      ],
      "execution_count": null,
      "outputs": [
        {
          "output_type": "execute_result",
          "data": {
            "text/html": [
              "<div>\n",
              "<style scoped>\n",
              "    .dataframe tbody tr th:only-of-type {\n",
              "        vertical-align: middle;\n",
              "    }\n",
              "\n",
              "    .dataframe tbody tr th {\n",
              "        vertical-align: top;\n",
              "    }\n",
              "\n",
              "    .dataframe thead th {\n",
              "        text-align: right;\n",
              "    }\n",
              "</style>\n",
              "<table border=\"1\" class=\"dataframe\">\n",
              "  <thead>\n",
              "    <tr style=\"text-align: right;\">\n",
              "      <th></th>\n",
              "      <th>text</th>\n",
              "    </tr>\n",
              "  </thead>\n",
              "  <tbody>\n",
              "    <tr>\n",
              "      <th>0</th>\n",
              "      <td>Contact Tripavi for some of our great Easter v...</td>\n",
              "    </tr>\n",
              "    <tr>\n",
              "      <th>1</th>\n",
              "      <td>The best roads trips in Sri Lanka 🇱🇰 #SriLanka...</td>\n",
              "    </tr>\n",
              "    <tr>\n",
              "      <th>2</th>\n",
              "      <td>Explore some of Sri Lanka’s azure seas and pal...</td>\n",
              "    </tr>\n",
              "    <tr>\n",
              "      <th>3</th>\n",
              "      <td>Kantale tanka #SriLanka #tripaviadventures #tr...</td>\n",
              "    </tr>\n",
              "    <tr>\n",
              "      <th>4</th>\n",
              "      <td>Kantale tanka #SriLanka #StayHome #tripaviadve...</td>\n",
              "    </tr>\n",
              "    <tr>\n",
              "      <th>...</th>\n",
              "      <td>...</td>\n",
              "    </tr>\n",
              "    <tr>\n",
              "      <th>544</th>\n",
              "      <td>Silva to bring in Sri Lankan team to play at S...</td>\n",
              "    </tr>\n",
              "    <tr>\n",
              "      <th>545</th>\n",
              "      <td>We are delighted to announce that Tripavi is n...</td>\n",
              "    </tr>\n",
              "    <tr>\n",
              "      <th>546</th>\n",
              "      <td>I'm delighted to inform you that we have offic...</td>\n",
              "    </tr>\n",
              "    <tr>\n",
              "      <th>547</th>\n",
              "      <td>Take only memories and leave only footprints, ...</td>\n",
              "    </tr>\n",
              "    <tr>\n",
              "      <th>548</th>\n",
              "      <td>@Tripavi1 @JetwingHotels Great offers, the bes...</td>\n",
              "    </tr>\n",
              "  </tbody>\n",
              "</table>\n",
              "<p>549 rows × 1 columns</p>\n",
              "</div>"
            ],
            "text/plain": [
              "                                                  text\n",
              "0    Contact Tripavi for some of our great Easter v...\n",
              "1    The best roads trips in Sri Lanka 🇱🇰 #SriLanka...\n",
              "2    Explore some of Sri Lanka’s azure seas and pal...\n",
              "3    Kantale tanka #SriLanka #tripaviadventures #tr...\n",
              "4    Kantale tanka #SriLanka #StayHome #tripaviadve...\n",
              "..                                                 ...\n",
              "544  Silva to bring in Sri Lankan team to play at S...\n",
              "545  We are delighted to announce that Tripavi is n...\n",
              "546  I'm delighted to inform you that we have offic...\n",
              "547  Take only memories and leave only footprints, ...\n",
              "548  @Tripavi1 @JetwingHotels Great offers, the bes...\n",
              "\n",
              "[549 rows x 1 columns]"
            ]
          },
          "metadata": {
            "tags": []
          },
          "execution_count": 127
        }
      ]
    },
    {
      "cell_type": "code",
      "metadata": {
        "id": "yS1OkVgMRLa_"
      },
      "source": [
        "df = pd.DataFrame(tweets.text)"
      ],
      "execution_count": null,
      "outputs": []
    },
    {
      "cell_type": "code",
      "metadata": {
        "colab": {
          "base_uri": "https://localhost:8080/"
        },
        "id": "8xk06I46qltN",
        "outputId": "a2f2a5dd-5307-42de-954f-d183ca7a2c55"
      },
      "source": [
        "print(f'There are {tweets.duplicated().sum()} duplicated rows in the dataset.')"
      ],
      "execution_count": null,
      "outputs": [
        {
          "output_type": "stream",
          "text": [
            "There are 0 duplicated rows in the dataset.\n"
          ],
          "name": "stdout"
        }
      ]
    },
    {
      "cell_type": "code",
      "metadata": {
        "colab": {
          "base_uri": "https://localhost:8080/"
        },
        "id": "YktL4669MYEt",
        "outputId": "c0ead6f1-6790-48ac-8e3f-43dddc21ce99"
      },
      "source": [
        "!pip install contractions\r\n",
        "import contractions \r\n",
        "\r\n",
        "def expand_contractions(text):\r\n",
        "    return contractions.fix(text)\r\n",
        "\r\n",
        "df['text'] = df['text'].apply(expand_contractions)"
      ],
      "execution_count": null,
      "outputs": [
        {
          "output_type": "stream",
          "text": [
            "Requirement already satisfied: contractions in /usr/local/lib/python3.6/dist-packages (0.0.43)\n",
            "Requirement already satisfied: textsearch in /usr/local/lib/python3.6/dist-packages (from contractions) (0.0.17)\n",
            "Requirement already satisfied: pyahocorasick in /usr/local/lib/python3.6/dist-packages (from textsearch->contractions) (1.4.0)\n",
            "Requirement already satisfied: Unidecode in /usr/local/lib/python3.6/dist-packages (from textsearch->contractions) (1.1.1)\n"
          ],
          "name": "stdout"
        }
      ]
    },
    {
      "cell_type": "code",
      "metadata": {
        "id": "T0GFVuN2ROLW"
      },
      "source": [
        "import re\n",
        "import nltk\n",
        "\n",
        "# Cleaning the tweets\n",
        "# Creating a function called clean. removing hyperlink, #, RT, @mentions\n",
        "def clean(x):\n",
        " # keep only words\n",
        "  #regex_pat = re.compile(r'[^a-zA-Z\\s]', flags=re.IGNORECASE)\n",
        "  #x = x.str.replace(regex_pat, '', x)\n",
        "  #x = re.compile(r'[^a-zA-Z\\s]+', '', x)\n",
        "  x = re.sub(r'^RT[\\s]+', '', x)\n",
        "  x = re.sub(r'https?:\\/\\/.*[\\r\\n]*', '', x)\n",
        "  x = re.sub(r'#', '', x)\n",
        "  x = re.sub(r'@', '', x) \n",
        "  \n",
        "  return x\n",
        "  \n",
        "\n",
        "df['text'] = df['text'].apply(clean)"
      ],
      "execution_count": null,
      "outputs": []
    },
    {
      "cell_type": "code",
      "metadata": {
        "id": "8vIrAvOlFBAJ"
      },
      "source": [
        "def deEmojify(text):\r\n",
        "    regrex_pattern = re.compile(pattern = \"[\"\r\n",
        "        u\"\\U0001F600-\\U0001F64F\"  # emoticons\r\n",
        "        u\"\\U0001F300-\\U0001F5FF\"  # symbols & pictographs\r\n",
        "        u\"\\U0001F680-\\U0001F6FF\"  # transport & map symbols\r\n",
        "        u\"\\U0001F1E0-\\U0001F1FF\"  # flags (iOS)\r\n",
        "                           \"]+\", flags = re.UNICODE)\r\n",
        "    return regrex_pattern.sub(r'',text)\r\n",
        "\r\n",
        "df['text'] = df['text'].apply(deEmojify)"
      ],
      "execution_count": null,
      "outputs": []
    },
    {
      "cell_type": "code",
      "metadata": {
        "id": "FsrWMO0aIh4j"
      },
      "source": [
        "def remove_numbers(text):\r\n",
        "    \"\"\"\r\n",
        "    take string input and return a clean text without numbers. \r\n",
        "    Use regex to discard the numbers.\r\n",
        "    \"\"\"\r\n",
        "    output = ''.join(c for c in text if not c.isdigit())\r\n",
        "    return output\r\n",
        "\r\n",
        "df['text'] = df['text'].apply(remove_numbers)"
      ],
      "execution_count": null,
      "outputs": []
    },
    {
      "cell_type": "code",
      "metadata": {
        "id": "PyOXqqpvJk-6"
      },
      "source": [
        "def to_lower(text):\r\n",
        "    \"\"\"\r\n",
        "    Converting text to lower case as in, converting \"Hello\" to \"hello\" or \"HELLO\" to \"hello\".\r\n",
        "    \"\"\"\r\n",
        "    return ' '.join([w.lower() for w in word_tokenize(text)])\r\n",
        "\r\n",
        "df['text'] = df['text'].apply(to_lower)"
      ],
      "execution_count": null,
      "outputs": []
    },
    {
      "cell_type": "code",
      "metadata": {
        "id": "2CQuKO8oKZyZ"
      },
      "source": [
        "def remove_punct(text):\r\n",
        "    \"\"\"\r\n",
        "    take string input and clean string without punctuations.\r\n",
        "    use regex to remove the punctuations.\r\n",
        "    \"\"\"\r\n",
        "    return ''.join(c for c in text if c not in punctuation)\r\n",
        "\r\n",
        "df['text'] = df['text'].apply(remove_punct)"
      ],
      "execution_count": null,
      "outputs": []
    },
    {
      "cell_type": "code",
      "metadata": {
        "id": "rC8sNIIORQzA",
        "colab": {
          "base_uri": "https://localhost:8080/",
          "height": 402
        },
        "outputId": "1d344038-8e6e-4b73-a3b1-a8fa91d34c8b"
      },
      "source": [
        "df"
      ],
      "execution_count": null,
      "outputs": [
        {
          "output_type": "execute_result",
          "data": {
            "text/html": [
              "<div>\n",
              "<style scoped>\n",
              "    .dataframe tbody tr th:only-of-type {\n",
              "        vertical-align: middle;\n",
              "    }\n",
              "\n",
              "    .dataframe tbody tr th {\n",
              "        vertical-align: top;\n",
              "    }\n",
              "\n",
              "    .dataframe thead th {\n",
              "        text-align: right;\n",
              "    }\n",
              "</style>\n",
              "<table border=\"1\" class=\"dataframe\">\n",
              "  <thead>\n",
              "    <tr style=\"text-align: right;\">\n",
              "      <th></th>\n",
              "      <th>text</th>\n",
              "    </tr>\n",
              "  </thead>\n",
              "  <tbody>\n",
              "    <tr>\n",
              "      <th>0</th>\n",
              "      <td>contact tripavi for some of our great easter v...</td>\n",
              "    </tr>\n",
              "    <tr>\n",
              "      <th>1</th>\n",
              "      <td>the best roads trips in sri lanka srilanka col...</td>\n",
              "    </tr>\n",
              "    <tr>\n",
              "      <th>2</th>\n",
              "      <td>explore some of sri lanka ’ s azure seas and p...</td>\n",
              "    </tr>\n",
              "    <tr>\n",
              "      <th>3</th>\n",
              "      <td>kantale tanka srilanka tripaviadventures trave...</td>\n",
              "    </tr>\n",
              "    <tr>\n",
              "      <th>4</th>\n",
              "      <td>kantale tanka srilanka stayhome tripaviadventu...</td>\n",
              "    </tr>\n",
              "    <tr>\n",
              "      <th>...</th>\n",
              "      <td>...</td>\n",
              "    </tr>\n",
              "    <tr>\n",
              "      <th>544</th>\n",
              "      <td>silva to bring in sri lankan team to play at s...</td>\n",
              "    </tr>\n",
              "    <tr>\n",
              "      <th>545</th>\n",
              "      <td>we are delighted to announce that tripavi is n...</td>\n",
              "    </tr>\n",
              "    <tr>\n",
              "      <th>546</th>\n",
              "      <td>i am delighted to inform you that we have offi...</td>\n",
              "    </tr>\n",
              "    <tr>\n",
              "      <th>547</th>\n",
              "      <td>take only memories and leave only footprints  ...</td>\n",
              "    </tr>\n",
              "    <tr>\n",
              "      <th>548</th>\n",
              "      <td>tripavi jetwinghotels great offers  the best t...</td>\n",
              "    </tr>\n",
              "  </tbody>\n",
              "</table>\n",
              "<p>549 rows × 1 columns</p>\n",
              "</div>"
            ],
            "text/plain": [
              "                                                  text\n",
              "0    contact tripavi for some of our great easter v...\n",
              "1    the best roads trips in sri lanka srilanka col...\n",
              "2    explore some of sri lanka ’ s azure seas and p...\n",
              "3    kantale tanka srilanka tripaviadventures trave...\n",
              "4    kantale tanka srilanka stayhome tripaviadventu...\n",
              "..                                                 ...\n",
              "544  silva to bring in sri lankan team to play at s...\n",
              "545  we are delighted to announce that tripavi is n...\n",
              "546  i am delighted to inform you that we have offi...\n",
              "547  take only memories and leave only footprints  ...\n",
              "548  tripavi jetwinghotels great offers  the best t...\n",
              "\n",
              "[549 rows x 1 columns]"
            ]
          },
          "metadata": {
            "tags": []
          },
          "execution_count": 136
        }
      ]
    },
    {
      "cell_type": "code",
      "metadata": {
        "id": "y0SUKPBzq3u8"
      },
      "source": [
        "# remove duplicate rows\n",
        "df.drop_duplicates(inplace=True)"
      ],
      "execution_count": null,
      "outputs": []
    },
    {
      "cell_type": "markdown",
      "metadata": {
        "id": "1QNsRcTWPDU2"
      },
      "source": [
        "**In the following 3 codes downloading or saving file is unnecessary**"
      ]
    },
    {
      "cell_type": "markdown",
      "metadata": {
        "id": "n0vz9H-wO3Ce"
      },
      "source": [
        "Save to google drive directly"
      ]
    },
    {
      "cell_type": "code",
      "metadata": {
        "colab": {
          "base_uri": "https://localhost:8080/"
        },
        "id": "MgqXnaV_OW45",
        "outputId": "ce2426da-7209-45e1-fc1d-103760f4e181"
      },
      "source": [
        "from google.colab import drive\r\n",
        "drive.mount('drive')"
      ],
      "execution_count": null,
      "outputs": [
        {
          "output_type": "stream",
          "text": [
            "Drive already mounted at drive; to attempt to forcibly remount, call drive.mount(\"drive\", force_remount=True).\n"
          ],
          "name": "stdout"
        }
      ]
    },
    {
      "cell_type": "code",
      "metadata": {
        "id": "Ctk7ulJ3OYYN"
      },
      "source": [
        "df.to_csv('data.csv')\r\n",
        "!cp data.csv \"drive/My Drive/\""
      ],
      "execution_count": null,
      "outputs": []
    },
    {
      "cell_type": "markdown",
      "metadata": {
        "id": "97NPU4SaO7AS"
      },
      "source": [
        "download into local machine "
      ]
    },
    {
      "cell_type": "code",
      "metadata": {
        "colab": {
          "base_uri": "https://localhost:8080/",
          "height": 17
        },
        "id": "-aqdRfxuJG73",
        "outputId": "f1ff4cc0-7067-4922-aa4a-93e4a9ce6137"
      },
      "source": [
        "from google.colab import files\n",
        "\n",
        "df.to_csv('df.csv')\n",
        "files.download('df.csv')"
      ],
      "execution_count": null,
      "outputs": [
        {
          "output_type": "display_data",
          "data": {
            "application/javascript": [
              "\n",
              "    async function download(id, filename, size) {\n",
              "      if (!google.colab.kernel.accessAllowed) {\n",
              "        return;\n",
              "      }\n",
              "      const div = document.createElement('div');\n",
              "      const label = document.createElement('label');\n",
              "      label.textContent = `Downloading \"${filename}\": `;\n",
              "      div.appendChild(label);\n",
              "      const progress = document.createElement('progress');\n",
              "      progress.max = size;\n",
              "      div.appendChild(progress);\n",
              "      document.body.appendChild(div);\n",
              "\n",
              "      const buffers = [];\n",
              "      let downloaded = 0;\n",
              "\n",
              "      const channel = await google.colab.kernel.comms.open(id);\n",
              "      // Send a message to notify the kernel that we're ready.\n",
              "      channel.send({})\n",
              "\n",
              "      for await (const message of channel.messages) {\n",
              "        // Send a message to notify the kernel that we're ready.\n",
              "        channel.send({})\n",
              "        if (message.buffers) {\n",
              "          for (const buffer of message.buffers) {\n",
              "            buffers.push(buffer);\n",
              "            downloaded += buffer.byteLength;\n",
              "            progress.value = downloaded;\n",
              "          }\n",
              "        }\n",
              "      }\n",
              "      const blob = new Blob(buffers, {type: 'application/binary'});\n",
              "      const a = document.createElement('a');\n",
              "      a.href = window.URL.createObjectURL(blob);\n",
              "      a.download = filename;\n",
              "      div.appendChild(a);\n",
              "      a.click();\n",
              "      div.remove();\n",
              "    }\n",
              "  "
            ],
            "text/plain": [
              "<IPython.core.display.Javascript object>"
            ]
          },
          "metadata": {
            "tags": []
          }
        },
        {
          "output_type": "display_data",
          "data": {
            "application/javascript": [
              "download(\"download_b8746166-707b-4d97-a8f2-5a18ea02bd57\", \"df.csv\", 87808)"
            ],
            "text/plain": [
              "<IPython.core.display.Javascript object>"
            ]
          },
          "metadata": {
            "tags": []
          }
        }
      ]
    },
    {
      "cell_type": "code",
      "metadata": {
        "id": "5b0-WX0kimLv"
      },
      "source": [
        "# Looking for the number of sentences with specific keywords\n",
        "counter = 0\n",
        "for i in df.text:\n",
        "    if (('love' in i or 'like' in i or 'amazing' in i or 'awesome' in i) \n",
        "    and ('beach' in i or 'sea' in i or 'waves' in i or 'ocean' in i or 'sand' in i or 'breeze' in i)):\n",
        "        counter = counter + 1\n",
        "#print(\"There's {} ({}%) queries related with asking about delays while on the plane\".format(counter, round(float(counter)/len(dataset.text)*100, 3)))"
      ],
      "execution_count": null,
      "outputs": []
    },
    {
      "cell_type": "code",
      "metadata": {
        "colab": {
          "base_uri": "https://localhost:8080/"
        },
        "id": "LwAWHT4CkQuX",
        "outputId": "c7309867-7796-4115-fce8-a686554319e0"
      },
      "source": [
        "counter"
      ],
      "execution_count": null,
      "outputs": [
        {
          "output_type": "execute_result",
          "data": {
            "text/plain": [
              "13"
            ]
          },
          "metadata": {
            "tags": []
          },
          "execution_count": 89
        }
      ]
    },
    {
      "cell_type": "markdown",
      "metadata": {
        "id": "We43BQVHsqA4"
      },
      "source": [
        "Insert a column 'NewId' from 0 onwards"
      ]
    },
    {
      "cell_type": "code",
      "metadata": {
        "id": "IDv912rMmEpM"
      },
      "source": [
        "df.insert(0, 'New_ID', range(0, 0 + len(df)))"
      ],
      "execution_count": null,
      "outputs": []
    },
    {
      "cell_type": "markdown",
      "metadata": {
        "id": "GzysTYqYs3Pd"
      },
      "source": [
        "remove a column"
      ]
    },
    {
      "cell_type": "code",
      "metadata": {
        "id": "pUeJD6EosbJM"
      },
      "source": [
        "df = df.drop('New_ID', 1)"
      ],
      "execution_count": null,
      "outputs": []
    },
    {
      "cell_type": "code",
      "metadata": {
        "colab": {
          "base_uri": "https://localhost:8080/",
          "height": 431
        },
        "id": "aH9Oaoajsf4r",
        "outputId": "45fe80c7-243d-4ec0-b082-08db88a06629"
      },
      "source": [
        "df"
      ],
      "execution_count": null,
      "outputs": [
        {
          "output_type": "execute_result",
          "data": {
            "text/html": [
              "<div>\n",
              "<style scoped>\n",
              "    .dataframe tbody tr th:only-of-type {\n",
              "        vertical-align: middle;\n",
              "    }\n",
              "\n",
              "    .dataframe tbody tr th {\n",
              "        vertical-align: top;\n",
              "    }\n",
              "\n",
              "    .dataframe thead th {\n",
              "        text-align: right;\n",
              "    }\n",
              "</style>\n",
              "<table border=\"1\" class=\"dataframe\">\n",
              "  <thead>\n",
              "    <tr style=\"text-align: right;\">\n",
              "      <th></th>\n",
              "      <th>text</th>\n",
              "    </tr>\n",
              "    <tr>\n",
              "      <th>id</th>\n",
              "      <th></th>\n",
              "    </tr>\n",
              "  </thead>\n",
              "  <tbody>\n",
              "    <tr>\n",
              "      <th>1324617054377291776</th>\n",
              "      <td>contact tripavi for some of our great easter v...</td>\n",
              "    </tr>\n",
              "    <tr>\n",
              "      <th>1322759695656865793</th>\n",
              "      <td>the best roads trips in sri lanka srilanka col...</td>\n",
              "    </tr>\n",
              "    <tr>\n",
              "      <th>1321669595653009409</th>\n",
              "      <td>explore some of sri lanka ’ s azure seas and p...</td>\n",
              "    </tr>\n",
              "    <tr>\n",
              "      <th>1321051474785259522</th>\n",
              "      <td>kantale tanka srilanka tripaviadventures trave...</td>\n",
              "    </tr>\n",
              "    <tr>\n",
              "      <th>1321050817089028098</th>\n",
              "      <td>kantale tanka srilanka stayhome tripaviadventu...</td>\n",
              "    </tr>\n",
              "    <tr>\n",
              "      <th>...</th>\n",
              "      <td>...</td>\n",
              "    </tr>\n",
              "    <tr>\n",
              "      <th>1146755492141850624</th>\n",
              "      <td>silva to bring in sri lankan team to play at s...</td>\n",
              "    </tr>\n",
              "    <tr>\n",
              "      <th>1146751885233270784</th>\n",
              "      <td>we are delighted to announce that tripavi is n...</td>\n",
              "    </tr>\n",
              "    <tr>\n",
              "      <th>1146750392983871488</th>\n",
              "      <td>i am delighted to inform you that we have offi...</td>\n",
              "    </tr>\n",
              "    <tr>\n",
              "      <th>1146727883005730816</th>\n",
              "      <td>take only memories and leave only footprints  ...</td>\n",
              "    </tr>\n",
              "    <tr>\n",
              "      <th>1146725916221018113</th>\n",
              "      <td>tripavi jetwinghotels great offers  the best t...</td>\n",
              "    </tr>\n",
              "  </tbody>\n",
              "</table>\n",
              "<p>536 rows × 1 columns</p>\n",
              "</div>"
            ],
            "text/plain": [
              "                                                                  text\n",
              "id                                                                    \n",
              "1324617054377291776  contact tripavi for some of our great easter v...\n",
              "1322759695656865793  the best roads trips in sri lanka srilanka col...\n",
              "1321669595653009409  explore some of sri lanka ’ s azure seas and p...\n",
              "1321051474785259522  kantale tanka srilanka tripaviadventures trave...\n",
              "1321050817089028098  kantale tanka srilanka stayhome tripaviadventu...\n",
              "...                                                                ...\n",
              "1146755492141850624  silva to bring in sri lankan team to play at s...\n",
              "1146751885233270784  we are delighted to announce that tripavi is n...\n",
              "1146750392983871488  i am delighted to inform you that we have offi...\n",
              "1146727883005730816  take only memories and leave only footprints  ...\n",
              "1146725916221018113  tripavi jetwinghotels great offers  the best t...\n",
              "\n",
              "[536 rows x 1 columns]"
            ]
          },
          "metadata": {
            "tags": []
          },
          "execution_count": 125
        }
      ]
    },
    {
      "cell_type": "code",
      "metadata": {
        "id": "Ta6kxWIGU-Lh"
      },
      "source": [
        "from tqdm import tqdm\r\n",
        "\r\n",
        "tmp_corpus = df['text'].map(lambda x: x.split('/n'))\r\n"
      ],
      "execution_count": null,
      "outputs": []
    },
    {
      "cell_type": "code",
      "metadata": {
        "colab": {
          "base_uri": "https://localhost:8080/"
        },
        "id": "QTANEG0bWYVB",
        "outputId": "82264987-6e7b-4df7-cde2-1bb07dc8537f"
      },
      "source": [
        "# corpus [[w1,w2,w3..],[..]]\r\n",
        "corpus1 = []\r\n",
        "for i in tqdm(range(len(tmp_corpus))):\r\n",
        "    for line in tmp_corpus[i]:\r\n",
        "        tweet = [x for x in line.split()]\r\n",
        "        corpus1.append(tweet)"
      ],
      "execution_count": null,
      "outputs": [
        {
          "output_type": "stream",
          "text": [
            "100%|██████████| 549/549 [00:00<00:00, 74112.42it/s]\n"
          ],
          "name": "stderr"
        }
      ]
    },
    {
      "cell_type": "markdown",
      "metadata": {
        "id": "eM_GlzvPZE9r"
      },
      "source": [
        "Not useful"
      ]
    },
    {
      "cell_type": "code",
      "metadata": {
        "id": "CUnpMqJ1ttAc"
      },
      "source": [
        "# Formatting tweets (replacing symbols, lowecase, splitting). No stemming (corpus is needed for word freq count).\n",
        "corpus1 = []\n",
        "for i in range(0, len(df)):\n",
        "    tweet = df['text'][i]\n",
        "    tweet = tweet.lower()\n",
        "    tweet = tweet.replace(',', '').replace('.', '').replace('-', '').replace('!', '').replace(';', '')\n",
        "    tweet = tweet.split()\n",
        "    corpus1.append(tweet)"
      ],
      "execution_count": null,
      "outputs": []
    },
    {
      "cell_type": "code",
      "metadata": {
        "id": "-eHjmUIit5mG"
      },
      "source": [
        "allWords = list(itertools.chain(*corpus1))"
      ],
      "execution_count": null,
      "outputs": []
    },
    {
      "cell_type": "code",
      "metadata": {
        "id": "y9Xs7BIYt7Hu"
      },
      "source": [
        "# Taking out stop words\n",
        "stop_words = set(stopwords.words('english'))\n",
        "filtered_sentence = [w for w in allWords if not w in stop_words] \n",
        "filtered_sentence = [] \n",
        "for w in allWords: \n",
        "    if w not in stop_words: \n",
        "        filtered_sentence.append(w)"
      ],
      "execution_count": null,
      "outputs": []
    },
    {
      "cell_type": "code",
      "metadata": {
        "colab": {
          "base_uri": "https://localhost:8080/",
          "height": 639
        },
        "id": "LcyMUyant-PO",
        "outputId": "6276345e-afaa-457e-cec6-5f6ed99992cd"
      },
      "source": [
        "#Counting most used words\n",
        "counts_no_urls = collections.Counter(filtered_sentence)\n",
        "clean_tweets_no_urls = pd.DataFrame(counts_no_urls.most_common(50),\n",
        "                             columns=['words', 'count'])\n",
        "\n",
        "clean_tweets_no_urls.head(20)"
      ],
      "execution_count": null,
      "outputs": [
        {
          "output_type": "execute_result",
          "data": {
            "text/html": [
              "<div>\n",
              "<style scoped>\n",
              "    .dataframe tbody tr th:only-of-type {\n",
              "        vertical-align: middle;\n",
              "    }\n",
              "\n",
              "    .dataframe tbody tr th {\n",
              "        vertical-align: top;\n",
              "    }\n",
              "\n",
              "    .dataframe thead th {\n",
              "        text-align: right;\n",
              "    }\n",
              "</style>\n",
              "<table border=\"1\" class=\"dataframe\">\n",
              "  <thead>\n",
              "    <tr style=\"text-align: right;\">\n",
              "      <th></th>\n",
              "      <th>words</th>\n",
              "      <th>count</th>\n",
              "    </tr>\n",
              "  </thead>\n",
              "  <tbody>\n",
              "    <tr>\n",
              "      <th>0</th>\n",
              "      <td>tripavi</td>\n",
              "      <td>231</td>\n",
              "    </tr>\n",
              "    <tr>\n",
              "      <th>1</th>\n",
              "      <td>sri</td>\n",
              "      <td>191</td>\n",
              "    </tr>\n",
              "    <tr>\n",
              "      <th>2</th>\n",
              "      <td>srilanka</td>\n",
              "      <td>181</td>\n",
              "    </tr>\n",
              "    <tr>\n",
              "      <th>3</th>\n",
              "      <td>lanka</td>\n",
              "      <td>172</td>\n",
              "    </tr>\n",
              "    <tr>\n",
              "      <th>4</th>\n",
              "      <td>travel</td>\n",
              "      <td>78</td>\n",
              "    </tr>\n",
              "    <tr>\n",
              "      <th>5</th>\n",
              "      <td>great</td>\n",
              "      <td>76</td>\n",
              "    </tr>\n",
              "    <tr>\n",
              "      <th>6</th>\n",
              "      <td>best</td>\n",
              "      <td>62</td>\n",
              "    </tr>\n",
              "    <tr>\n",
              "      <th>7</th>\n",
              "      <td>amazing</td>\n",
              "      <td>60</td>\n",
              "    </tr>\n",
              "    <tr>\n",
              "      <th>8</th>\n",
              "      <td>infotripavicom</td>\n",
              "      <td>54</td>\n",
              "    </tr>\n",
              "    <tr>\n",
              "      <th>9</th>\n",
              "      <td>tour</td>\n",
              "      <td>49</td>\n",
              "    </tr>\n",
              "    <tr>\n",
              "      <th>10</th>\n",
              "      <td>yala</td>\n",
              "      <td>48</td>\n",
              "    </tr>\n",
              "    <tr>\n",
              "      <th>11</th>\n",
              "      <td>amp</td>\n",
              "      <td>47</td>\n",
              "    </tr>\n",
              "    <tr>\n",
              "      <th>12</th>\n",
              "      <td>srilankaspecialist</td>\n",
              "      <td>46</td>\n",
              "    </tr>\n",
              "    <tr>\n",
              "      <th>13</th>\n",
              "      <td>’</td>\n",
              "      <td>44</td>\n",
              "    </tr>\n",
              "    <tr>\n",
              "      <th>14</th>\n",
              "      <td>one</td>\n",
              "      <td>42</td>\n",
              "    </tr>\n",
              "    <tr>\n",
              "      <th>15</th>\n",
              "      <td>experience</td>\n",
              "      <td>41</td>\n",
              "    </tr>\n",
              "    <tr>\n",
              "      <th>16</th>\n",
              "      <td>srilankawithtripavi</td>\n",
              "      <td>40</td>\n",
              "    </tr>\n",
              "    <tr>\n",
              "      <th>17</th>\n",
              "      <td>holidays</td>\n",
              "      <td>38</td>\n",
              "    </tr>\n",
              "    <tr>\n",
              "      <th>18</th>\n",
              "      <td>holiday</td>\n",
              "      <td>37</td>\n",
              "    </tr>\n",
              "    <tr>\n",
              "      <th>19</th>\n",
              "      <td>national</td>\n",
              "      <td>36</td>\n",
              "    </tr>\n",
              "  </tbody>\n",
              "</table>\n",
              "</div>"
            ],
            "text/plain": [
              "                  words  count\n",
              "0               tripavi    231\n",
              "1                   sri    191\n",
              "2              srilanka    181\n",
              "3                 lanka    172\n",
              "4                travel     78\n",
              "5                 great     76\n",
              "6                  best     62\n",
              "7               amazing     60\n",
              "8        infotripavicom     54\n",
              "9                  tour     49\n",
              "10                 yala     48\n",
              "11                  amp     47\n",
              "12   srilankaspecialist     46\n",
              "13                    ’     44\n",
              "14                  one     42\n",
              "15           experience     41\n",
              "16  srilankawithtripavi     40\n",
              "17             holidays     38\n",
              "18              holiday     37\n",
              "19             national     36"
            ]
          },
          "metadata": {
            "tags": []
          },
          "execution_count": 143
        }
      ]
    },
    {
      "cell_type": "code",
      "metadata": {
        "colab": {
          "base_uri": "https://localhost:8080/",
          "height": 934
        },
        "id": "rr0a3nHYuEB-",
        "outputId": "11a36bac-f5de-41dc-ff3b-4f3b5d04e5f8"
      },
      "source": [
        "# Plot horizontal bar graph\n",
        "fig, ax = plt.subplots(figsize=(8, 16))\n",
        "clean_tweets_no_urls.sort_values(by='count').plot.barh(x='words',\n",
        "                      y='count',\n",
        "                      ax=ax,\n",
        "                      color=\"purple\")\n",
        "ax.set_title(\"Common Words Found in Tweets (Including All Words)\")\n",
        "plt.show()"
      ],
      "execution_count": null,
      "outputs": [
        {
          "output_type": "display_data",
          "data": {
            "image/png": "[encoded data removed]",
            "text/plain": [
              "<Figure size 576x1152 with 1 Axes>"
            ]
          },
          "metadata": {
            "tags": [],
            "needs_background": "light"
          }
        }
      ]
    },
    {
      "cell_type": "code",
      "metadata": {
        "colab": {
          "base_uri": "https://localhost:8080/",
          "height": 639
        },
        "id": "mAt7kMJsuKOY",
        "outputId": "1a6b2159-9249-4712-fb55-4f634fe387c8"
      },
      "source": [
        "bigramsList = list(nltk.bigrams(filtered_sentence))\n",
        "countsBigrams = collections.Counter(bigramsList)\n",
        "bigrams1 = pd.DataFrame(countsBigrams.most_common(50),columns=['words', 'count'])\n",
        "bigrams1.head(20)"
      ],
      "execution_count": null,
      "outputs": [
        {
          "output_type": "execute_result",
          "data": {
            "text/html": [
              "<div>\n",
              "<style scoped>\n",
              "    .dataframe tbody tr th:only-of-type {\n",
              "        vertical-align: middle;\n",
              "    }\n",
              "\n",
              "    .dataframe tbody tr th {\n",
              "        vertical-align: top;\n",
              "    }\n",
              "\n",
              "    .dataframe thead th {\n",
              "        text-align: right;\n",
              "    }\n",
              "</style>\n",
              "<table border=\"1\" class=\"dataframe\">\n",
              "  <thead>\n",
              "    <tr style=\"text-align: right;\">\n",
              "      <th></th>\n",
              "      <th>words</th>\n",
              "      <th>count</th>\n",
              "    </tr>\n",
              "  </thead>\n",
              "  <tbody>\n",
              "    <tr>\n",
              "      <th>0</th>\n",
              "      <td>(sri, lanka)</td>\n",
              "      <td>171</td>\n",
              "    </tr>\n",
              "    <tr>\n",
              "      <th>1</th>\n",
              "      <td>(srilanka, tripavi)</td>\n",
              "      <td>26</td>\n",
              "    </tr>\n",
              "    <tr>\n",
              "      <th>2</th>\n",
              "      <td>(national, park)</td>\n",
              "      <td>23</td>\n",
              "    </tr>\n",
              "    <tr>\n",
              "      <th>3</th>\n",
              "      <td>(tripavi, srilanka)</td>\n",
              "      <td>19</td>\n",
              "    </tr>\n",
              "    <tr>\n",
              "      <th>4</th>\n",
              "      <td>(tailor, made)</td>\n",
              "      <td>18</td>\n",
              "    </tr>\n",
              "    <tr>\n",
              "      <th>5</th>\n",
              "      <td>(sri, lankan)</td>\n",
              "      <td>15</td>\n",
              "    </tr>\n",
              "    <tr>\n",
              "      <th>6</th>\n",
              "      <td>(inspired, ideas)</td>\n",
              "      <td>15</td>\n",
              "    </tr>\n",
              "    <tr>\n",
              "      <th>7</th>\n",
              "      <td>(lanka, ’)</td>\n",
              "      <td>12</td>\n",
              "    </tr>\n",
              "    <tr>\n",
              "      <th>8</th>\n",
              "      <td>(yala, national)</td>\n",
              "      <td>12</td>\n",
              "    </tr>\n",
              "    <tr>\n",
              "      <th>9</th>\n",
              "      <td>(srilankaspecialist, srilankawithtripavi)</td>\n",
              "      <td>12</td>\n",
              "    </tr>\n",
              "    <tr>\n",
              "      <th>10</th>\n",
              "      <td>(made, holidays)</td>\n",
              "      <td>11</td>\n",
              "    </tr>\n",
              "    <tr>\n",
              "      <th>11</th>\n",
              "      <td>(national, parks)</td>\n",
              "      <td>10</td>\n",
              "    </tr>\n",
              "    <tr>\n",
              "      <th>12</th>\n",
              "      <td>(travel, tripavi)</td>\n",
              "      <td>10</td>\n",
              "    </tr>\n",
              "    <tr>\n",
              "      <th>13</th>\n",
              "      <td>(contact, us)</td>\n",
              "      <td>9</td>\n",
              "    </tr>\n",
              "    <tr>\n",
              "      <th>14</th>\n",
              "      <td>(✉, infotripavicom)</td>\n",
              "      <td>9</td>\n",
              "    </tr>\n",
              "    <tr>\n",
              "      <th>15</th>\n",
              "      <td>(tripavi, srilankaspecialist)</td>\n",
              "      <td>9</td>\n",
              "    </tr>\n",
              "    <tr>\n",
              "      <th>16</th>\n",
              "      <td>(great, inspired)</td>\n",
              "      <td>9</td>\n",
              "    </tr>\n",
              "    <tr>\n",
              "      <th>17</th>\n",
              "      <td>(team, tripavi)</td>\n",
              "      <td>8</td>\n",
              "    </tr>\n",
              "    <tr>\n",
              "      <th>18</th>\n",
              "      <td>(sigiriya, rock)</td>\n",
              "      <td>8</td>\n",
              "    </tr>\n",
              "    <tr>\n",
              "      <th>19</th>\n",
              "      <td>(tripavi, travelwithtripavi)</td>\n",
              "      <td>8</td>\n",
              "    </tr>\n",
              "  </tbody>\n",
              "</table>\n",
              "</div>"
            ],
            "text/plain": [
              "                                        words  count\n",
              "0                                (sri, lanka)    171\n",
              "1                         (srilanka, tripavi)     26\n",
              "2                            (national, park)     23\n",
              "3                         (tripavi, srilanka)     19\n",
              "4                              (tailor, made)     18\n",
              "5                               (sri, lankan)     15\n",
              "6                           (inspired, ideas)     15\n",
              "7                                  (lanka, ’)     12\n",
              "8                            (yala, national)     12\n",
              "9   (srilankaspecialist, srilankawithtripavi)     12\n",
              "10                           (made, holidays)     11\n",
              "11                          (national, parks)     10\n",
              "12                          (travel, tripavi)     10\n",
              "13                              (contact, us)      9\n",
              "14                        (✉, infotripavicom)      9\n",
              "15              (tripavi, srilankaspecialist)      9\n",
              "16                          (great, inspired)      9\n",
              "17                            (team, tripavi)      8\n",
              "18                           (sigiriya, rock)      8\n",
              "19               (tripavi, travelwithtripavi)      8"
            ]
          },
          "metadata": {
            "tags": []
          },
          "execution_count": 145
        }
      ]
    },
    {
      "cell_type": "code",
      "metadata": {
        "colab": {
          "base_uri": "https://localhost:8080/",
          "height": 934
        },
        "id": "tz2RTW_KuOdx",
        "outputId": "bcbacdb4-0548-4ef3-b221-fe6d04b668f5"
      },
      "source": [
        "# Plot horizontal bar graph\n",
        "fig, ax = plt.subplots(figsize=(8, 16))\n",
        "bigrams1.sort_values(by='count').plot.barh(x='words',\n",
        "                      y='count',\n",
        "                      ax=ax,\n",
        "                      color=\"purple\")\n",
        "ax.set_title(\"Common Words Found in Tweets (Including All Words)\")\n",
        "plt.show()"
      ],
      "execution_count": null,
      "outputs": [
        {
          "output_type": "display_data",
          "data": {
            "image/png": "[encoded data removed]",
            "text/plain": [
              "<Figure size 576x1152 with 1 Axes>"
            ]
          },
          "metadata": {
            "tags": [],
            "needs_background": "light"
          }
        }
      ]
    },
    {
      "cell_type": "code",
      "metadata": {
        "colab": {
          "base_uri": "https://localhost:8080/",
          "height": 639
        },
        "id": "J8vZ4aRtuTQX",
        "outputId": "0ebfb1ec-9e9c-4274-df82-5aac8db521cf"
      },
      "source": [
        "trigramsList = list(nltk.trigrams(filtered_sentence))\n",
        "countsTrigrams = collections.Counter(trigramsList)\n",
        "countsTrigrams\n",
        "trigrams1 = pd.DataFrame(countsTrigrams.most_common(50),\n",
        "                             columns=['words', 'count'])\n",
        "trigrams1.head(20)"
      ],
      "execution_count": null,
      "outputs": [
        {
          "output_type": "execute_result",
          "data": {
            "text/html": [
              "<div>\n",
              "<style scoped>\n",
              "    .dataframe tbody tr th:only-of-type {\n",
              "        vertical-align: middle;\n",
              "    }\n",
              "\n",
              "    .dataframe tbody tr th {\n",
              "        vertical-align: top;\n",
              "    }\n",
              "\n",
              "    .dataframe thead th {\n",
              "        text-align: right;\n",
              "    }\n",
              "</style>\n",
              "<table border=\"1\" class=\"dataframe\">\n",
              "  <thead>\n",
              "    <tr style=\"text-align: right;\">\n",
              "      <th></th>\n",
              "      <th>words</th>\n",
              "      <th>count</th>\n",
              "    </tr>\n",
              "  </thead>\n",
              "  <tbody>\n",
              "    <tr>\n",
              "      <th>0</th>\n",
              "      <td>(sri, lanka, ’)</td>\n",
              "      <td>12</td>\n",
              "    </tr>\n",
              "    <tr>\n",
              "      <th>1</th>\n",
              "      <td>(yala, national, park)</td>\n",
              "      <td>11</td>\n",
              "    </tr>\n",
              "    <tr>\n",
              "      <th>2</th>\n",
              "      <td>(tailor, made, holidays)</td>\n",
              "      <td>11</td>\n",
              "    </tr>\n",
              "    <tr>\n",
              "      <th>3</th>\n",
              "      <td>(great, inspired, ideas)</td>\n",
              "      <td>9</td>\n",
              "    </tr>\n",
              "    <tr>\n",
              "      <th>4</th>\n",
              "      <td>(sri, lanka, srilanka)</td>\n",
              "      <td>6</td>\n",
              "    </tr>\n",
              "    <tr>\n",
              "      <th>5</th>\n",
              "      <td>(sri, lanka, tripavi)</td>\n",
              "      <td>6</td>\n",
              "    </tr>\n",
              "    <tr>\n",
              "      <th>6</th>\n",
              "      <td>(tour, sri, lanka)</td>\n",
              "      <td>6</td>\n",
              "    </tr>\n",
              "    <tr>\n",
              "      <th>7</th>\n",
              "      <td>(explore, sri, lanka)</td>\n",
              "      <td>5</td>\n",
              "    </tr>\n",
              "    <tr>\n",
              "      <th>8</th>\n",
              "      <td>(sigiriya, rock, fortress)</td>\n",
              "      <td>5</td>\n",
              "    </tr>\n",
              "    <tr>\n",
              "      <th>9</th>\n",
              "      <td>(sri, lanka, great)</td>\n",
              "      <td>5</td>\n",
              "    </tr>\n",
              "    <tr>\n",
              "      <th>10</th>\n",
              "      <td>(national, park, one)</td>\n",
              "      <td>5</td>\n",
              "    </tr>\n",
              "    <tr>\n",
              "      <th>11</th>\n",
              "      <td>(sri, lanka, travel)</td>\n",
              "      <td>5</td>\n",
              "    </tr>\n",
              "    <tr>\n",
              "      <th>12</th>\n",
              "      <td>(tripavi, sri, lanka)</td>\n",
              "      <td>5</td>\n",
              "    </tr>\n",
              "    <tr>\n",
              "      <th>13</th>\n",
              "      <td>(srilankaspecialist, srilankawithtripavi, trav...</td>\n",
              "      <td>5</td>\n",
              "    </tr>\n",
              "    <tr>\n",
              "      <th>14</th>\n",
              "      <td>(undiscovered, sri, lanka)</td>\n",
              "      <td>4</td>\n",
              "    </tr>\n",
              "    <tr>\n",
              "      <th>15</th>\n",
              "      <td>(visit, sri, lanka)</td>\n",
              "      <td>4</td>\n",
              "    </tr>\n",
              "    <tr>\n",
              "      <th>16</th>\n",
              "      <td>(unesco, world, heritage)</td>\n",
              "      <td>4</td>\n",
              "    </tr>\n",
              "    <tr>\n",
              "      <th>17</th>\n",
              "      <td>(world, heritage, site)</td>\n",
              "      <td>4</td>\n",
              "    </tr>\n",
              "    <tr>\n",
              "      <th>18</th>\n",
              "      <td>(sri, lanka, holidays)</td>\n",
              "      <td>4</td>\n",
              "    </tr>\n",
              "    <tr>\n",
              "      <th>19</th>\n",
              "      <td>(srilanka, tripavi, travelwithtripavi)</td>\n",
              "      <td>4</td>\n",
              "    </tr>\n",
              "  </tbody>\n",
              "</table>\n",
              "</div>"
            ],
            "text/plain": [
              "                                                words  count\n",
              "0                                     (sri, lanka, ’)     12\n",
              "1                              (yala, national, park)     11\n",
              "2                            (tailor, made, holidays)     11\n",
              "3                            (great, inspired, ideas)      9\n",
              "4                              (sri, lanka, srilanka)      6\n",
              "5                               (sri, lanka, tripavi)      6\n",
              "6                                  (tour, sri, lanka)      6\n",
              "7                               (explore, sri, lanka)      5\n",
              "8                          (sigiriya, rock, fortress)      5\n",
              "9                                 (sri, lanka, great)      5\n",
              "10                              (national, park, one)      5\n",
              "11                               (sri, lanka, travel)      5\n",
              "12                              (tripavi, sri, lanka)      5\n",
              "13  (srilankaspecialist, srilankawithtripavi, trav...      5\n",
              "14                         (undiscovered, sri, lanka)      4\n",
              "15                                (visit, sri, lanka)      4\n",
              "16                          (unesco, world, heritage)      4\n",
              "17                            (world, heritage, site)      4\n",
              "18                             (sri, lanka, holidays)      4\n",
              "19             (srilanka, tripavi, travelwithtripavi)      4"
            ]
          },
          "metadata": {
            "tags": []
          },
          "execution_count": 148
        }
      ]
    },
    {
      "cell_type": "code",
      "metadata": {
        "colab": {
          "base_uri": "https://localhost:8080/",
          "height": 1000
        },
        "id": "tY2LvK2CvWiU",
        "outputId": "aa51705b-4f0a-48fe-fadf-b72ac04aafe9"
      },
      "source": [
        "# Plot horizontal bar graph\n",
        "fig, ax = plt.subplots(figsize=(8, 16))\n",
        "trigrams1.sort_values(by='count').plot.barh(x='words',\n",
        "                      y='count',\n",
        "                      ax=ax,\n",
        "                      color=\"purple\")\n",
        "ax.set_title(\"Common Trigrams Found in Tweets (Including All Words)\")\n",
        "plt.show()"
      ],
      "execution_count": null,
      "outputs": [
        {
          "output_type": "stream",
          "text": [
            "/usr/local/lib/python3.6/dist-packages/matplotlib/backends/backend_agg.py:214: RuntimeWarning: Glyph 9937 missing from current font.\n",
            "  font.set_text(s, 0.0, flags=flags)\n",
            "/usr/local/lib/python3.6/dist-packages/matplotlib/backends/backend_agg.py:183: RuntimeWarning: Glyph 9937 missing from current font.\n",
            "  font.set_text(s, 0, flags=flags)\n"
          ],
          "name": "stderr"
        },
        {
          "output_type": "display_data",
          "data": {
            "image/png": "[encoded data removed]",
            "text/plain": [
              "<Figure size 576x1152 with 1 Axes>"
            ]
          },
          "metadata": {
            "tags": [],
            "needs_background": "light"
          }
        }
      ]
    },
    {
      "cell_type": "code",
      "metadata": {
        "id": "Ep0iO_npvY8v"
      },
      "source": [
        "# Filtering corpus, this time with stemmer (better for the cluster algorithm)\n",
        "corpus = []\n",
        "for i in range(0, len(df)):\n",
        "    tweet = df['text'][i]\n",
        "    tweet = tweet.lower()\n",
        "    tweet = tweet.replace(',', '').replace('.', '').replace('-', '').replace('!', '').replace(';', '')\n",
        "    tweet = tweet.split()\n",
        "    ps = PorterStemmer()\n",
        "    tweet = [ps.stem(word) for word in tweet]\n",
        "    loopVar = []\n",
        "    for i in tweet:\n",
        "        if i not in stop_words:\n",
        "            loopVar.append(i)\n",
        "    loopVar = ' '.join(loopVar)\n",
        "    corpus.append(loopVar)"
      ],
      "execution_count": null,
      "outputs": []
    },
    {
      "cell_type": "code",
      "metadata": {
        "id": "ahodkz_wvtCu"
      },
      "source": [
        "# Creating Bag of Words for clustering\n",
        "cv = CountVectorizer(max_features = 20000)\n",
        "X = cv.fit_transform(corpus).toarray()"
      ],
      "execution_count": null,
      "outputs": []
    },
    {
      "cell_type": "code",
      "metadata": {
        "colab": {
          "base_uri": "https://localhost:8080/"
        },
        "id": "tTf08e1yv2hz",
        "outputId": "ad687c1a-adc6-4994-ab68-4a20fe55bc90"
      },
      "source": [
        "true_k = 15 # set number of clusters as wished\n",
        "model = KMeans(n_clusters=true_k, init='k-means++', max_iter=100, n_init=1)\n",
        "model.fit(X)"
      ],
      "execution_count": null,
      "outputs": [
        {
          "output_type": "execute_result",
          "data": {
            "text/plain": [
              "KMeans(algorithm='auto', copy_x=True, init='k-means++', max_iter=100,\n",
              "       n_clusters=15, n_init=1, n_jobs=None, precompute_distances='auto',\n",
              "       random_state=None, tol=0.0001, verbose=0)"
            ]
          },
          "metadata": {
            "tags": []
          },
          "execution_count": 152
        }
      ]
    },
    {
      "cell_type": "code",
      "metadata": {
        "colab": {
          "base_uri": "https://localhost:8080/"
        },
        "id": "iQIorzEev8b9",
        "outputId": "d8d22ad4-8a93-4746-a6c2-f767261b2a9c"
      },
      "source": [
        "print(\"Top terms per cluster:\")\n",
        "order_centroids = model.cluster_centers_.argsort()[:, ::-1]\n",
        "terms = cv.get_feature_names()\n",
        "for i in range(true_k):\n",
        "    print(\"Cluster %d:\" % i),\n",
        "    for ind in order_centroids[i, :10]:\n",
        "        print(' %s' % terms[ind]),\n",
        "    print"
      ],
      "execution_count": null,
      "outputs": [
        {
          "output_type": "stream",
          "text": [
            "Top terms per cluster:\n",
            "Cluster 0:\n",
            " peopl\n",
            " strong\n",
            " seek\n",
            " mountain\n",
            " soul\n",
            " proven\n",
            " beauti\n",
            " beautifulsrilanka\n",
            " hospit\n",
            " pain\n",
            "Cluster 1:\n",
            " holiday\n",
            " cfieldwchoic\n",
            " present\n",
            " product\n",
            " staceylouwil\n",
            " love\n",
            " get\n",
            " germani\n",
            " georgiadavi\n",
            " georgia\n",
            "Cluster 2:\n",
            " tourism\n",
            " hotel\n",
            " wa\n",
            " summit\n",
            " thi\n",
            " honor\n",
            " happen\n",
            " lanka\n",
            " help\n",
            " industri\n",
            "Cluster 3:\n",
            " yala\n",
            " park\n",
            " nation\n",
            " tripavi\n",
            " srilanka\n",
            " eleph\n",
            " wild\n",
            " wildlif\n",
            " traveladventur\n",
            " best\n",
            "Cluster 4:\n",
            " sri\n",
            " lanka\n",
            " tripavi\n",
            " srilanka\n",
            " travel\n",
            " tour\n",
            " infotripavicom\n",
            " great\n",
            " holiday\n",
            " experi\n",
            "Cluster 5:\n",
            " gall\n",
            " srilanka\n",
            " tripavi\n",
            " best\n",
            " tour\n",
            " fort\n",
            " resort\n",
            " look\n",
            " amp\n",
            " day\n",
            "Cluster 6:\n",
            " tripavi\n",
            " srilanka\n",
            " travel\n",
            " great\n",
            " holiday\n",
            " thi\n",
            " amaz\n",
            " experi\n",
            " best\n",
            " colombo\n",
            "Cluster 7:\n",
            " escap\n",
            " lanka\n",
            " bounti\n",
            " hill\n",
            " paradis\n",
            " everyth\n",
            " got\n",
            " unexploit\n",
            " want\n",
            " may\n",
            "Cluster 8:\n",
            " bungalow\n",
            " extens\n",
            " luxuri\n",
            " plantat\n",
            " bedroom\n",
            " theme\n",
            " five\n",
            " hill\n",
            " ago\n",
            " infin\n",
            "Cluster 9:\n",
            " farm\n",
            " wind\n",
            " ambewela\n",
            " stayhom\n",
            " travel\n",
            " smaller\n",
            " dismantl\n",
            " hill\n",
            " windfarm\n",
            " wa\n",
            "Cluster 10:\n",
            " nation\n",
            " park\n",
            " sri\n",
            " marin\n",
            " lanka\n",
            " snorkel\n",
            " pigeon\n",
            " coral\n",
            " reef\n",
            " one\n",
            "Cluster 11:\n",
            " eleph\n",
            " lanka\n",
            " sri\n",
            " soon\n",
            " happi\n",
            " popul\n",
            " asianeleph\n",
            " asia\n",
            " conserv\n",
            " highest\n",
            "Cluster 12:\n",
            " cinnamon\n",
            " wildlif\n",
            " wild\n",
            " experi\n",
            " special\n",
            " made\n",
            " moment\n",
            " inspir\n",
            " adventur\n",
            " design\n",
            "Cluster 13:\n",
            " tripavi\n",
            " deal\n",
            " srilanka\n",
            " book\n",
            " come\n",
            " season\n",
            " whi\n",
            " school\n",
            " packag\n",
            " srilankatravelag\n",
            "Cluster 14:\n",
            " sigiriya\n",
            " visit\n",
            " lion\n",
            " rock\n",
            " perfect\n",
            " avoid\n",
            " heritag\n",
            " morn\n",
            " enorm\n",
            " landmark\n"
          ],
          "name": "stdout"
        }
      ]
    },
    {
      "cell_type": "code",
      "metadata": {
        "colab": {
          "base_uri": "https://localhost:8080/"
        },
        "id": "qmaOCUPdv-0Y",
        "outputId": "f7fd457d-0809-4519-a9dc-d7d8b77118a2"
      },
      "source": [
        "labels = model.predict(X)\n",
        "labels"
      ],
      "execution_count": null,
      "outputs": [
        {
          "output_type": "execute_result",
          "data": {
            "text/plain": [
              "array([ 6,  4,  4,  6,  6,  6,  4,  6,  6,  6,  6,  6,  6,  4,  4,  4,  6,\n",
              "        6,  6,  6,  6,  6,  6,  6,  3,  6,  3,  6,  4,  6,  6,  6,  4,  4,\n",
              "        5, 14,  6,  6,  6,  4,  5,  6,  4,  4,  6,  4,  6,  6,  4,  6,  4,\n",
              "        4,  4,  4,  6,  6,  4,  4,  6,  4,  6,  6,  6,  6, 10,  4,  4, 10,\n",
              "        6,  6,  3,  6,  6,  6,  4,  4,  4,  6,  6,  4,  6,  4,  4,  6,  6,\n",
              "        4,  6,  4,  4,  6,  4,  6,  4,  6,  4,  6,  6,  6,  6,  4,  4,  6,\n",
              "        4,  4,  6,  6,  6,  6,  6,  6,  4,  6,  6,  3,  9,  6,  4,  4,  6,\n",
              "        6,  6,  6,  6,  6,  6,  4,  6,  6,  6,  6,  6,  6,  6,  4,  6,  6,\n",
              "        4,  6,  6,  4,  6,  6,  4,  6,  6,  6,  6,  4,  6,  6,  6,  4,  6,\n",
              "        6,  4,  6,  6,  0,  6,  6,  6,  6,  6,  6,  4,  4,  6,  6,  4,  4,\n",
              "        4, 10,  5,  4,  6,  6,  6,  4,  6,  4,  6,  6,  6,  6,  6,  6,  6,\n",
              "        6,  4,  4,  4,  6,  4,  6,  4,  6,  6,  6,  5,  6,  6,  3,  6,  6,\n",
              "        4,  6,  6,  3,  4,  6,  6,  4,  3,  6,  6,  6,  4,  6,  4,  4,  6,\n",
              "        6,  5,  6,  4,  6,  6,  6,  4,  5,  6,  4,  3,  4,  4,  6,  6,  4,\n",
              "        4,  6,  6,  6,  4,  6,  4,  6,  3,  3,  4,  4,  6,  6,  4,  4,  4,\n",
              "        6,  6,  4,  4,  6,  4,  6,  6,  4,  6,  4,  4,  6,  4,  4,  4, 12,\n",
              "        4,  6,  3,  4,  4,  4,  6,  6,  6,  4,  6,  6,  6,  4,  6,  6,  6,\n",
              "        6,  4,  4,  6,  6,  6,  6,  6,  6,  4,  6,  6,  6,  6,  6,  6,  6,\n",
              "        6,  6,  6,  4,  6,  6,  4,  6,  6,  6,  6,  6,  6,  4,  4,  4,  6,\n",
              "        4,  3,  3,  6,  6,  6,  3,  6,  6,  3,  6,  3,  3,  6,  3,  3,  3,\n",
              "        6,  4,  6,  4,  6,  3,  4,  6,  4,  6,  4,  4,  6,  4,  4,  4,  6,\n",
              "        4,  6,  6,  6,  4,  6,  6,  7,  6,  6,  4,  6,  6,  6,  6,  4,  6,\n",
              "        6,  6,  6,  6,  4,  6,  4,  6,  6,  6,  6,  4,  4,  6,  6,  6,  6,\n",
              "        4,  4,  6,  6,  6,  6,  6,  4,  3,  3,  6,  6,  8,  4,  6,  6,  6,\n",
              "        6,  6,  6,  6,  6,  2,  4,  4,  6,  3,  6,  4,  6,  4,  6,  6,  6,\n",
              "        6,  4,  6,  6,  2,  6,  6,  6,  6,  4,  5,  4,  6,  4,  6,  4,  6,\n",
              "        6,  4,  4,  6,  5,  4,  6,  6,  6,  4,  6,  6,  4,  6,  6,  6,  6,\n",
              "        6,  6,  6,  6,  6,  6,  6,  6,  6, 13,  1,  4,  6,  6,  6,  6,  6,\n",
              "        6,  6,  4,  6,  3,  6,  6,  6,  6,  5,  6,  6,  6,  6,  6, 11,  4,\n",
              "        6,  6,  6,  6,  6,  6,  6,  4,  6,  6,  6,  6,  6,  6,  6,  6,  6,\n",
              "        6,  6,  6,  6,  6,  6,  6,  6,  6,  6,  6,  6,  4,  4,  6,  6,  6,\n",
              "        4,  6,  4,  4,  4,  6,  4,  4,  6,  6,  6,  4,  6,  6,  4,  6,  6,\n",
              "        6,  6,  4,  6,  6], dtype=int32)"
            ]
          },
          "metadata": {
            "tags": []
          },
          "execution_count": 154
        }
      ]
    },
    {
      "cell_type": "code",
      "metadata": {
        "id": "AuPCZPi0wIoh"
      },
      "source": [
        "clusteredTweets = pd.DataFrame(df.text)\n",
        "clusteredTweets[\"cluster\"] = pd.DataFrame(labels)"
      ],
      "execution_count": null,
      "outputs": []
    },
    {
      "cell_type": "code",
      "metadata": {
        "colab": {
          "base_uri": "https://localhost:8080/",
          "height": 301
        },
        "id": "IBjxYrYy1pee",
        "outputId": "7a42e74c-a514-4290-dab9-dc076c81f0ad"
      },
      "source": [
        "clusteredTweets.cluster.value_counts().plot(kind = 'bar', title = 'clusterCount')"
      ],
      "execution_count": null,
      "outputs": [
        {
          "output_type": "execute_result",
          "data": {
            "text/plain": [
              "<matplotlib.axes._subplots.AxesSubplot at 0x7f5ebaaa9f98>"
            ]
          },
          "metadata": {
            "tags": []
          },
          "execution_count": 156
        },
        {
          "output_type": "display_data",
          "data": {
            "image/png": "[encoded data removed]",
            "text/plain": [
              "<Figure size 432x288 with 1 Axes>"
            ]
          },
          "metadata": {
            "tags": [],
            "needs_background": "light"
          }
        }
      ]
    },
    {
      "cell_type": "code",
      "metadata": {
        "id": "Uj5F7ZzI29B_"
      },
      "source": [
        "# Getting the most representative tweet of each cluster\n",
        "closest, _ = pairwise_distances_argmin_min(model.cluster_centers_, X)"
      ],
      "execution_count": null,
      "outputs": []
    },
    {
      "cell_type": "code",
      "metadata": {
        "colab": {
          "base_uri": "https://localhost:8080/",
          "height": 491
        },
        "id": "MCMoZ4A23DmK",
        "outputId": "cb1e5334-0518-436f-f257-4d6a5b6229af"
      },
      "source": [
        "# Showing most representative tweet for each cluster and comparing to negative reason column\n",
        "mostReprTweets = clusteredTweets.iloc[closest]\n",
        "#mostReprTweets[\"negativereason\"] = dataset.negativereason[closest]\n",
        "mostReprTweets"
      ],
      "execution_count": null,
      "outputs": [
        {
          "output_type": "execute_result",
          "data": {
            "text/html": [
              "<div>\n",
              "<style scoped>\n",
              "    .dataframe tbody tr th:only-of-type {\n",
              "        vertical-align: middle;\n",
              "    }\n",
              "\n",
              "    .dataframe tbody tr th {\n",
              "        vertical-align: top;\n",
              "    }\n",
              "\n",
              "    .dataframe thead th {\n",
              "        text-align: right;\n",
              "    }\n",
              "</style>\n",
              "<table border=\"1\" class=\"dataframe\">\n",
              "  <thead>\n",
              "    <tr style=\"text-align: right;\">\n",
              "      <th></th>\n",
              "      <th>text</th>\n",
              "      <th>cluster</th>\n",
              "    </tr>\n",
              "  </thead>\n",
              "  <tbody>\n",
              "    <tr>\n",
              "      <th>157</th>\n",
              "      <td>sri lanka the little spice packed  thrill seek...</td>\n",
              "      <td>0</td>\n",
              "    </tr>\n",
              "    <tr>\n",
              "      <th>469</th>\n",
              "      <td>cfieldwchoice staceylouwil lovely presentation...</td>\n",
              "      <td>1</td>\n",
              "    </tr>\n",
              "    <tr>\n",
              "      <th>413</th>\n",
              "      <td>international tourism leaders  summit and tour...</td>\n",
              "      <td>2</td>\n",
              "    </tr>\n",
              "    <tr>\n",
              "      <th>12</th>\n",
              "      <td></td>\n",
              "      <td>6</td>\n",
              "    </tr>\n",
              "    <tr>\n",
              "      <th>348</th>\n",
              "      <td>sri lanka holidays with tripavi</td>\n",
              "      <td>4</td>\n",
              "    </tr>\n",
              "    <tr>\n",
              "      <th>318</th>\n",
              "      <td>☀️srilanka</td>\n",
              "      <td>6</td>\n",
              "    </tr>\n",
              "    <tr>\n",
              "      <th>12</th>\n",
              "      <td></td>\n",
              "      <td>6</td>\n",
              "    </tr>\n",
              "    <tr>\n",
              "      <th>364</th>\n",
              "      <td>a little bit of paradise  bounties with unique...</td>\n",
              "      <td>7</td>\n",
              "    </tr>\n",
              "    <tr>\n",
              "      <th>403</th>\n",
              "      <td>taylor ’ s hill is a stone tea plantation bung...</td>\n",
              "      <td>8</td>\n",
              "    </tr>\n",
              "    <tr>\n",
              "      <th>114</th>\n",
              "      <td>did you know sri lanka had wind farms  our mos...</td>\n",
              "      <td>9</td>\n",
              "    </tr>\n",
              "    <tr>\n",
              "      <th>67</th>\n",
              "      <td>travel to pigeon island national park  one of ...</td>\n",
              "      <td>10</td>\n",
              "    </tr>\n",
              "    <tr>\n",
              "      <th>491</th>\n",
              "      <td>sri lanka as a country holds the highest densi...</td>\n",
              "      <td>11</td>\n",
              "    </tr>\n",
              "    <tr>\n",
              "      <th>271</th>\n",
              "      <td>inspiring moments in the wild  experience the ...</td>\n",
              "      <td>12</td>\n",
              "    </tr>\n",
              "    <tr>\n",
              "      <th>468</th>\n",
              "      <td>best time to come explore srilanka school holi...</td>\n",
              "      <td>13</td>\n",
              "    </tr>\n",
              "    <tr>\n",
              "      <th>35</th>\n",
              "      <td>lion rock in sigiriya is one of the most popul...</td>\n",
              "      <td>14</td>\n",
              "    </tr>\n",
              "  </tbody>\n",
              "</table>\n",
              "</div>"
            ],
            "text/plain": [
              "                                                  text  cluster\n",
              "157  sri lanka the little spice packed  thrill seek...        0\n",
              "469  cfieldwchoice staceylouwil lovely presentation...        1\n",
              "413  international tourism leaders  summit and tour...        2\n",
              "12                                                            6\n",
              "348                    sri lanka holidays with tripavi        4\n",
              "318                                         ☀️srilanka        6\n",
              "12                                                            6\n",
              "364  a little bit of paradise  bounties with unique...        7\n",
              "403  taylor ’ s hill is a stone tea plantation bung...        8\n",
              "114  did you know sri lanka had wind farms  our mos...        9\n",
              "67   travel to pigeon island national park  one of ...       10\n",
              "491  sri lanka as a country holds the highest densi...       11\n",
              "271  inspiring moments in the wild  experience the ...       12\n",
              "468  best time to come explore srilanka school holi...       13\n",
              "35   lion rock in sigiriya is one of the most popul...       14"
            ]
          },
          "metadata": {
            "tags": []
          },
          "execution_count": 158
        }
      ]
    },
    {
      "cell_type": "code",
      "metadata": {
        "id": "xOH_C5WV3OtH"
      },
      "source": [
        ""
      ],
      "execution_count": null,
      "outputs": []
    }
  ]
}