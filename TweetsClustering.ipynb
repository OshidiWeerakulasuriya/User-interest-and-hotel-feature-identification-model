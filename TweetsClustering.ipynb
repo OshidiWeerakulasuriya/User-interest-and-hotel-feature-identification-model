{
  "nbformat": 4,
  "nbformat_minor": 0,
  "metadata": {
    "colab": {
      "name": "TweetsClustering.ipynb",
      "provenance": [],
      "mount_file_id": "1HMpKrj2I0Lzy5fYVSGn1fNmSVEu0wO-5",
      "authorship_tag": "ABX9TyNtJaMPo6AzHtAAUR2SH5wL",
      "include_colab_link": true
    },
    "kernelspec": {
      "name": "python3",
      "display_name": "Python 3"
    }
  },
  "cells": [
    {
      "cell_type": "markdown",
      "metadata": {
        "id": "view-in-github",
        "colab_type": "text"
      },
      "source": [
        "<a href=\"https://colab.research.google.com/github/OshidiWeerakulasuriya/User-interest-and-hotel-feature-identification-model/blob/main/TweetsClustering.ipynb\" target=\"_parent\"><img src=\"https://colab.research.google.com/assets/colab-badge.svg\" alt=\"Open In Colab\"/></a>"
      ]
    },
    {
      "cell_type": "markdown",
      "metadata": {
        "id": "BF8KCVl8LtGG"
      },
      "source": [
        "Code reference - https://github.com/Opshou/twitterCluster/blob/master/Twitter%20clustering.ipynb"
      ]
    },
    {
      "cell_type": "code",
      "metadata": {
        "id": "dEHf1yX3RIgT"
      },
      "source": [
        "import numpy as np\n",
        "import matplotlib.pyplot as plt\n",
        "import pandas as pd"
      ],
      "execution_count": 1,
      "outputs": []
    },
    {
      "cell_type": "code",
      "metadata": {
        "colab": {
          "base_uri": "https://localhost:8080/"
        },
        "id": "8wsIlnDmWsps",
        "outputId": "129a7240-413b-4837-863f-69df85d55c72"
      },
      "source": [
        "import re                                                       # regular expressions\n",
        "import nltk                                                     # nlp library\n",
        "nltk.download('stopwords')\n",
        "from nltk.corpus import stopwords\n",
        "from nltk.stem.porter import PorterStemmer\n",
        "from nltk.tokenize import word_tokenize\n",
        "nltk.download('punkt')\n",
        "from sklearn.feature_extraction.text import CountVectorizer\n",
        "from sklearn.cluster import KMeans\n",
        "from sklearn.metrics import pairwise_distances_argmin_min\n",
        "from scipy.spatial.distance import cdist\n",
        "import itertools                                                # corpus creation\n",
        "import collections                                              # word counter\n",
        "import networkx  "
      ],
      "execution_count": 2,
      "outputs": [
        {
          "output_type": "stream",
          "text": [
            "[nltk_data] Downloading package stopwords to /root/nltk_data...\n",
            "[nltk_data]   Unzipping corpora/stopwords.zip.\n",
            "[nltk_data] Downloading package punkt to /root/nltk_data...\n",
            "[nltk_data]   Unzipping tokenizers/punkt.zip.\n"
          ],
          "name": "stdout"
        }
      ]
    },
    {
      "cell_type": "code",
      "metadata": {
        "id": "XmK-ieFWO2bG"
      },
      "source": [
        "tweets = pd.read_csv('/content/drive/MyDrive/Colab Notebooks/GunasekeraHiran_tweets.csv', index_col=0)"
      ],
      "execution_count": 3,
      "outputs": []
    },
    {
      "cell_type": "code",
      "metadata": {
        "colab": {
          "base_uri": "https://localhost:8080/",
          "height": 431
        },
        "id": "-g9bRGXFPdFR",
        "outputId": "2644653c-9855-47b2-e6ec-6a9f726c2293"
      },
      "source": [
        "tweets"
      ],
      "execution_count": 4,
      "outputs": [
        {
          "output_type": "execute_result",
          "data": {
            "text/html": [
              "<div>\n",
              "<style scoped>\n",
              "    .dataframe tbody tr th:only-of-type {\n",
              "        vertical-align: middle;\n",
              "    }\n",
              "\n",
              "    .dataframe tbody tr th {\n",
              "        vertical-align: top;\n",
              "    }\n",
              "\n",
              "    .dataframe thead th {\n",
              "        text-align: right;\n",
              "    }\n",
              "</style>\n",
              "<table border=\"1\" class=\"dataframe\">\n",
              "  <thead>\n",
              "    <tr style=\"text-align: right;\">\n",
              "      <th></th>\n",
              "      <th>created_at</th>\n",
              "      <th>text</th>\n",
              "    </tr>\n",
              "    <tr>\n",
              "      <th>id</th>\n",
              "      <th></th>\n",
              "      <th></th>\n",
              "    </tr>\n",
              "  </thead>\n",
              "  <tbody>\n",
              "    <tr>\n",
              "      <th>1324617054377291776</th>\n",
              "      <td>2020-11-06 07:38:10</td>\n",
              "      <td>Contact Tripavi for some of our great Easter v...</td>\n",
              "    </tr>\n",
              "    <tr>\n",
              "      <th>1322759695656865793</th>\n",
              "      <td>2020-11-01 04:37:41</td>\n",
              "      <td>The best roads trips in Sri Lanka 🇱🇰 #SriLanka...</td>\n",
              "    </tr>\n",
              "    <tr>\n",
              "      <th>1321669595653009409</th>\n",
              "      <td>2020-10-29 04:26:01</td>\n",
              "      <td>Explore some of Sri Lanka’s azure seas and pal...</td>\n",
              "    </tr>\n",
              "    <tr>\n",
              "      <th>1321051474785259522</th>\n",
              "      <td>2020-10-27 11:29:50</td>\n",
              "      <td>Kantale tanka #SriLanka #tripaviadventures #tr...</td>\n",
              "    </tr>\n",
              "    <tr>\n",
              "      <th>1321050817089028098</th>\n",
              "      <td>2020-10-27 11:27:13</td>\n",
              "      <td>Kantale tanka #SriLanka #StayHome #tripaviadve...</td>\n",
              "    </tr>\n",
              "    <tr>\n",
              "      <th>...</th>\n",
              "      <td>...</td>\n",
              "      <td>...</td>\n",
              "    </tr>\n",
              "    <tr>\n",
              "      <th>1146755492141850624</th>\n",
              "      <td>2019-07-04 12:19:49</td>\n",
              "      <td>Silva to bring in Sri Lankan team to play at S...</td>\n",
              "    </tr>\n",
              "    <tr>\n",
              "      <th>1146751885233270784</th>\n",
              "      <td>2019-07-04 12:05:29</td>\n",
              "      <td>We are delighted to announce that Tripavi is n...</td>\n",
              "    </tr>\n",
              "    <tr>\n",
              "      <th>1146750392983871488</th>\n",
              "      <td>2019-07-04 11:59:33</td>\n",
              "      <td>I'm delighted to inform you that we have offic...</td>\n",
              "    </tr>\n",
              "    <tr>\n",
              "      <th>1146727883005730816</th>\n",
              "      <td>2019-07-04 10:30:07</td>\n",
              "      <td>Take only memories and leave only footprints, ...</td>\n",
              "    </tr>\n",
              "    <tr>\n",
              "      <th>1146725916221018113</th>\n",
              "      <td>2019-07-04 10:22:18</td>\n",
              "      <td>@Tripavi1 @JetwingHotels Great offers, the bes...</td>\n",
              "    </tr>\n",
              "  </tbody>\n",
              "</table>\n",
              "<p>549 rows × 2 columns</p>\n",
              "</div>"
            ],
            "text/plain": [
              "                              created_at                                               text\n",
              "id                                                                                         \n",
              "1324617054377291776  2020-11-06 07:38:10  Contact Tripavi for some of our great Easter v...\n",
              "1322759695656865793  2020-11-01 04:37:41  The best roads trips in Sri Lanka 🇱🇰 #SriLanka...\n",
              "1321669595653009409  2020-10-29 04:26:01  Explore some of Sri Lanka’s azure seas and pal...\n",
              "1321051474785259522  2020-10-27 11:29:50  Kantale tanka #SriLanka #tripaviadventures #tr...\n",
              "1321050817089028098  2020-10-27 11:27:13  Kantale tanka #SriLanka #StayHome #tripaviadve...\n",
              "...                                  ...                                                ...\n",
              "1146755492141850624  2019-07-04 12:19:49  Silva to bring in Sri Lankan team to play at S...\n",
              "1146751885233270784  2019-07-04 12:05:29  We are delighted to announce that Tripavi is n...\n",
              "1146750392983871488  2019-07-04 11:59:33  I'm delighted to inform you that we have offic...\n",
              "1146727883005730816  2019-07-04 10:30:07  Take only memories and leave only footprints, ...\n",
              "1146725916221018113  2019-07-04 10:22:18  @Tripavi1 @JetwingHotels Great offers, the bes...\n",
              "\n",
              "[549 rows x 2 columns]"
            ]
          },
          "metadata": {
            "tags": []
          },
          "execution_count": 4
        }
      ]
    },
    {
      "cell_type": "code",
      "metadata": {
        "id": "yS1OkVgMRLa_"
      },
      "source": [
        "df = pd.DataFrame(tweets.text)"
      ],
      "execution_count": 5,
      "outputs": []
    },
    {
      "cell_type": "code",
      "metadata": {
        "id": "T0GFVuN2ROLW"
      },
      "source": [
        "import re\n",
        "import nltk\n",
        "\n",
        "# Cleaning the tweets\n",
        "# Creating a function called clean. removing hyperlink, #, RT, @mentions\n",
        "def clean(x):\n",
        " # keep only words\n",
        "  #regex_pat = re.compile(r'[^a-zA-Z\\s]', flags=re.IGNORECASE)\n",
        "  #x = x.str.replace(regex_pat, '', x)\n",
        "  #x = re.compile(r'[^a-zA-Z\\s]+', '', x)\n",
        "  x = re.sub(r'^RT[\\s]+', '', x)\n",
        "  x = re.sub(r'https?:\\/\\/.*[\\r\\n]*', '', x)\n",
        "  x = re.sub(r'#', '', x)\n",
        "  x = re.sub(r'@[A-Za-z0–9]+', '', x) \n",
        "  return x\n",
        "\n",
        "df['text'] = df['text'].apply(clean)"
      ],
      "execution_count": 6,
      "outputs": []
    },
    {
      "cell_type": "code",
      "metadata": {
        "id": "rC8sNIIORQzA",
        "colab": {
          "base_uri": "https://localhost:8080/",
          "height": 431
        },
        "outputId": "4dc0131c-0077-4a44-bed3-96a6ee7a1972"
      },
      "source": [
        "df"
      ],
      "execution_count": 7,
      "outputs": [
        {
          "output_type": "execute_result",
          "data": {
            "text/html": [
              "<div>\n",
              "<style scoped>\n",
              "    .dataframe tbody tr th:only-of-type {\n",
              "        vertical-align: middle;\n",
              "    }\n",
              "\n",
              "    .dataframe tbody tr th {\n",
              "        vertical-align: top;\n",
              "    }\n",
              "\n",
              "    .dataframe thead th {\n",
              "        text-align: right;\n",
              "    }\n",
              "</style>\n",
              "<table border=\"1\" class=\"dataframe\">\n",
              "  <thead>\n",
              "    <tr style=\"text-align: right;\">\n",
              "      <th></th>\n",
              "      <th>text</th>\n",
              "    </tr>\n",
              "    <tr>\n",
              "      <th>id</th>\n",
              "      <th></th>\n",
              "    </tr>\n",
              "  </thead>\n",
              "  <tbody>\n",
              "    <tr>\n",
              "      <th>1324617054377291776</th>\n",
              "      <td>Contact Tripavi for some of our great Easter v...</td>\n",
              "    </tr>\n",
              "    <tr>\n",
              "      <th>1322759695656865793</th>\n",
              "      <td>The best roads trips in Sri Lanka 🇱🇰 SriLanka ...</td>\n",
              "    </tr>\n",
              "    <tr>\n",
              "      <th>1321669595653009409</th>\n",
              "      <td>Explore some of Sri Lanka’s azure seas and pal...</td>\n",
              "    </tr>\n",
              "    <tr>\n",
              "      <th>1321051474785259522</th>\n",
              "      <td>Kantale tanka SriLanka tripaviadventures trave...</td>\n",
              "    </tr>\n",
              "    <tr>\n",
              "      <th>1321050817089028098</th>\n",
              "      <td>Kantale tanka SriLanka StayHome tripaviadventu...</td>\n",
              "    </tr>\n",
              "    <tr>\n",
              "      <th>...</th>\n",
              "      <td>...</td>\n",
              "    </tr>\n",
              "    <tr>\n",
              "      <th>1146755492141850624</th>\n",
              "      <td>Silva to bring in Sri Lankan team to play at S...</td>\n",
              "    </tr>\n",
              "    <tr>\n",
              "      <th>1146751885233270784</th>\n",
              "      <td>We are delighted to announce that Tripavi is n...</td>\n",
              "    </tr>\n",
              "    <tr>\n",
              "      <th>1146750392983871488</th>\n",
              "      <td>I'm delighted to inform you that we have offic...</td>\n",
              "    </tr>\n",
              "    <tr>\n",
              "      <th>1146727883005730816</th>\n",
              "      <td>Take only memories and leave only footprints, ...</td>\n",
              "    </tr>\n",
              "    <tr>\n",
              "      <th>1146725916221018113</th>\n",
              "      <td>1  Great offers, the best time to go explore t...</td>\n",
              "    </tr>\n",
              "  </tbody>\n",
              "</table>\n",
              "<p>549 rows × 1 columns</p>\n",
              "</div>"
            ],
            "text/plain": [
              "                                                                  text\n",
              "id                                                                    \n",
              "1324617054377291776  Contact Tripavi for some of our great Easter v...\n",
              "1322759695656865793  The best roads trips in Sri Lanka 🇱🇰 SriLanka ...\n",
              "1321669595653009409  Explore some of Sri Lanka’s azure seas and pal...\n",
              "1321051474785259522  Kantale tanka SriLanka tripaviadventures trave...\n",
              "1321050817089028098  Kantale tanka SriLanka StayHome tripaviadventu...\n",
              "...                                                                ...\n",
              "1146755492141850624  Silva to bring in Sri Lankan team to play at S...\n",
              "1146751885233270784  We are delighted to announce that Tripavi is n...\n",
              "1146750392983871488  I'm delighted to inform you that we have offic...\n",
              "1146727883005730816  Take only memories and leave only footprints, ...\n",
              "1146725916221018113  1  Great offers, the best time to go explore t...\n",
              "\n",
              "[549 rows x 1 columns]"
            ]
          },
          "metadata": {
            "tags": []
          },
          "execution_count": 7
        }
      ]
    },
    {
      "cell_type": "code",
      "metadata": {
        "colab": {
          "base_uri": "https://localhost:8080/",
          "height": 17
        },
        "id": "-aqdRfxuJG73",
        "outputId": "813ee29d-e640-435f-a824-13382dea5ba4"
      },
      "source": [
        "from google.colab import files\n",
        "\n",
        "df.to_csv('df.csv')\n",
        "files.download('df.csv')"
      ],
      "execution_count": null,
      "outputs": [
        {
          "output_type": "display_data",
          "data": {
            "application/javascript": [
              "\n",
              "    async function download(id, filename, size) {\n",
              "      if (!google.colab.kernel.accessAllowed) {\n",
              "        return;\n",
              "      }\n",
              "      const div = document.createElement('div');\n",
              "      const label = document.createElement('label');\n",
              "      label.textContent = `Downloading \"${filename}\": `;\n",
              "      div.appendChild(label);\n",
              "      const progress = document.createElement('progress');\n",
              "      progress.max = size;\n",
              "      div.appendChild(progress);\n",
              "      document.body.appendChild(div);\n",
              "\n",
              "      const buffers = [];\n",
              "      let downloaded = 0;\n",
              "\n",
              "      const channel = await google.colab.kernel.comms.open(id);\n",
              "      // Send a message to notify the kernel that we're ready.\n",
              "      channel.send({})\n",
              "\n",
              "      for await (const message of channel.messages) {\n",
              "        // Send a message to notify the kernel that we're ready.\n",
              "        channel.send({})\n",
              "        if (message.buffers) {\n",
              "          for (const buffer of message.buffers) {\n",
              "            buffers.push(buffer);\n",
              "            downloaded += buffer.byteLength;\n",
              "            progress.value = downloaded;\n",
              "          }\n",
              "        }\n",
              "      }\n",
              "      const blob = new Blob(buffers, {type: 'application/binary'});\n",
              "      const a = document.createElement('a');\n",
              "      a.href = window.URL.createObjectURL(blob);\n",
              "      a.download = filename;\n",
              "      div.appendChild(a);\n",
              "      a.click();\n",
              "      div.remove();\n",
              "    }\n",
              "  "
            ],
            "text/plain": [
              "<IPython.core.display.Javascript object>"
            ]
          },
          "metadata": {
            "tags": []
          }
        },
        {
          "output_type": "display_data",
          "data": {
            "application/javascript": [
              "download(\"download_309fc38d-c514-4a0b-a32a-7cd26f86d685\", \"df.csv\", 88989)"
            ],
            "text/plain": [
              "<IPython.core.display.Javascript object>"
            ]
          },
          "metadata": {
            "tags": []
          }
        }
      ]
    },
    {
      "cell_type": "code",
      "metadata": {
        "id": "5b0-WX0kimLv"
      },
      "source": [
        "# Looking for the number of sentences with specific keywords\n",
        "counter = 0\n",
        "for i in df.text:\n",
        "    if (('love' in i or 'like' in i or 'amazing' in i or 'awesome' in i) \n",
        "    and ('beach' in i or 'sea' in i or 'waves' in i or 'ocean' in i or 'sand' in i or 'breeze' in i)):\n",
        "        counter = counter + 1\n",
        "#print(\"There's {} ({}%) queries related with asking about delays while on the plane\".format(counter, round(float(counter)/len(dataset.text)*100, 3)))"
      ],
      "execution_count": 10,
      "outputs": []
    },
    {
      "cell_type": "code",
      "metadata": {
        "colab": {
          "base_uri": "https://localhost:8080/"
        },
        "id": "LwAWHT4CkQuX",
        "outputId": "e82686f1-3674-4825-e612-bb2228937184"
      },
      "source": [
        "counter"
      ],
      "execution_count": 11,
      "outputs": [
        {
          "output_type": "execute_result",
          "data": {
            "text/plain": [
              "8"
            ]
          },
          "metadata": {
            "tags": []
          },
          "execution_count": 11
        }
      ]
    },
    {
      "cell_type": "markdown",
      "metadata": {
        "id": "We43BQVHsqA4"
      },
      "source": [
        "Insert a column 'NewId' from 0 onwards"
      ]
    },
    {
      "cell_type": "code",
      "metadata": {
        "colab": {
          "base_uri": "https://localhost:8080/",
          "height": 402
        },
        "id": "IDv912rMmEpM",
        "outputId": "a1220696-81ec-4fb4-910b-b610bb4971c4"
      },
      "source": [
        "df.insert(0, 'New_ID', range(0, 0 + len(df)))"
      ],
      "execution_count": 23,
      "outputs": [
        {
          "output_type": "execute_result",
          "data": {
            "text/html": [
              "<div>\n",
              "<style scoped>\n",
              "    .dataframe tbody tr th:only-of-type {\n",
              "        vertical-align: middle;\n",
              "    }\n",
              "\n",
              "    .dataframe tbody tr th {\n",
              "        vertical-align: top;\n",
              "    }\n",
              "\n",
              "    .dataframe thead th {\n",
              "        text-align: right;\n",
              "    }\n",
              "</style>\n",
              "<table border=\"1\" class=\"dataframe\">\n",
              "  <thead>\n",
              "    <tr style=\"text-align: right;\">\n",
              "      <th></th>\n",
              "      <th>New_ID</th>\n",
              "      <th>NewID</th>\n",
              "      <th>id</th>\n",
              "      <th>text</th>\n",
              "    </tr>\n",
              "  </thead>\n",
              "  <tbody>\n",
              "    <tr>\n",
              "      <th>0</th>\n",
              "      <td>0</td>\n",
              "      <td>0</td>\n",
              "      <td>1324617054377291776</td>\n",
              "      <td>Contact Tripavi for some of our great Easter v...</td>\n",
              "    </tr>\n",
              "    <tr>\n",
              "      <th>1</th>\n",
              "      <td>1</td>\n",
              "      <td>1</td>\n",
              "      <td>1322759695656865793</td>\n",
              "      <td>The best roads trips in Sri Lanka 🇱🇰 SriLanka ...</td>\n",
              "    </tr>\n",
              "    <tr>\n",
              "      <th>2</th>\n",
              "      <td>2</td>\n",
              "      <td>2</td>\n",
              "      <td>1321669595653009409</td>\n",
              "      <td>Explore some of Sri Lanka’s azure seas and pal...</td>\n",
              "    </tr>\n",
              "    <tr>\n",
              "      <th>3</th>\n",
              "      <td>3</td>\n",
              "      <td>3</td>\n",
              "      <td>1321051474785259522</td>\n",
              "      <td>Kantale tanka SriLanka tripaviadventures trave...</td>\n",
              "    </tr>\n",
              "    <tr>\n",
              "      <th>4</th>\n",
              "      <td>4</td>\n",
              "      <td>4</td>\n",
              "      <td>1321050817089028098</td>\n",
              "      <td>Kantale tanka SriLanka StayHome tripaviadventu...</td>\n",
              "    </tr>\n",
              "    <tr>\n",
              "      <th>...</th>\n",
              "      <td>...</td>\n",
              "      <td>...</td>\n",
              "      <td>...</td>\n",
              "      <td>...</td>\n",
              "    </tr>\n",
              "    <tr>\n",
              "      <th>544</th>\n",
              "      <td>544</td>\n",
              "      <td>544</td>\n",
              "      <td>1146755492141850624</td>\n",
              "      <td>Silva to bring in Sri Lankan team to play at S...</td>\n",
              "    </tr>\n",
              "    <tr>\n",
              "      <th>545</th>\n",
              "      <td>545</td>\n",
              "      <td>545</td>\n",
              "      <td>1146751885233270784</td>\n",
              "      <td>We are delighted to announce that Tripavi is n...</td>\n",
              "    </tr>\n",
              "    <tr>\n",
              "      <th>546</th>\n",
              "      <td>546</td>\n",
              "      <td>546</td>\n",
              "      <td>1146750392983871488</td>\n",
              "      <td>I'm delighted to inform you that we have offic...</td>\n",
              "    </tr>\n",
              "    <tr>\n",
              "      <th>547</th>\n",
              "      <td>547</td>\n",
              "      <td>547</td>\n",
              "      <td>1146727883005730816</td>\n",
              "      <td>Take only memories and leave only footprints, ...</td>\n",
              "    </tr>\n",
              "    <tr>\n",
              "      <th>548</th>\n",
              "      <td>548</td>\n",
              "      <td>548</td>\n",
              "      <td>1146725916221018113</td>\n",
              "      <td>1  Great offers, the best time to go explore t...</td>\n",
              "    </tr>\n",
              "  </tbody>\n",
              "</table>\n",
              "<p>549 rows × 4 columns</p>\n",
              "</div>"
            ],
            "text/plain": [
              "     New_ID  ...                                               text\n",
              "0         0  ...  Contact Tripavi for some of our great Easter v...\n",
              "1         1  ...  The best roads trips in Sri Lanka 🇱🇰 SriLanka ...\n",
              "2         2  ...  Explore some of Sri Lanka’s azure seas and pal...\n",
              "3         3  ...  Kantale tanka SriLanka tripaviadventures trave...\n",
              "4         4  ...  Kantale tanka SriLanka StayHome tripaviadventu...\n",
              "..      ...  ...                                                ...\n",
              "544     544  ...  Silva to bring in Sri Lankan team to play at S...\n",
              "545     545  ...  We are delighted to announce that Tripavi is n...\n",
              "546     546  ...  I'm delighted to inform you that we have offic...\n",
              "547     547  ...  Take only memories and leave only footprints, ...\n",
              "548     548  ...  1  Great offers, the best time to go explore t...\n",
              "\n",
              "[549 rows x 4 columns]"
            ]
          },
          "metadata": {
            "tags": []
          },
          "execution_count": 23
        }
      ]
    },
    {
      "cell_type": "markdown",
      "metadata": {
        "id": "GzysTYqYs3Pd"
      },
      "source": [
        "remove a column"
      ]
    },
    {
      "cell_type": "code",
      "metadata": {
        "id": "pUeJD6EosbJM"
      },
      "source": [
        "df = df.drop('NewID', 1)"
      ],
      "execution_count": 25,
      "outputs": []
    },
    {
      "cell_type": "code",
      "metadata": {
        "colab": {
          "base_uri": "https://localhost:8080/",
          "height": 402
        },
        "id": "aH9Oaoajsf4r",
        "outputId": "2c05d4e8-d89c-46dd-c9b9-0aed09b7b212"
      },
      "source": [
        "df"
      ],
      "execution_count": 27,
      "outputs": [
        {
          "output_type": "execute_result",
          "data": {
            "text/html": [
              "<div>\n",
              "<style scoped>\n",
              "    .dataframe tbody tr th:only-of-type {\n",
              "        vertical-align: middle;\n",
              "    }\n",
              "\n",
              "    .dataframe tbody tr th {\n",
              "        vertical-align: top;\n",
              "    }\n",
              "\n",
              "    .dataframe thead th {\n",
              "        text-align: right;\n",
              "    }\n",
              "</style>\n",
              "<table border=\"1\" class=\"dataframe\">\n",
              "  <thead>\n",
              "    <tr style=\"text-align: right;\">\n",
              "      <th></th>\n",
              "      <th>id</th>\n",
              "      <th>text</th>\n",
              "    </tr>\n",
              "  </thead>\n",
              "  <tbody>\n",
              "    <tr>\n",
              "      <th>0</th>\n",
              "      <td>1324617054377291776</td>\n",
              "      <td>Contact Tripavi for some of our great Easter v...</td>\n",
              "    </tr>\n",
              "    <tr>\n",
              "      <th>1</th>\n",
              "      <td>1322759695656865793</td>\n",
              "      <td>The best roads trips in Sri Lanka 🇱🇰 SriLanka ...</td>\n",
              "    </tr>\n",
              "    <tr>\n",
              "      <th>2</th>\n",
              "      <td>1321669595653009409</td>\n",
              "      <td>Explore some of Sri Lanka’s azure seas and pal...</td>\n",
              "    </tr>\n",
              "    <tr>\n",
              "      <th>3</th>\n",
              "      <td>1321051474785259522</td>\n",
              "      <td>Kantale tanka SriLanka tripaviadventures trave...</td>\n",
              "    </tr>\n",
              "    <tr>\n",
              "      <th>4</th>\n",
              "      <td>1321050817089028098</td>\n",
              "      <td>Kantale tanka SriLanka StayHome tripaviadventu...</td>\n",
              "    </tr>\n",
              "    <tr>\n",
              "      <th>...</th>\n",
              "      <td>...</td>\n",
              "      <td>...</td>\n",
              "    </tr>\n",
              "    <tr>\n",
              "      <th>544</th>\n",
              "      <td>1146755492141850624</td>\n",
              "      <td>Silva to bring in Sri Lankan team to play at S...</td>\n",
              "    </tr>\n",
              "    <tr>\n",
              "      <th>545</th>\n",
              "      <td>1146751885233270784</td>\n",
              "      <td>We are delighted to announce that Tripavi is n...</td>\n",
              "    </tr>\n",
              "    <tr>\n",
              "      <th>546</th>\n",
              "      <td>1146750392983871488</td>\n",
              "      <td>I'm delighted to inform you that we have offic...</td>\n",
              "    </tr>\n",
              "    <tr>\n",
              "      <th>547</th>\n",
              "      <td>1146727883005730816</td>\n",
              "      <td>Take only memories and leave only footprints, ...</td>\n",
              "    </tr>\n",
              "    <tr>\n",
              "      <th>548</th>\n",
              "      <td>1146725916221018113</td>\n",
              "      <td>1  Great offers, the best time to go explore t...</td>\n",
              "    </tr>\n",
              "  </tbody>\n",
              "</table>\n",
              "<p>549 rows × 2 columns</p>\n",
              "</div>"
            ],
            "text/plain": [
              "                      id                                               text\n",
              "0    1324617054377291776  Contact Tripavi for some of our great Easter v...\n",
              "1    1322759695656865793  The best roads trips in Sri Lanka 🇱🇰 SriLanka ...\n",
              "2    1321669595653009409  Explore some of Sri Lanka’s azure seas and pal...\n",
              "3    1321051474785259522  Kantale tanka SriLanka tripaviadventures trave...\n",
              "4    1321050817089028098  Kantale tanka SriLanka StayHome tripaviadventu...\n",
              "..                   ...                                                ...\n",
              "544  1146755492141850624  Silva to bring in Sri Lankan team to play at S...\n",
              "545  1146751885233270784  We are delighted to announce that Tripavi is n...\n",
              "546  1146750392983871488  I'm delighted to inform you that we have offic...\n",
              "547  1146727883005730816  Take only memories and leave only footprints, ...\n",
              "548  1146725916221018113  1  Great offers, the best time to go explore t...\n",
              "\n",
              "[549 rows x 2 columns]"
            ]
          },
          "metadata": {
            "tags": []
          },
          "execution_count": 27
        }
      ]
    },
    {
      "cell_type": "code",
      "metadata": {
        "id": "CUnpMqJ1ttAc"
      },
      "source": [
        "# Formatting tweets (replacing symbols, lowecase, splitting). No stemming (corpus is needed for word freq count).\n",
        "corpus1 = []\n",
        "for i in range(0, len(df)):\n",
        "    tweet = df['text'][i]\n",
        "    tweet = tweet.lower()\n",
        "    tweet = tweet.replace(',', '').replace('.', '').replace('-', '').replace('!', '').replace(';', '')\n",
        "    tweet = tweet.split()\n",
        "    corpus1.append(tweet)"
      ],
      "execution_count": 29,
      "outputs": []
    },
    {
      "cell_type": "code",
      "metadata": {
        "id": "-eHjmUIit5mG"
      },
      "source": [
        "allWords = list(itertools.chain(*corpus1))"
      ],
      "execution_count": 30,
      "outputs": []
    },
    {
      "cell_type": "code",
      "metadata": {
        "id": "y9Xs7BIYt7Hu"
      },
      "source": [
        "# Taking out stop words\n",
        "stop_words = set(stopwords.words('english'))\n",
        "filtered_sentence = [w for w in allWords if not w in stop_words] \n",
        "filtered_sentence = [] \n",
        "for w in allWords: \n",
        "    if w not in stop_words: \n",
        "        filtered_sentence.append(w)"
      ],
      "execution_count": 31,
      "outputs": []
    },
    {
      "cell_type": "code",
      "metadata": {
        "colab": {
          "base_uri": "https://localhost:8080/",
          "height": 639
        },
        "id": "LcyMUyant-PO",
        "outputId": "8c308bac-66d7-4ca5-a722-eb7bcf54232e"
      },
      "source": [
        "#Counting most used words\n",
        "counts_no_urls = collections.Counter(filtered_sentence)\n",
        "clean_tweets_no_urls = pd.DataFrame(counts_no_urls.most_common(50),\n",
        "                             columns=['words', 'count'])\n",
        "\n",
        "clean_tweets_no_urls.head(20)"
      ],
      "execution_count": 32,
      "outputs": [
        {
          "output_type": "execute_result",
          "data": {
            "text/html": [
              "<div>\n",
              "<style scoped>\n",
              "    .dataframe tbody tr th:only-of-type {\n",
              "        vertical-align: middle;\n",
              "    }\n",
              "\n",
              "    .dataframe tbody tr th {\n",
              "        vertical-align: top;\n",
              "    }\n",
              "\n",
              "    .dataframe thead th {\n",
              "        text-align: right;\n",
              "    }\n",
              "</style>\n",
              "<table border=\"1\" class=\"dataframe\">\n",
              "  <thead>\n",
              "    <tr style=\"text-align: right;\">\n",
              "      <th></th>\n",
              "      <th>words</th>\n",
              "      <th>count</th>\n",
              "    </tr>\n",
              "  </thead>\n",
              "  <tbody>\n",
              "    <tr>\n",
              "      <th>0</th>\n",
              "      <td>tripavi</td>\n",
              "      <td>224</td>\n",
              "    </tr>\n",
              "    <tr>\n",
              "      <th>1</th>\n",
              "      <td>sri</td>\n",
              "      <td>191</td>\n",
              "    </tr>\n",
              "    <tr>\n",
              "      <th>2</th>\n",
              "      <td>srilanka</td>\n",
              "      <td>179</td>\n",
              "    </tr>\n",
              "    <tr>\n",
              "      <th>3</th>\n",
              "      <td>lanka</td>\n",
              "      <td>149</td>\n",
              "    </tr>\n",
              "    <tr>\n",
              "      <th>4</th>\n",
              "      <td>great</td>\n",
              "      <td>76</td>\n",
              "    </tr>\n",
              "    <tr>\n",
              "      <th>5</th>\n",
              "      <td>travel</td>\n",
              "      <td>75</td>\n",
              "    </tr>\n",
              "    <tr>\n",
              "      <th>6</th>\n",
              "      <td>best</td>\n",
              "      <td>61</td>\n",
              "    </tr>\n",
              "    <tr>\n",
              "      <th>7</th>\n",
              "      <td>amazing</td>\n",
              "      <td>60</td>\n",
              "    </tr>\n",
              "    <tr>\n",
              "      <th>8</th>\n",
              "      <td>yala</td>\n",
              "      <td>48</td>\n",
              "    </tr>\n",
              "    <tr>\n",
              "      <th>9</th>\n",
              "      <td>tour</td>\n",
              "      <td>47</td>\n",
              "    </tr>\n",
              "    <tr>\n",
              "      <th>10</th>\n",
              "      <td>&amp;amp</td>\n",
              "      <td>47</td>\n",
              "    </tr>\n",
              "    <tr>\n",
              "      <th>11</th>\n",
              "      <td>srilankaspecialist</td>\n",
              "      <td>46</td>\n",
              "    </tr>\n",
              "    <tr>\n",
              "      <th>12</th>\n",
              "      <td>one</td>\n",
              "      <td>42</td>\n",
              "    </tr>\n",
              "    <tr>\n",
              "      <th>13</th>\n",
              "      <td>experience</td>\n",
              "      <td>41</td>\n",
              "    </tr>\n",
              "    <tr>\n",
              "      <th>14</th>\n",
              "      <td>srilankawithtripavi</td>\n",
              "      <td>40</td>\n",
              "    </tr>\n",
              "    <tr>\n",
              "      <th>15</th>\n",
              "      <td>infocom</td>\n",
              "      <td>38</td>\n",
              "    </tr>\n",
              "    <tr>\n",
              "      <th>16</th>\n",
              "      <td>holidays</td>\n",
              "      <td>37</td>\n",
              "    </tr>\n",
              "    <tr>\n",
              "      <th>17</th>\n",
              "      <td>holiday</td>\n",
              "      <td>36</td>\n",
              "    </tr>\n",
              "    <tr>\n",
              "      <th>18</th>\n",
              "      <td>national</td>\n",
              "      <td>36</td>\n",
              "    </tr>\n",
              "    <tr>\n",
              "      <th>19</th>\n",
              "      <td>colombo</td>\n",
              "      <td>34</td>\n",
              "    </tr>\n",
              "  </tbody>\n",
              "</table>\n",
              "</div>"
            ],
            "text/plain": [
              "                  words  count\n",
              "0               tripavi    224\n",
              "1                   sri    191\n",
              "2              srilanka    179\n",
              "3                 lanka    149\n",
              "4                 great     76\n",
              "5                travel     75\n",
              "6                  best     61\n",
              "7               amazing     60\n",
              "8                  yala     48\n",
              "9                  tour     47\n",
              "10                 &amp     47\n",
              "11   srilankaspecialist     46\n",
              "12                  one     42\n",
              "13           experience     41\n",
              "14  srilankawithtripavi     40\n",
              "15              infocom     38\n",
              "16             holidays     37\n",
              "17              holiday     36\n",
              "18             national     36\n",
              "19              colombo     34"
            ]
          },
          "metadata": {
            "tags": []
          },
          "execution_count": 32
        }
      ]
    },
    {
      "cell_type": "code",
      "metadata": {
        "colab": {
          "base_uri": "https://localhost:8080/",
          "height": 1000
        },
        "id": "rr0a3nHYuEB-",
        "outputId": "de81ca7b-d2b2-46a8-b2b7-d9491f8e6ad1"
      },
      "source": [
        "# Plot horizontal bar graph\n",
        "fig, ax = plt.subplots(figsize=(8, 16))\n",
        "clean_tweets_no_urls.sort_values(by='count').plot.barh(x='words',\n",
        "                      y='count',\n",
        "                      ax=ax,\n",
        "                      color=\"purple\")\n",
        "ax.set_title(\"Common Words Found in Tweets (Including All Words)\")\n",
        "plt.show()"
      ],
      "execution_count": 33,
      "outputs": [
        {
          "output_type": "stream",
          "text": [
            "/usr/local/lib/python3.6/dist-packages/matplotlib/backends/backend_agg.py:214: RuntimeWarning: Glyph 128233 missing from current font.\n",
            "  font.set_text(s, 0.0, flags=flags)\n",
            "/usr/local/lib/python3.6/dist-packages/matplotlib/backends/backend_agg.py:183: RuntimeWarning: Glyph 128233 missing from current font.\n",
            "  font.set_text(s, 0, flags=flags)\n"
          ],
          "name": "stderr"
        },
        {
          "output_type": "display_data",
          "data": {
            "image/png": "[encoded data removed]",
            "text/plain": [
              "<Figure size 576x1152 with 1 Axes>"
            ]
          },
          "metadata": {
            "tags": [],
            "needs_background": "light"
          }
        }
      ]
    },
    {
      "cell_type": "code",
      "metadata": {
        "colab": {
          "base_uri": "https://localhost:8080/",
          "height": 639
        },
        "id": "mAt7kMJsuKOY",
        "outputId": "3c3b3ee7-6e0e-4a62-f590-50b82b7658f4"
      },
      "source": [
        "bigramsList = list(nltk.bigrams(filtered_sentence))\n",
        "countsBigrams = collections.Counter(bigramsList)\n",
        "bigrams1 = pd.DataFrame(countsBigrams.most_common(50),columns=['words', 'count'])\n",
        "bigrams1.head(20)"
      ],
      "execution_count": 34,
      "outputs": [
        {
          "output_type": "execute_result",
          "data": {
            "text/html": [
              "<div>\n",
              "<style scoped>\n",
              "    .dataframe tbody tr th:only-of-type {\n",
              "        vertical-align: middle;\n",
              "    }\n",
              "\n",
              "    .dataframe tbody tr th {\n",
              "        vertical-align: top;\n",
              "    }\n",
              "\n",
              "    .dataframe thead th {\n",
              "        text-align: right;\n",
              "    }\n",
              "</style>\n",
              "<table border=\"1\" class=\"dataframe\">\n",
              "  <thead>\n",
              "    <tr style=\"text-align: right;\">\n",
              "      <th></th>\n",
              "      <th>words</th>\n",
              "      <th>count</th>\n",
              "    </tr>\n",
              "  </thead>\n",
              "  <tbody>\n",
              "    <tr>\n",
              "      <th>0</th>\n",
              "      <td>(sri, lanka)</td>\n",
              "      <td>148</td>\n",
              "    </tr>\n",
              "    <tr>\n",
              "      <th>1</th>\n",
              "      <td>(srilanka, tripavi)</td>\n",
              "      <td>25</td>\n",
              "    </tr>\n",
              "    <tr>\n",
              "      <th>2</th>\n",
              "      <td>(📩, infocom)</td>\n",
              "      <td>23</td>\n",
              "    </tr>\n",
              "    <tr>\n",
              "      <th>3</th>\n",
              "      <td>(national, park)</td>\n",
              "      <td>22</td>\n",
              "    </tr>\n",
              "    <tr>\n",
              "      <th>4</th>\n",
              "      <td>(tripavi, srilanka)</td>\n",
              "      <td>19</td>\n",
              "    </tr>\n",
              "    <tr>\n",
              "      <th>5</th>\n",
              "      <td>(tailor, made)</td>\n",
              "      <td>18</td>\n",
              "    </tr>\n",
              "    <tr>\n",
              "      <th>6</th>\n",
              "      <td>(sri, lankan)</td>\n",
              "      <td>15</td>\n",
              "    </tr>\n",
              "    <tr>\n",
              "      <th>7</th>\n",
              "      <td>(inspired, ideas)</td>\n",
              "      <td>15</td>\n",
              "    </tr>\n",
              "    <tr>\n",
              "      <th>8</th>\n",
              "      <td>(yala, national)</td>\n",
              "      <td>12</td>\n",
              "    </tr>\n",
              "    <tr>\n",
              "      <th>9</th>\n",
              "      <td>(srilankaspecialist, srilankawithtripavi)</td>\n",
              "      <td>12</td>\n",
              "    </tr>\n",
              "    <tr>\n",
              "      <th>10</th>\n",
              "      <td>(made, holidays)</td>\n",
              "      <td>11</td>\n",
              "    </tr>\n",
              "    <tr>\n",
              "      <th>11</th>\n",
              "      <td>(sri, lanka’s)</td>\n",
              "      <td>10</td>\n",
              "    </tr>\n",
              "    <tr>\n",
              "      <th>12</th>\n",
              "      <td>(national, parks)</td>\n",
              "      <td>10</td>\n",
              "    </tr>\n",
              "    <tr>\n",
              "      <th>13</th>\n",
              "      <td>(travel, tripavi)</td>\n",
              "      <td>10</td>\n",
              "    </tr>\n",
              "    <tr>\n",
              "      <th>14</th>\n",
              "      <td>(✉, infocom)</td>\n",
              "      <td>9</td>\n",
              "    </tr>\n",
              "    <tr>\n",
              "      <th>15</th>\n",
              "      <td>(tripavi, srilankaspecialist)</td>\n",
              "      <td>9</td>\n",
              "    </tr>\n",
              "    <tr>\n",
              "      <th>16</th>\n",
              "      <td>(great, inspired)</td>\n",
              "      <td>9</td>\n",
              "    </tr>\n",
              "    <tr>\n",
              "      <th>17</th>\n",
              "      <td>(contact, us)</td>\n",
              "      <td>8</td>\n",
              "    </tr>\n",
              "    <tr>\n",
              "      <th>18</th>\n",
              "      <td>(team, tripavi)</td>\n",
              "      <td>8</td>\n",
              "    </tr>\n",
              "    <tr>\n",
              "      <th>19</th>\n",
              "      <td>(sigiriya, rock)</td>\n",
              "      <td>8</td>\n",
              "    </tr>\n",
              "  </tbody>\n",
              "</table>\n",
              "</div>"
            ],
            "text/plain": [
              "                                        words  count\n",
              "0                                (sri, lanka)    148\n",
              "1                         (srilanka, tripavi)     25\n",
              "2                                (📩, infocom)     23\n",
              "3                            (national, park)     22\n",
              "4                         (tripavi, srilanka)     19\n",
              "5                              (tailor, made)     18\n",
              "6                               (sri, lankan)     15\n",
              "7                           (inspired, ideas)     15\n",
              "8                            (yala, national)     12\n",
              "9   (srilankaspecialist, srilankawithtripavi)     12\n",
              "10                           (made, holidays)     11\n",
              "11                             (sri, lanka’s)     10\n",
              "12                          (national, parks)     10\n",
              "13                          (travel, tripavi)     10\n",
              "14                               (✉, infocom)      9\n",
              "15              (tripavi, srilankaspecialist)      9\n",
              "16                          (great, inspired)      9\n",
              "17                              (contact, us)      8\n",
              "18                            (team, tripavi)      8\n",
              "19                           (sigiriya, rock)      8"
            ]
          },
          "metadata": {
            "tags": []
          },
          "execution_count": 34
        }
      ]
    },
    {
      "cell_type": "code",
      "metadata": {
        "colab": {
          "base_uri": "https://localhost:8080/",
          "height": 1000
        },
        "id": "tz2RTW_KuOdx",
        "outputId": "260866e7-26d7-4153-89dd-e4bb78257559"
      },
      "source": [
        "# Plot horizontal bar graph\n",
        "fig, ax = plt.subplots(figsize=(8, 16))\n",
        "bigrams1.sort_values(by='count').plot.barh(x='words',\n",
        "                      y='count',\n",
        "                      ax=ax,\n",
        "                      color=\"purple\")\n",
        "ax.set_title(\"Common Words Found in Tweets (Including All Words)\")\n",
        "plt.show()"
      ],
      "execution_count": 35,
      "outputs": [
        {
          "output_type": "stream",
          "text": [
            "/usr/local/lib/python3.6/dist-packages/matplotlib/backends/backend_agg.py:214: RuntimeWarning: Glyph 128233 missing from current font.\n",
            "  font.set_text(s, 0.0, flags=flags)\n",
            "/usr/local/lib/python3.6/dist-packages/matplotlib/backends/backend_agg.py:183: RuntimeWarning: Glyph 128233 missing from current font.\n",
            "  font.set_text(s, 0, flags=flags)\n"
          ],
          "name": "stderr"
        },
        {
          "output_type": "display_data",
          "data": {
            "image/png": "[encoded data removed]",
            "text/plain": [
              "<Figure size 576x1152 with 1 Axes>"
            ]
          },
          "metadata": {
            "tags": [],
            "needs_background": "light"
          }
        }
      ]
    },
    {
      "cell_type": "code",
      "metadata": {
        "colab": {
          "base_uri": "https://localhost:8080/",
          "height": 639
        },
        "id": "J8vZ4aRtuTQX",
        "outputId": "53fb12f9-de71-4667-efcb-c9802caaf3e1"
      },
      "source": [
        "trigramsList = list(nltk.trigrams(filtered_sentence))\n",
        "countsTrigrams = collections.Counter(trigramsList)\n",
        "countsTrigrams\n",
        "trigrams1 = pd.DataFrame(countsTrigrams.most_common(50),\n",
        "                             columns=['words', 'count'])\n",
        "trigrams1.head(20)"
      ],
      "execution_count": 36,
      "outputs": [
        {
          "output_type": "execute_result",
          "data": {
            "text/html": [
              "<div>\n",
              "<style scoped>\n",
              "    .dataframe tbody tr th:only-of-type {\n",
              "        vertical-align: middle;\n",
              "    }\n",
              "\n",
              "    .dataframe tbody tr th {\n",
              "        vertical-align: top;\n",
              "    }\n",
              "\n",
              "    .dataframe thead th {\n",
              "        text-align: right;\n",
              "    }\n",
              "</style>\n",
              "<table border=\"1\" class=\"dataframe\">\n",
              "  <thead>\n",
              "    <tr style=\"text-align: right;\">\n",
              "      <th></th>\n",
              "      <th>words</th>\n",
              "      <th>count</th>\n",
              "    </tr>\n",
              "  </thead>\n",
              "  <tbody>\n",
              "    <tr>\n",
              "      <th>0</th>\n",
              "      <td>(tailor, made, holidays)</td>\n",
              "      <td>11</td>\n",
              "    </tr>\n",
              "    <tr>\n",
              "      <th>1</th>\n",
              "      <td>(yala, national, park)</td>\n",
              "      <td>10</td>\n",
              "    </tr>\n",
              "    <tr>\n",
              "      <th>2</th>\n",
              "      <td>(great, inspired, ideas)</td>\n",
              "      <td>9</td>\n",
              "    </tr>\n",
              "    <tr>\n",
              "      <th>3</th>\n",
              "      <td>(112, 712, 100)</td>\n",
              "      <td>8</td>\n",
              "    </tr>\n",
              "    <tr>\n",
              "      <th>4</th>\n",
              "      <td>(094, 112, 712)</td>\n",
              "      <td>7</td>\n",
              "    </tr>\n",
              "    <tr>\n",
              "      <th>5</th>\n",
              "      <td>(sri, lanka, tripavi)</td>\n",
              "      <td>6</td>\n",
              "    </tr>\n",
              "    <tr>\n",
              "      <th>6</th>\n",
              "      <td>(inspired, ideas, great)</td>\n",
              "      <td>6</td>\n",
              "    </tr>\n",
              "    <tr>\n",
              "      <th>7</th>\n",
              "      <td>(sigiriya, rock, fortress)</td>\n",
              "      <td>5</td>\n",
              "    </tr>\n",
              "    <tr>\n",
              "      <th>8</th>\n",
              "      <td>(national, park, one)</td>\n",
              "      <td>5</td>\n",
              "    </tr>\n",
              "    <tr>\n",
              "      <th>9</th>\n",
              "      <td>(infocom, ☎️, 094)</td>\n",
              "      <td>5</td>\n",
              "    </tr>\n",
              "    <tr>\n",
              "      <th>10</th>\n",
              "      <td>(☎️, 094, 112)</td>\n",
              "      <td>5</td>\n",
              "    </tr>\n",
              "    <tr>\n",
              "      <th>11</th>\n",
              "      <td>(712, 100, 🌐)</td>\n",
              "      <td>5</td>\n",
              "    </tr>\n",
              "    <tr>\n",
              "      <th>12</th>\n",
              "      <td>(tripavi, sri, lanka)</td>\n",
              "      <td>5</td>\n",
              "    </tr>\n",
              "    <tr>\n",
              "      <th>13</th>\n",
              "      <td>(tour, sri, lanka)</td>\n",
              "      <td>5</td>\n",
              "    </tr>\n",
              "    <tr>\n",
              "      <th>14</th>\n",
              "      <td>(srilankaspecialist, srilankawithtripavi, trav...</td>\n",
              "      <td>5</td>\n",
              "    </tr>\n",
              "    <tr>\n",
              "      <th>15</th>\n",
              "      <td>(ideas, great, inspired)</td>\n",
              "      <td>5</td>\n",
              "    </tr>\n",
              "    <tr>\n",
              "      <th>16</th>\n",
              "      <td>(sri, lanka, 🇱🇰)</td>\n",
              "      <td>4</td>\n",
              "    </tr>\n",
              "    <tr>\n",
              "      <th>17</th>\n",
              "      <td>(sri, lanka, great)</td>\n",
              "      <td>4</td>\n",
              "    </tr>\n",
              "    <tr>\n",
              "      <th>18</th>\n",
              "      <td>(visit, sri, lanka)</td>\n",
              "      <td>4</td>\n",
              "    </tr>\n",
              "    <tr>\n",
              "      <th>19</th>\n",
              "      <td>(unesco, world, heritage)</td>\n",
              "      <td>4</td>\n",
              "    </tr>\n",
              "  </tbody>\n",
              "</table>\n",
              "</div>"
            ],
            "text/plain": [
              "                                                words  count\n",
              "0                            (tailor, made, holidays)     11\n",
              "1                              (yala, national, park)     10\n",
              "2                            (great, inspired, ideas)      9\n",
              "3                                     (112, 712, 100)      8\n",
              "4                                     (094, 112, 712)      7\n",
              "5                               (sri, lanka, tripavi)      6\n",
              "6                            (inspired, ideas, great)      6\n",
              "7                          (sigiriya, rock, fortress)      5\n",
              "8                               (national, park, one)      5\n",
              "9                                  (infocom, ☎️, 094)      5\n",
              "10                                     (☎️, 094, 112)      5\n",
              "11                                      (712, 100, 🌐)      5\n",
              "12                              (tripavi, sri, lanka)      5\n",
              "13                                 (tour, sri, lanka)      5\n",
              "14  (srilankaspecialist, srilankawithtripavi, trav...      5\n",
              "15                           (ideas, great, inspired)      5\n",
              "16                                   (sri, lanka, 🇱🇰)      4\n",
              "17                                (sri, lanka, great)      4\n",
              "18                                (visit, sri, lanka)      4\n",
              "19                          (unesco, world, heritage)      4"
            ]
          },
          "metadata": {
            "tags": []
          },
          "execution_count": 36
        }
      ]
    },
    {
      "cell_type": "code",
      "metadata": {
        "colab": {
          "base_uri": "https://localhost:8080/",
          "height": 1000
        },
        "id": "tY2LvK2CvWiU",
        "outputId": "15dbb9e6-ccac-48d3-c56d-3a5816178c6c"
      },
      "source": [
        "# Plot horizontal bar graph\n",
        "fig, ax = plt.subplots(figsize=(8, 16))\n",
        "trigrams1.sort_values(by='count').plot.barh(x='words',\n",
        "                      y='count',\n",
        "                      ax=ax,\n",
        "                      color=\"purple\")\n",
        "ax.set_title(\"Common Trigrams Found in Tweets (Including All Words)\")\n",
        "plt.show()"
      ],
      "execution_count": 37,
      "outputs": [
        {
          "output_type": "stream",
          "text": [
            "/usr/local/lib/python3.6/dist-packages/matplotlib/backends/backend_agg.py:214: RuntimeWarning: Glyph 128233 missing from current font.\n",
            "  font.set_text(s, 0.0, flags=flags)\n",
            "/usr/local/lib/python3.6/dist-packages/matplotlib/backends/backend_agg.py:214: RuntimeWarning: Glyph 127760 missing from current font.\n",
            "  font.set_text(s, 0.0, flags=flags)\n",
            "/usr/local/lib/python3.6/dist-packages/matplotlib/backends/backend_agg.py:214: RuntimeWarning: Glyph 127473 missing from current font.\n",
            "  font.set_text(s, 0.0, flags=flags)\n",
            "/usr/local/lib/python3.6/dist-packages/matplotlib/backends/backend_agg.py:214: RuntimeWarning: Glyph 127472 missing from current font.\n",
            "  font.set_text(s, 0.0, flags=flags)\n",
            "/usr/local/lib/python3.6/dist-packages/matplotlib/backends/backend_agg.py:183: RuntimeWarning: Glyph 128233 missing from current font.\n",
            "  font.set_text(s, 0, flags=flags)\n",
            "/usr/local/lib/python3.6/dist-packages/matplotlib/backends/backend_agg.py:183: RuntimeWarning: Glyph 127760 missing from current font.\n",
            "  font.set_text(s, 0, flags=flags)\n",
            "/usr/local/lib/python3.6/dist-packages/matplotlib/backends/backend_agg.py:183: RuntimeWarning: Glyph 127473 missing from current font.\n",
            "  font.set_text(s, 0, flags=flags)\n",
            "/usr/local/lib/python3.6/dist-packages/matplotlib/backends/backend_agg.py:183: RuntimeWarning: Glyph 127472 missing from current font.\n",
            "  font.set_text(s, 0, flags=flags)\n"
          ],
          "name": "stderr"
        },
        {
          "output_type": "display_data",
          "data": {
            "image/png": "[encoded data removed]",
            "text/plain": [
              "<Figure size 576x1152 with 1 Axes>"
            ]
          },
          "metadata": {
            "tags": [],
            "needs_background": "light"
          }
        }
      ]
    },
    {
      "cell_type": "code",
      "metadata": {
        "id": "Ep0iO_npvY8v"
      },
      "source": [
        "# Filtering corpus, this time with stemmer (better for the cluster algorithm)\n",
        "corpus = []\n",
        "for i in range(0, len(df)):\n",
        "    tweet = df['text'][i]\n",
        "    tweet = tweet.lower()\n",
        "    tweet = tweet.replace(',', '').replace('.', '').replace('-', '').replace('!', '').replace(';', '')\n",
        "    tweet = tweet.split()\n",
        "    ps = PorterStemmer()\n",
        "    tweet = [ps.stem(word) for word in tweet]\n",
        "    loopVar = []\n",
        "    for i in tweet:\n",
        "        if i not in stop_words:\n",
        "            loopVar.append(i)\n",
        "    loopVar = ' '.join(loopVar)\n",
        "    corpus.append(loopVar)"
      ],
      "execution_count": 38,
      "outputs": []
    },
    {
      "cell_type": "code",
      "metadata": {
        "id": "ahodkz_wvtCu"
      },
      "source": [
        "# Creating Bag of Words for clustering\n",
        "cv = CountVectorizer(max_features = 20000)\n",
        "X = cv.fit_transform(corpus).toarray()"
      ],
      "execution_count": 39,
      "outputs": []
    },
    {
      "cell_type": "code",
      "metadata": {
        "colab": {
          "base_uri": "https://localhost:8080/"
        },
        "id": "tTf08e1yv2hz",
        "outputId": "75701ed7-c9e9-4609-8a28-c93c0c534fc3"
      },
      "source": [
        "true_k = 15 # set number of clusters as wished\n",
        "model = KMeans(n_clusters=true_k, init='k-means++', max_iter=100, n_init=1)\n",
        "model.fit(X)"
      ],
      "execution_count": 40,
      "outputs": [
        {
          "output_type": "execute_result",
          "data": {
            "text/plain": [
              "KMeans(algorithm='auto', copy_x=True, init='k-means++', max_iter=100,\n",
              "       n_clusters=15, n_init=1, n_jobs=None, precompute_distances='auto',\n",
              "       random_state=None, tol=0.0001, verbose=0)"
            ]
          },
          "metadata": {
            "tags": []
          },
          "execution_count": 40
        }
      ]
    },
    {
      "cell_type": "code",
      "metadata": {
        "colab": {
          "base_uri": "https://localhost:8080/"
        },
        "id": "iQIorzEev8b9",
        "outputId": "072ca2d8-e785-4c18-e4dd-802faa5beb30"
      },
      "source": [
        "print(\"Top terms per cluster:\")\n",
        "order_centroids = model.cluster_centers_.argsort()[:, ::-1]\n",
        "terms = cv.get_feature_names()\n",
        "for i in range(true_k):\n",
        "    print(\"Cluster %d:\" % i),\n",
        "    for ind in order_centroids[i, :10]:\n",
        "        print(' %s' % terms[ind]),\n",
        "    print"
      ],
      "execution_count": 41,
      "outputs": [
        {
          "output_type": "stream",
          "text": [
            "Top terms per cluster:\n",
            "Cluster 0:\n",
            " end\n",
            " plain\n",
            " horton\n",
            " view\n",
            " escarp\n",
            " sri\n",
            " trail\n",
            " come\n",
            " walk\n",
            " hike\n",
            "Cluster 1:\n",
            " sri\n",
            " lanka\n",
            " tripavi\n",
            " srilanka\n",
            " travel\n",
            " tour\n",
            " infocom\n",
            " great\n",
            " amp\n",
            " one\n",
            "Cluster 2:\n",
            " travel\n",
            " tripavi\n",
            " comfort\n",
            " vehicl\n",
            " person\n",
            " detail\n",
            " differ\n",
            " equip\n",
            " amp\n",
            " ani\n",
            "Cluster 3:\n",
            " tripavi\n",
            " visit\n",
            " place\n",
            " best\n",
            " sri\n",
            " lanka\n",
            " lion\n",
            " srilanka\n",
            " one\n",
            " sigiriya\n",
            "Cluster 4:\n",
            " tripavi\n",
            " srilanka\n",
            " holiday\n",
            " travel\n",
            " experi\n",
            " best\n",
            " srilankaspecialist\n",
            " tour\n",
            " yala\n",
            " great\n",
            "Cluster 5:\n",
            " look\n",
            " one\n",
            " travel\n",
            " inspir\n",
            " don\n",
            " sri\n",
            " handsom\n",
            " individu\n",
            " accompani\n",
            " whi\n",
            "Cluster 6:\n",
            " cricket\n",
            " special\n",
            " tripavi\n",
            " museum\n",
            " delight\n",
            " visit\n",
            " srilankacricketteam\n",
            " part\n",
            " srilanka\n",
            " sri\n",
            "Cluster 7:\n",
            " tour\n",
            " group\n",
            " tripavi\n",
            " look\n",
            " trip\n",
            " local\n",
            " dmc\n",
            " plan\n",
            " discount\n",
            " partner\n",
            "Cluster 8:\n",
            " hill\n",
            " countri\n",
            " drive\n",
            " pass\n",
            " zone\n",
            " dri\n",
            " wet\n",
            " low\n",
            " srilanka\n",
            " raini\n",
            "Cluster 9:\n",
            " holiday\n",
            " great\n",
            " tripavi\n",
            " custom\n",
            " client\n",
            " experi\n",
            " memori\n",
            " stori\n",
            " infocom\n",
            " make\n",
            "Cluster 10:\n",
            " srilanka\n",
            " amaz\n",
            " thi\n",
            " great\n",
            " travel\n",
            " yala\n",
            " best\n",
            " colombo\n",
            " experi\n",
            " holiday\n",
            "Cluster 11:\n",
            " buddha\n",
            " dambulla\n",
            " stun\n",
            " 160m\n",
            " sit\n",
            " import\n",
            " templ\n",
            " 2000year\n",
            " ago\n",
            " imag\n",
            "Cluster 12:\n",
            " park\n",
            " nation\n",
            " lanka\n",
            " marin\n",
            " sri\n",
            " pigeon\n",
            " stretch\n",
            " two\n",
            " nilav\n",
            " reef\n",
            "Cluster 13:\n",
            " tent\n",
            " stun\n",
            " world\n",
            " leopard\n",
            " ocean\n",
            " lodg\n",
            " pristin\n",
            " park\n",
            " populationthi\n",
            " famou\n",
            "Cluster 14:\n",
            " rice\n",
            " field\n",
            " eye\n",
            " kind\n",
            " green\n",
            " greet\n",
            " differ\n",
            " countri\n",
            " main\n",
            " wherev\n"
          ],
          "name": "stdout"
        }
      ]
    },
    {
      "cell_type": "code",
      "metadata": {
        "colab": {
          "base_uri": "https://localhost:8080/"
        },
        "id": "qmaOCUPdv-0Y",
        "outputId": "113375d0-a911-4aad-cfb6-4e06488542a4"
      },
      "source": [
        "labels = model.predict(X)\n",
        "labels"
      ],
      "execution_count": 42,
      "outputs": [
        {
          "output_type": "execute_result",
          "data": {
            "text/plain": [
              "array([ 4,  1,  1,  4, 10, 10,  1, 10,  4,  4,  4, 10, 10,  1,  1,  1, 10,\n",
              "       10, 10, 10, 10,  4,  4, 10, 10, 10,  4,  4,  1, 10, 10,  4,  1,  1,\n",
              "       10,  3, 10, 10, 10,  1, 10, 10,  1,  1, 10,  1, 10, 10,  1, 10,  1,\n",
              "        1,  1,  1, 10,  4,  1,  1,  4,  1,  4, 10,  4, 10,  1,  1,  1,  1,\n",
              "       10, 10,  4, 10, 10, 10,  1,  1,  1, 10, 10,  1, 10,  1,  1,  4, 10,\n",
              "        1, 10,  1,  1, 10,  1, 10,  1, 10,  1, 10, 10, 10, 10,  1,  1, 10,\n",
              "        1,  1, 10, 10,  4,  4,  4,  4,  1, 10, 10, 10,  1, 10, 11,  1,  4,\n",
              "       10, 10, 10, 10, 10, 10,  1, 10, 10, 10, 10, 10, 10, 10,  1,  4,  4,\n",
              "        1, 10, 10,  1, 10, 10,  1,  4, 10, 10, 10,  1, 10, 10,  4,  1, 10,\n",
              "        4,  1, 10, 10,  1, 10,  4, 10, 10,  4, 10,  1,  1,  4,  4,  1,  4,\n",
              "        1, 12,  1,  1, 10,  4, 10,  1, 10,  1, 10, 10,  4, 10,  4,  4,  4,\n",
              "       10,  1,  1,  1,  9,  1,  4,  1, 10,  4, 10,  4,  4,  9, 10, 10,  4,\n",
              "        1, 10, 10, 10,  1, 10, 10,  1, 10, 10, 14,  4,  1, 10,  1,  1, 10,\n",
              "        4, 10, 10,  1, 10,  4, 10,  1,  4,  4,  1,  4,  1,  1,  4, 10,  1,\n",
              "        1,  4, 10, 10,  1, 10,  1,  4, 10,  4,  1,  1, 10, 10,  1,  4,  1,\n",
              "       10, 10,  1,  1,  4,  1, 10, 10,  4,  4,  1,  1, 10,  1,  4,  1,  4,\n",
              "        4,  4, 10,  1,  1,  1, 10,  4, 10,  1, 10, 10, 10,  1,  5, 10, 10,\n",
              "       10,  1,  1,  4, 10,  4, 10, 10, 10,  1, 10,  4, 10, 10,  4,  7, 10,\n",
              "        4,  4, 10,  1,  4, 10,  1, 10, 10, 10, 10, 10, 10,  1,  1,  1, 10,\n",
              "        1,  4, 10, 10,  8, 10,  4,  4, 10,  4,  4,  4, 10, 10, 10, 10,  4,\n",
              "        4,  3,  4,  1,  4, 10,  1,  4,  1,  4,  1,  4,  4,  1,  1,  1, 10,\n",
              "        1,  4,  4,  4,  1, 10, 10,  1, 10,  4,  1,  4,  4, 10, 10,  1,  2,\n",
              "        2,  4,  4, 10,  1,  4,  4, 10, 10, 10,  4,  3,  1, 10, 10, 10,  4,\n",
              "        1,  1, 10,  4, 10, 10,  4,  1, 13, 10, 10, 10, 10,  1, 10, 10, 10,\n",
              "       10, 10, 10, 10,  4,  4,  1,  6,  4,  4, 10,  4, 10,  1, 10, 10, 10,\n",
              "       10,  1,  4,  4,  1,  4, 10,  4, 10,  1,  4,  1, 10,  1, 10,  1, 10,\n",
              "       10,  1,  1, 10, 10,  1, 10,  4,  4,  1, 10, 10,  1, 10, 10, 10, 10,\n",
              "       10,  4, 10, 10, 10,  4, 10, 10, 10,  4, 10,  1, 10,  4,  4,  4, 10,\n",
              "        4,  4,  1, 10, 10, 10, 10, 10, 10,  4,  4, 10, 10,  4, 10,  1,  0,\n",
              "       10, 10, 10,  4, 10, 10,  4,  1, 10, 10, 10, 10, 10, 10, 10, 10, 10,\n",
              "       10, 10, 10, 10, 10, 10, 10, 10, 10, 10,  4, 10,  1,  1, 10, 10, 10,\n",
              "        1, 10,  1,  1,  4,  4,  1,  1, 10, 10, 10,  1, 10, 10,  1, 10, 10,\n",
              "       10,  4,  1, 10, 10], dtype=int32)"
            ]
          },
          "metadata": {
            "tags": []
          },
          "execution_count": 42
        }
      ]
    },
    {
      "cell_type": "code",
      "metadata": {
        "id": "AuPCZPi0wIoh"
      },
      "source": [
        "clusteredTweets = pd.DataFrame(df.text)\n",
        "clusteredTweets[\"cluster\"] = pd.DataFrame(labels)"
      ],
      "execution_count": 44,
      "outputs": []
    },
    {
      "cell_type": "code",
      "metadata": {
        "colab": {
          "base_uri": "https://localhost:8080/",
          "height": 301
        },
        "id": "IBjxYrYy1pee",
        "outputId": "59837230-ed65-4186-cfe3-1314d206dcb0"
      },
      "source": [
        "clusteredTweets.cluster.value_counts().plot(kind = 'bar', title = 'clusterCount')"
      ],
      "execution_count": 45,
      "outputs": [
        {
          "output_type": "execute_result",
          "data": {
            "text/plain": [
              "<matplotlib.axes._subplots.AxesSubplot at 0x7f4cbd5722b0>"
            ]
          },
          "metadata": {
            "tags": []
          },
          "execution_count": 45
        },
        {
          "output_type": "display_data",
          "data": {
            "image/png": "[encoded data removed]",
            "text/plain": [
              "<Figure size 432x288 with 1 Axes>"
            ]
          },
          "metadata": {
            "tags": [],
            "needs_background": "light"
          }
        }
      ]
    },
    {
      "cell_type": "code",
      "metadata": {
        "id": "Uj5F7ZzI29B_"
      },
      "source": [
        "# Getting the most representative tweet of each cluster\n",
        "closest, _ = pairwise_distances_argmin_min(model.cluster_centers_, X)"
      ],
      "execution_count": 46,
      "outputs": []
    },
    {
      "cell_type": "code",
      "metadata": {
        "colab": {
          "base_uri": "https://localhost:8080/",
          "height": 491
        },
        "id": "MCMoZ4A23DmK",
        "outputId": "2c98ea78-61de-4b16-84c4-f87b37551c96"
      },
      "source": [
        "# Showing most representative tweet for each cluster and comparing to negative reason column\n",
        "mostReprTweets = clusteredTweets.iloc[closest]\n",
        "#mostReprTweets[\"negativereason\"] = dataset.negativereason[closest]\n",
        "mostReprTweets"
      ],
      "execution_count": 48,
      "outputs": [
        {
          "output_type": "execute_result",
          "data": {
            "text/html": [
              "<div>\n",
              "<style scoped>\n",
              "    .dataframe tbody tr th:only-of-type {\n",
              "        vertical-align: middle;\n",
              "    }\n",
              "\n",
              "    .dataframe tbody tr th {\n",
              "        vertical-align: top;\n",
              "    }\n",
              "\n",
              "    .dataframe thead th {\n",
              "        text-align: right;\n",
              "    }\n",
              "</style>\n",
              "<table border=\"1\" class=\"dataframe\">\n",
              "  <thead>\n",
              "    <tr style=\"text-align: right;\">\n",
              "      <th></th>\n",
              "      <th>text</th>\n",
              "      <th>cluster</th>\n",
              "    </tr>\n",
              "  </thead>\n",
              "  <tbody>\n",
              "    <tr>\n",
              "      <th>492</th>\n",
              "      <td>Sri Lanka is a amazing country for hikes with ...</td>\n",
              "      <td>0</td>\n",
              "    </tr>\n",
              "    <tr>\n",
              "      <th>276</th>\n",
              "      <td>Sri Lanka🤗</td>\n",
              "      <td>1</td>\n",
              "    </tr>\n",
              "    <tr>\n",
              "      <th>373</th>\n",
              "      <td>Tripavi is equipped with different types of ve...</td>\n",
              "      <td>2</td>\n",
              "    </tr>\n",
              "    <tr>\n",
              "      <th>341</th>\n",
              "      <td>Best Places to Visit in Sri Lanka with Tripavi...</td>\n",
              "      <td>3</td>\n",
              "    </tr>\n",
              "    <tr>\n",
              "      <th>412</th>\n",
              "      <td>SriLankaHolidays Tripavi</td>\n",
              "      <td>4</td>\n",
              "    </tr>\n",
              "    <tr>\n",
              "      <th>286</th>\n",
              "      <td>_soul  Hi why don’t you do one to Sri Lanks☺️...</td>\n",
              "      <td>5</td>\n",
              "    </tr>\n",
              "    <tr>\n",
              "      <th>415</th>\n",
              "      <td>Sri Lanka Cricket 🏏 opens it’s first Cricket m...</td>\n",
              "      <td>6</td>\n",
              "    </tr>\n",
              "    <tr>\n",
              "      <th>304</th>\n",
              "      <td>Planning on a group tour this winter, look no ...</td>\n",
              "      <td>7</td>\n",
              "    </tr>\n",
              "    <tr>\n",
              "      <th>327</th>\n",
              "      <td>Belhuloya, the link pass within the dry and we...</td>\n",
              "      <td>8</td>\n",
              "    </tr>\n",
              "    <tr>\n",
              "      <th>191</th>\n",
              "      <td>Our great passion at tripavi is customer satis...</td>\n",
              "      <td>9</td>\n",
              "    </tr>\n",
              "    <tr>\n",
              "      <th>7</th>\n",
              "      <td>😂$$$$$</td>\n",
              "      <td>10</td>\n",
              "    </tr>\n",
              "    <tr>\n",
              "      <th>116</th>\n",
              "      <td>Dambulla Rock Temple complex sits 160m above t...</td>\n",
              "      <td>11</td>\n",
              "    </tr>\n",
              "    <tr>\n",
              "      <th>171</th>\n",
              "      <td>Pigeon Island marine national park is one of t...</td>\n",
              "      <td>12</td>\n",
              "    </tr>\n",
              "    <tr>\n",
              "      <th>399</th>\n",
              "      <td>Wild Coast Tented Lodge, adjacent  to  the wor...</td>\n",
              "      <td>13</td>\n",
              "    </tr>\n",
              "    <tr>\n",
              "      <th>214</th>\n",
              "      <td>Our rice fields are a treat to your eye, a pri...</td>\n",
              "      <td>14</td>\n",
              "    </tr>\n",
              "  </tbody>\n",
              "</table>\n",
              "</div>"
            ],
            "text/plain": [
              "                                                  text  cluster\n",
              "492  Sri Lanka is a amazing country for hikes with ...        0\n",
              "276                                        Sri Lanka🤗         1\n",
              "373  Tripavi is equipped with different types of ve...        2\n",
              "341  Best Places to Visit in Sri Lanka with Tripavi...        3\n",
              "412                          SriLankaHolidays Tripavi         4\n",
              "286   _soul  Hi why don’t you do one to Sri Lanks☺️...        5\n",
              "415  Sri Lanka Cricket 🏏 opens it’s first Cricket m...        6\n",
              "304  Planning on a group tour this winter, look no ...        7\n",
              "327  Belhuloya, the link pass within the dry and we...        8\n",
              "191  Our great passion at tripavi is customer satis...        9\n",
              "7                                               😂$$$$$       10\n",
              "116  Dambulla Rock Temple complex sits 160m above t...       11\n",
              "171  Pigeon Island marine national park is one of t...       12\n",
              "399  Wild Coast Tented Lodge, adjacent  to  the wor...       13\n",
              "214  Our rice fields are a treat to your eye, a pri...       14"
            ]
          },
          "metadata": {
            "tags": []
          },
          "execution_count": 48
        }
      ]
    },
    {
      "cell_type": "code",
      "metadata": {
        "id": "xOH_C5WV3OtH"
      },
      "source": [
        ""
      ],
      "execution_count": null,
      "outputs": []
    }
  ]
}